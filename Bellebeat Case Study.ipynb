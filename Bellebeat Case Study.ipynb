{
 "cells": [
  {
   "cell_type": "markdown",
   "id": "84aba4ad",
   "metadata": {},
   "source": [
    "---\n",
    "\n",
    "## <span style=\"color:#ED9D4A\"> Bellebeat Case Study</span>  \n",
    "**Na'ol Kebede**\n",
    "**February 10, 2022**\n",
    "\n",
    "---"
   ]
  },
  {
   "cell_type": "markdown",
   "id": "10484c73",
   "metadata": {},
   "source": [
    "### <span style=\"color:#ED9D4A\"> Table Of Contents</span> \n",
    "\n",
    "* [1. Intro](#head_1)\n",
    "* [2. The business task](#head_2)\n",
    "* [3. Data information](#head_3)\n",
    "    * [3.1 Data privacy, accessibility, and reliability](#head_3_1)\n",
    "    * [3.2 Data and limitations](#head_3_2)\n",
    "* [4. Clean, Process, and Analysis](#head_4)\n",
    "    * [4.1 Clean and Process data](#head_4_1)\n",
    "    * [4.2 Analysis data](#head_4_2)\n",
    "        * [4.2.1 daily_activity](#head_4_2_1)\n",
    "        * [4.2.2 Hour and sleep data analysis](#head_4_2_2)\n",
    "* [5. Conclusion](#head_5)\n",
    "  * [5.1 Insights](#head_5_1)\n",
    "  * [5.4 Strategy](#head_5_2)\n",
    "* [6. Bibliography](#head_6)"
   ]
  },
  {
   "cell_type": "markdown",
   "id": "1e9384da",
   "metadata": {},
   "source": [
    "---\n",
    "## <span style=\"color:#ED9D4A\">1. Introduction</span>  <a class=\"anchor\" id=\"head_1\"></a>\n",
    "\n",
    "<a href=\"https://bellabeat.com/\">Bellabeat</a> is a successful wellness brand for women with an ecosystem of products and services focused on women’s health. Bellabeat develops wearables and accompanying products that monitor biometric and lifestyle data to help women better understand how their bodies work and make healthier choices. As a large player in the global smart device market, there are countless oppurtunities for the data they collect to be used for improvements to their business strategy. \n",
    "\n",
    "![Image of Bellabeat Product](https://i.imgur.com/SEKyIy9.jpg)"
   ]
  },
  {
   "cell_type": "markdown",
   "id": "5ca5903b",
   "metadata": {},
   "source": [
    "---\n",
    "## <span style=\"color:#ED9D4A\">2. The business task</span>  <a class=\"anchor\" id=\"head_2\"></a>\n",
    "\n",
    "**The business task:**\n",
    "\n",
    "Analyze secondary smart device data to gain insight into how consumers generally use their smart devices to identify general trends. Then use these trends to create reccomendations for Bellabeat’s marketing strategy.\n",
    "\n",
    "**Key stakeholders:**\n",
    "* Urška Sršen: Bellabeat’s cofounder and Chief Creative Officer\n",
    "* Sando Mur: Mathematician and Bellabeat’s cofounder; key member of the Bellabeat executive team\n",
    "* Bellabeat marketing analytics team.\n",
    "\n",
    "**Questions:**\n",
    "* What are some trends in smart device usage?\n",
    "* How could these trends apply to Bellabeat customers?\n",
    "* How could these trends help influence Bellabeat marketing strategy?\n",
    "\n",
    "**Bellabeat products chosen for the analysis:**\n",
    "\n",
    "*Bellabeat app:* The Bellabeat app provides users with health data related to their activity, sleep, stress, menstrual cycle, and mindfulness habits. This data can help users better understand their current habits and make healthy decisions. The Bellabeat app connects to their line of smart wellness products.\n",
    "\n",
    "*Leaf:* Bellabeat’s classic wellness tracker can be worn as a bracelet, necklace, or clip. The Leaf tracker connects to the Bellabeat app to track activity, sleep, and stress. At a cheaper price point than the Ivy, more impact could be seen on the Leaf that could be applied to the Ivy later if reccomendations lead to a beneficial return on investment. "
   ]
  },
  {
   "cell_type": "markdown",
   "id": "d91e37ef",
   "metadata": {},
   "source": [
    "---\n",
    "## <span style=\"color:#ED9D4A\">3. Data organization </span>  <a class=\"anchor\" id=\"head_3\"></a>\n",
    "\n",
    "### <span style=\"color:#ED9D4A\">3.1 Data privacy, accessibility, and reliability </span>  <a class=\"anchor\" id=\"head_3_1\"></a>\n",
    "\n",
    "**Data privacy**\n",
    "\n",
    "Thirty eligible Fitbit users consented to the submission of personal tracker data, including minute-level output for physical activity, heart rate, and sleep monitoring. It includes information about daily activity, steps, and heart rate that can be used to explore users’ habits. All information was anonymized and made publicly avaliable on kaggle for any purpose.\n",
    "\n",
    "**Data accessibility**\n",
    "\n",
    "This <a href=\"https://www.fitabase.com/media/1930/fitabasedatadictionary102320.pdf\">metadata</a> contains information about the data types and data description. It contains metadata for data not included in this analysis but all relevant information is there.\n",
    "\n",
    "**Data reliability**\n",
    "\n",
    "This data was collected through an Amazon MTurk survey. The process for the Fitbit data colllection was 30 MTurk workers who agreed to share their FitBit data with the researchers were routed to a third-party application called Fitabase, where their data was directly streamed from their devices to the Fitabase application. It was on survey particapants to record the relevant information during the month time period that would be collected [[1]](#cite_1).\n",
    "\n",
    "In 2018, A study with 1000 respondants from the University of Maryland on the demographics and opinions of Amazon Mechanical Turk workers that use health monitoring technologies, and their willingness to provide their health monitoring data for research purposes found some interesting trends [[2]](#cite_2). On demographics, the respondants were a muliracial group of young (74% were between 22 and 37, average 33) and well educated (71% had bachelor's degree or higher) individuals mostly from developed nations. The study did find compared to previous non health monitoring MTurk surveys, male participation was higher for their sample of MTurk workers using health monitoring technologies. It also demonstrated that a large majority use MTurk as a source of income, making it the largest motivational factor for using the service. Although this survey comes two years after the fitabase data was collected, it provides valuable information about the MTurk health monitoring population that we should keep in mind for this analysis. The demographic of interest for Bellabeat products is younger women although it would be best to have survey information to best identify their market population. Income level from the study is below the US average which could be outside of Bellabeats target audience. "
   ]
  },
  {
   "cell_type": "markdown",
   "id": "6c028fca",
   "metadata": {},
   "source": [
    "### <span style=\"color:#ED9D4A\">3.2 Data and limitations </span>  <a class=\"anchor\" id=\"head_3_2\"></a>\n",
    "\n",
    "**Data**\n",
    "\n",
    "<a href=\"https://www.kaggle.com/arashnic/fitbit\">FitBit Fitness Tracker Data</a> (CC0: Public Domain, dataset made available through <a href=\"https://www.kaggle.com/arashnic\">Mobius</a>): This Kaggle data set contains detailed fitness tracker information from thirty fitbit users between 4/12/2016 and 5/12/2016. The data set contains 18 csv files that range in both wide and long formats. Loading the data into MySQL, there are a number of unique ID's varying from 33 to 8. To reduce redundancy and maintain a reliable sample size, we will focus on 5 of the 18 files\n",
    "\n",
    "            dailyActivity_merged.csv, hourlyCaloriesNarrow_merged.csv, hourlyIntensitiesNarrow_merged.csv, \n",
    "            hourlyStepsNarrow_merged.csv, and sleepDay_merged.csv.\n",
    "\n",
    "Inital cleaning has been performed in MySQL.\n",
    "\n",
    "**Data Limitaions**\n",
    "There are limitation we have to consider during this analysis. There is data is not current (April 2016) and has no demographic information. The sample size is quite small and is not primary data about Bellabeat products. From the study metnioned above, we know that there maybe an overrepresentation of men which could skew the data."
   ]
  },
  {
   "cell_type": "markdown",
   "id": "d45b5338",
   "metadata": {},
   "source": [
    "---\n",
    "## <span style=\"color:#ED9D4A\">4. Clean, Processing, and Analysis </span>  <a class=\"anchor\" id=\"head_4\"></a>\n",
    "\n",
    "### <span style=\"color:#ED9D4A\">4.1 Clean and Process </span>  <a class=\"anchor\" id=\"head_4_1\"></a>"
   ]
  },
  {
   "cell_type": "code",
   "execution_count": 1,
   "id": "7c1e8583",
   "metadata": {},
   "outputs": [
    {
     "name": "stderr",
     "output_type": "stream",
     "text": [
      "-- \u001b[1mAttaching packages\u001b[22m ------------------------------------------------------------------------------- tidyverse 1.3.1 --\n",
      "\n",
      "\u001b[32mv\u001b[39m \u001b[34mggplot2\u001b[39m 3.3.5     \u001b[32mv\u001b[39m \u001b[34mpurrr  \u001b[39m 0.3.4\n",
      "\u001b[32mv\u001b[39m \u001b[34mtibble \u001b[39m 3.1.6     \u001b[32mv\u001b[39m \u001b[34mdplyr  \u001b[39m 1.0.7\n",
      "\u001b[32mv\u001b[39m \u001b[34mtidyr  \u001b[39m 1.1.4     \u001b[32mv\u001b[39m \u001b[34mstringr\u001b[39m 1.4.0\n",
      "\u001b[32mv\u001b[39m \u001b[34mreadr  \u001b[39m 2.1.1     \u001b[32mv\u001b[39m \u001b[34mforcats\u001b[39m 0.5.1\n",
      "\n",
      "-- \u001b[1mConflicts\u001b[22m ---------------------------------------------------------------------------------- tidyverse_conflicts() --\n",
      "\u001b[31mx\u001b[39m \u001b[34mdplyr\u001b[39m::\u001b[32mfilter()\u001b[39m masks \u001b[34mstats\u001b[39m::filter()\n",
      "\u001b[31mx\u001b[39m \u001b[34mdplyr\u001b[39m::\u001b[32mlag()\u001b[39m    masks \u001b[34mstats\u001b[39m::lag()\n",
      "\n",
      "\n",
      "Attaching package: 'lubridate'\n",
      "\n",
      "\n",
      "The following objects are masked from 'package:base':\n",
      "\n",
      "    date, intersect, setdiff, union\n",
      "\n",
      "\n",
      "\n",
      "Attaching package: 'janitor'\n",
      "\n",
      "\n",
      "The following objects are masked from 'package:stats':\n",
      "\n",
      "    chisq.test, fisher.test\n",
      "\n",
      "\n",
      "\n",
      "Attaching package: 'cowplot'\n",
      "\n",
      "\n",
      "The following object is masked from 'package:ggpubr':\n",
      "\n",
      "    get_legend\n",
      "\n",
      "\n",
      "The following object is masked from 'package:lubridate':\n",
      "\n",
      "    stamp\n",
      "\n",
      "\n"
     ]
    }
   ],
   "source": [
    "# Load necessary libraries\n",
    "library(tidyverse)\n",
    "library(lubridate)\n",
    "library(dplyr)\n",
    "library(skimr)\n",
    "library(janitor)\n",
    "library(ggpubr)\n",
    "library(cowplot)\n",
    "library(ggrepel)\n",
    "library(repr)"
   ]
  },
  {
   "cell_type": "code",
   "execution_count": 2,
   "id": "aecf3a4c",
   "metadata": {},
   "outputs": [],
   "source": [
    "# load pre cleaned csv data \n",
    "daily_activity <- read.csv(\"Fitabase_Data_4.12.16-5.12.16/daily_activity.csv\")\n",
    "hourly_calories <- read.csv(\"Fitabase_Data_4.12.16-5.12.16/hourly_calories.csv\")\n",
    "hourly_intensities <- read.csv(\"Fitabase_Data_4.12.16-5.12.16/hourly_intensities.csv\")\n",
    "hourly_steps <- read.csv(\"Fitabase_Data_4.12.16-5.12.16/hourly_steps.csv\")\n",
    "sleep_day <- read.csv(\"Fitabase_Data_4.12.16-5.12.16/sleep_day.csv\")"
   ]
  },
  {
   "cell_type": "code",
   "execution_count": 3,
   "id": "1acf162d",
   "metadata": {},
   "outputs": [
    {
     "data": {
      "text/html": [
       "<table class=\"dataframe\">\n",
       "<caption>A data.frame: 6 × 16</caption>\n",
       "<thead>\n",
       "\t<tr><th></th><th scope=col>Id</th><th scope=col>Dt</th><th scope=col>TotalSteps</th><th scope=col>TotalDistance</th><th scope=col>TrackerDistance</th><th scope=col>LoggedActivitiesDistance</th><th scope=col>VeryActiveDistance</th><th scope=col>ModeratelyActiveDistance</th><th scope=col>LightActiveDistance</th><th scope=col>SedentaryActiveDistance</th><th scope=col>VeryActiveMinutes</th><th scope=col>FairlyActiveMinutes</th><th scope=col>LightlyActiveMinutes</th><th scope=col>SedentaryMinutes</th><th scope=col>Calories</th><th scope=col>Datet</th></tr>\n",
       "\t<tr><th></th><th scope=col>&lt;dbl&gt;</th><th scope=col>&lt;chr&gt;</th><th scope=col>&lt;int&gt;</th><th scope=col>&lt;dbl&gt;</th><th scope=col>&lt;dbl&gt;</th><th scope=col>&lt;dbl&gt;</th><th scope=col>&lt;dbl&gt;</th><th scope=col>&lt;dbl&gt;</th><th scope=col>&lt;dbl&gt;</th><th scope=col>&lt;dbl&gt;</th><th scope=col>&lt;int&gt;</th><th scope=col>&lt;int&gt;</th><th scope=col>&lt;int&gt;</th><th scope=col>&lt;int&gt;</th><th scope=col>&lt;int&gt;</th><th scope=col>&lt;chr&gt;</th></tr>\n",
       "</thead>\n",
       "<tbody>\n",
       "\t<tr><th scope=row>1</th><td>1503960366</td><td>4-12-2016</td><td>13162</td><td>8.50</td><td>8.50</td><td>0</td><td>1.88</td><td>0.55</td><td>6.06</td><td>0</td><td>25</td><td>13</td><td>328</td><td> 728</td><td>1985</td><td>2016-04-12 00:00:00</td></tr>\n",
       "\t<tr><th scope=row>2</th><td>1503960366</td><td>4-13-2016</td><td>10735</td><td>6.97</td><td>6.97</td><td>0</td><td>1.57</td><td>0.69</td><td>4.71</td><td>0</td><td>21</td><td>19</td><td>217</td><td> 776</td><td>1797</td><td>2016-04-13 00:00:00</td></tr>\n",
       "\t<tr><th scope=row>3</th><td>1503960366</td><td>4-14-2016</td><td>10460</td><td>6.74</td><td>6.74</td><td>0</td><td>2.44</td><td>0.40</td><td>3.91</td><td>0</td><td>30</td><td>11</td><td>181</td><td>1218</td><td>1776</td><td>2016-04-14 00:00:00</td></tr>\n",
       "\t<tr><th scope=row>4</th><td>1503960366</td><td>4-15-2016</td><td> 9762</td><td>6.28</td><td>6.28</td><td>0</td><td>2.14</td><td>1.26</td><td>2.83</td><td>0</td><td>29</td><td>34</td><td>209</td><td> 726</td><td>1745</td><td>2016-04-15 00:00:00</td></tr>\n",
       "\t<tr><th scope=row>5</th><td>1503960366</td><td>4-16-2016</td><td>12669</td><td>8.16</td><td>8.16</td><td>0</td><td>2.71</td><td>0.41</td><td>5.04</td><td>0</td><td>36</td><td>10</td><td>221</td><td> 773</td><td>1863</td><td>2016-04-16 00:00:00</td></tr>\n",
       "\t<tr><th scope=row>6</th><td>1503960366</td><td>4-17-2016</td><td> 9705</td><td>6.48</td><td>6.48</td><td>0</td><td>3.19</td><td>0.78</td><td>2.51</td><td>0</td><td>38</td><td>20</td><td>164</td><td> 539</td><td>1728</td><td>2016-04-17 00:00:00</td></tr>\n",
       "</tbody>\n",
       "</table>\n"
      ],
      "text/latex": [
       "A data.frame: 6 × 16\n",
       "\\begin{tabular}{r|llllllllllllllll}\n",
       "  & Id & Dt & TotalSteps & TotalDistance & TrackerDistance & LoggedActivitiesDistance & VeryActiveDistance & ModeratelyActiveDistance & LightActiveDistance & SedentaryActiveDistance & VeryActiveMinutes & FairlyActiveMinutes & LightlyActiveMinutes & SedentaryMinutes & Calories & Datet\\\\\n",
       "  & <dbl> & <chr> & <int> & <dbl> & <dbl> & <dbl> & <dbl> & <dbl> & <dbl> & <dbl> & <int> & <int> & <int> & <int> & <int> & <chr>\\\\\n",
       "\\hline\n",
       "\t1 & 1503960366 & 4-12-2016 & 13162 & 8.50 & 8.50 & 0 & 1.88 & 0.55 & 6.06 & 0 & 25 & 13 & 328 &  728 & 1985 & 2016-04-12 00:00:00\\\\\n",
       "\t2 & 1503960366 & 4-13-2016 & 10735 & 6.97 & 6.97 & 0 & 1.57 & 0.69 & 4.71 & 0 & 21 & 19 & 217 &  776 & 1797 & 2016-04-13 00:00:00\\\\\n",
       "\t3 & 1503960366 & 4-14-2016 & 10460 & 6.74 & 6.74 & 0 & 2.44 & 0.40 & 3.91 & 0 & 30 & 11 & 181 & 1218 & 1776 & 2016-04-14 00:00:00\\\\\n",
       "\t4 & 1503960366 & 4-15-2016 &  9762 & 6.28 & 6.28 & 0 & 2.14 & 1.26 & 2.83 & 0 & 29 & 34 & 209 &  726 & 1745 & 2016-04-15 00:00:00\\\\\n",
       "\t5 & 1503960366 & 4-16-2016 & 12669 & 8.16 & 8.16 & 0 & 2.71 & 0.41 & 5.04 & 0 & 36 & 10 & 221 &  773 & 1863 & 2016-04-16 00:00:00\\\\\n",
       "\t6 & 1503960366 & 4-17-2016 &  9705 & 6.48 & 6.48 & 0 & 3.19 & 0.78 & 2.51 & 0 & 38 & 20 & 164 &  539 & 1728 & 2016-04-17 00:00:00\\\\\n",
       "\\end{tabular}\n"
      ],
      "text/markdown": [
       "\n",
       "A data.frame: 6 × 16\n",
       "\n",
       "| <!--/--> | Id &lt;dbl&gt; | Dt &lt;chr&gt; | TotalSteps &lt;int&gt; | TotalDistance &lt;dbl&gt; | TrackerDistance &lt;dbl&gt; | LoggedActivitiesDistance &lt;dbl&gt; | VeryActiveDistance &lt;dbl&gt; | ModeratelyActiveDistance &lt;dbl&gt; | LightActiveDistance &lt;dbl&gt; | SedentaryActiveDistance &lt;dbl&gt; | VeryActiveMinutes &lt;int&gt; | FairlyActiveMinutes &lt;int&gt; | LightlyActiveMinutes &lt;int&gt; | SedentaryMinutes &lt;int&gt; | Calories &lt;int&gt; | Datet &lt;chr&gt; |\n",
       "|---|---|---|---|---|---|---|---|---|---|---|---|---|---|---|---|---|\n",
       "| 1 | 1503960366 | 4-12-2016 | 13162 | 8.50 | 8.50 | 0 | 1.88 | 0.55 | 6.06 | 0 | 25 | 13 | 328 |  728 | 1985 | 2016-04-12 00:00:00 |\n",
       "| 2 | 1503960366 | 4-13-2016 | 10735 | 6.97 | 6.97 | 0 | 1.57 | 0.69 | 4.71 | 0 | 21 | 19 | 217 |  776 | 1797 | 2016-04-13 00:00:00 |\n",
       "| 3 | 1503960366 | 4-14-2016 | 10460 | 6.74 | 6.74 | 0 | 2.44 | 0.40 | 3.91 | 0 | 30 | 11 | 181 | 1218 | 1776 | 2016-04-14 00:00:00 |\n",
       "| 4 | 1503960366 | 4-15-2016 |  9762 | 6.28 | 6.28 | 0 | 2.14 | 1.26 | 2.83 | 0 | 29 | 34 | 209 |  726 | 1745 | 2016-04-15 00:00:00 |\n",
       "| 5 | 1503960366 | 4-16-2016 | 12669 | 8.16 | 8.16 | 0 | 2.71 | 0.41 | 5.04 | 0 | 36 | 10 | 221 |  773 | 1863 | 2016-04-16 00:00:00 |\n",
       "| 6 | 1503960366 | 4-17-2016 |  9705 | 6.48 | 6.48 | 0 | 3.19 | 0.78 | 2.51 | 0 | 38 | 20 | 164 |  539 | 1728 | 2016-04-17 00:00:00 |\n",
       "\n"
      ],
      "text/plain": [
       "  Id         Dt        TotalSteps TotalDistance TrackerDistance\n",
       "1 1503960366 4-12-2016 13162      8.50          8.50           \n",
       "2 1503960366 4-13-2016 10735      6.97          6.97           \n",
       "3 1503960366 4-14-2016 10460      6.74          6.74           \n",
       "4 1503960366 4-15-2016  9762      6.28          6.28           \n",
       "5 1503960366 4-16-2016 12669      8.16          8.16           \n",
       "6 1503960366 4-17-2016  9705      6.48          6.48           \n",
       "  LoggedActivitiesDistance VeryActiveDistance ModeratelyActiveDistance\n",
       "1 0                        1.88               0.55                    \n",
       "2 0                        1.57               0.69                    \n",
       "3 0                        2.44               0.40                    \n",
       "4 0                        2.14               1.26                    \n",
       "5 0                        2.71               0.41                    \n",
       "6 0                        3.19               0.78                    \n",
       "  LightActiveDistance SedentaryActiveDistance VeryActiveMinutes\n",
       "1 6.06                0                       25               \n",
       "2 4.71                0                       21               \n",
       "3 3.91                0                       30               \n",
       "4 2.83                0                       29               \n",
       "5 5.04                0                       36               \n",
       "6 2.51                0                       38               \n",
       "  FairlyActiveMinutes LightlyActiveMinutes SedentaryMinutes Calories\n",
       "1 13                  328                   728             1985    \n",
       "2 19                  217                   776             1797    \n",
       "3 11                  181                  1218             1776    \n",
       "4 34                  209                   726             1745    \n",
       "5 10                  221                   773             1863    \n",
       "6 20                  164                   539             1728    \n",
       "  Datet              \n",
       "1 2016-04-12 00:00:00\n",
       "2 2016-04-13 00:00:00\n",
       "3 2016-04-14 00:00:00\n",
       "4 2016-04-15 00:00:00\n",
       "5 2016-04-16 00:00:00\n",
       "6 2016-04-17 00:00:00"
      ]
     },
     "metadata": {},
     "output_type": "display_data"
    }
   ],
   "source": [
    "head(daily_activity)"
   ]
  },
  {
   "cell_type": "markdown",
   "id": "bec99624",
   "metadata": {},
   "source": [
    "*Note: distances are in kilometers*"
   ]
  },
  {
   "cell_type": "markdown",
   "id": "b56b3cd7",
   "metadata": {},
   "source": [
    "The first cleaning step is to take the formated Datet from the SQL cleaning and convert it into the appropriate datetime datatype."
   ]
  },
  {
   "cell_type": "code",
   "execution_count": 4,
   "id": "ae60370b",
   "metadata": {},
   "outputs": [
    {
     "name": "stdout",
     "output_type": "stream",
     "text": [
      "'data.frame':\t22099 obs. of  4 variables:\n",
      " $ Id      : Factor w/ 33 levels \"1503960366\",\"1624580081\",..: 1 1 1 1 1 1 1 1 1 1 ...\n",
      " $ Dt      : chr  \"4-12-2016 12:00:00 AM\" \"4-12-2016 1:00:00 AM\" \"4-12-2016 2:00:00 AM\" \"4-12-2016 3:00:00 AM\" ...\n",
      " $ Calories: int  81 61 59 47 48 48 48 47 68 141 ...\n",
      " $ Datet   : POSIXct, format: \"2016-04-12 00:00:00\" \"2016-04-12 01:00:00\" ...\n"
     ]
    }
   ],
   "source": [
    "# convert char date data into correct datetime data type\n",
    "daily_activity$Datet <- as.POSIXct(daily_activity$Datet)\n",
    "hourly_calories$Datet <- as.POSIXct(hourly_calories$Datet)\n",
    "hourly_intensities$Datet <- as.POSIXct(hourly_intensities$Datet)\n",
    "hourly_steps$Datet <- as.POSIXct(hourly_steps$Datet)\n",
    "sleep_day$Datet <- as.POSIXct(sleep_day$Datet)\n",
    "\n",
    "daily_activity$Id <- as.factor(daily_activity$Id)\n",
    "hourly_calories$Id <- as.factor(hourly_calories$Id)\n",
    "hourly_intensities$Id <- as.factor(hourly_intensities$Id)\n",
    "hourly_steps$Id <- as.factor(hourly_steps$Id)\n",
    "sleep_day$Id <- as.factor(sleep_day$Id)\n",
    "\n",
    "#test to check operation\n",
    "str(hourly_calories)"
   ]
  },
  {
   "cell_type": "markdown",
   "id": "1bfb36fa",
   "metadata": {},
   "source": [
    "Next, it is important to understand the the unique ID's we have present."
   ]
  },
  {
   "cell_type": "code",
   "execution_count": 5,
   "id": "ca0e77ec",
   "metadata": {},
   "outputs": [
    {
     "data": {
      "text/html": [
       "33"
      ],
      "text/latex": [
       "33"
      ],
      "text/markdown": [
       "33"
      ],
      "text/plain": [
       "[1] 33"
      ]
     },
     "metadata": {},
     "output_type": "display_data"
    },
    {
     "data": {
      "text/html": [
       "33"
      ],
      "text/latex": [
       "33"
      ],
      "text/markdown": [
       "33"
      ],
      "text/plain": [
       "[1] 33"
      ]
     },
     "metadata": {},
     "output_type": "display_data"
    },
    {
     "data": {
      "text/html": [
       "33"
      ],
      "text/latex": [
       "33"
      ],
      "text/markdown": [
       "33"
      ],
      "text/plain": [
       "[1] 33"
      ]
     },
     "metadata": {},
     "output_type": "display_data"
    },
    {
     "data": {
      "text/html": [
       "33"
      ],
      "text/latex": [
       "33"
      ],
      "text/markdown": [
       "33"
      ],
      "text/plain": [
       "[1] 33"
      ]
     },
     "metadata": {},
     "output_type": "display_data"
    },
    {
     "data": {
      "text/html": [
       "24"
      ],
      "text/latex": [
       "24"
      ],
      "text/markdown": [
       "24"
      ],
      "text/plain": [
       "[1] 24"
      ]
     },
     "metadata": {},
     "output_type": "display_data"
    }
   ],
   "source": [
    "#identify unqiue ID's\n",
    "n_distinct(daily_activity$Id)  \n",
    "n_distinct(hourly_calories$Id) \n",
    "n_distinct(hourly_intensities$Id) \n",
    "n_distinct(hourly_steps$Id) \n",
    "n_distinct(sleep_day$Id) "
   ]
  },
  {
   "cell_type": "markdown",
   "id": "a3146ea7",
   "metadata": {},
   "source": [
    "Hear we can see even though there are reportedly 30 participant, there are 33 unique ID's for some data which could some of the participants using more than one device to track data. This is the most likely reason from disscussion of the dataset on Kaggle. It also appears that 6 participants did not keep track of their sleeping data. However, it could be even less if duplicates are included in the sleep data although there is no way to prove either. "
   ]
  },
  {
   "cell_type": "markdown",
   "id": "af6731d0",
   "metadata": {},
   "source": [
    "Next, we can check for null or missing data that needs to be removed. A good rule of thumb is for data errors that make up less than 20% of your data is it generally safe to remove them for analysis."
   ]
  },
  {
   "cell_type": "code",
   "execution_count": 6,
   "id": "54cb38ab",
   "metadata": {},
   "outputs": [
    {
     "data": {
      "text/html": [
       "0"
      ],
      "text/latex": [
       "0"
      ],
      "text/markdown": [
       "0"
      ],
      "text/plain": [
       "[1] 0"
      ]
     },
     "metadata": {},
     "output_type": "display_data"
    },
    {
     "data": {
      "text/html": [
       "0"
      ],
      "text/latex": [
       "0"
      ],
      "text/markdown": [
       "0"
      ],
      "text/plain": [
       "[1] 0"
      ]
     },
     "metadata": {},
     "output_type": "display_data"
    },
    {
     "data": {
      "text/html": [
       "0"
      ],
      "text/latex": [
       "0"
      ],
      "text/markdown": [
       "0"
      ],
      "text/plain": [
       "[1] 0"
      ]
     },
     "metadata": {},
     "output_type": "display_data"
    },
    {
     "data": {
      "text/html": [
       "0"
      ],
      "text/latex": [
       "0"
      ],
      "text/markdown": [
       "0"
      ],
      "text/plain": [
       "[1] 0"
      ]
     },
     "metadata": {},
     "output_type": "display_data"
    },
    {
     "data": {
      "text/html": [
       "3"
      ],
      "text/latex": [
       "3"
      ],
      "text/markdown": [
       "3"
      ],
      "text/plain": [
       "[1] 3"
      ]
     },
     "metadata": {},
     "output_type": "display_data"
    }
   ],
   "source": [
    "# find total duplicated values for each file\n",
    "sum(duplicated(daily_activity))\n",
    "sum(duplicated(hourly_calories))\n",
    "sum(duplicated(hourly_intensities)) \n",
    "sum(duplicated(hourly_steps))\n",
    "sum(duplicated(sleep_day))"
   ]
  },
  {
   "cell_type": "code",
   "execution_count": 7,
   "id": "d270a3e9",
   "metadata": {},
   "outputs": [
    {
     "data": {
      "text/html": [
       "0.726392251815981"
      ],
      "text/latex": [
       "0.726392251815981"
      ],
      "text/markdown": [
       "0.726392251815981"
      ],
      "text/plain": [
       "[1] 0.7263923"
      ]
     },
     "metadata": {},
     "output_type": "display_data"
    }
   ],
   "source": [
    "3/nrow(sleep_day)*100"
   ]
  },
  {
   "cell_type": "markdown",
   "id": "9eba976b",
   "metadata": {},
   "source": [
    "Since for the dataframe the duplicates make up less than a percent, we can remove them from our data."
   ]
  },
  {
   "cell_type": "code",
   "execution_count": 8,
   "id": "446bddab",
   "metadata": {},
   "outputs": [],
   "source": [
    "# grep finds all indexes where a statement matches a condition,\n",
    "# that is used to find all values outside of the list returned\n",
    "sleep_day <- sleep_day[-grep(TRUE,(duplicated(sleep_day))),]"
   ]
  },
  {
   "cell_type": "code",
   "execution_count": 9,
   "id": "700334a9",
   "metadata": {},
   "outputs": [
    {
     "data": {
      "text/html": [
       "0"
      ],
      "text/latex": [
       "0"
      ],
      "text/markdown": [
       "0"
      ],
      "text/plain": [
       "[1] 0"
      ]
     },
     "metadata": {},
     "output_type": "display_data"
    }
   ],
   "source": [
    "sum(duplicated(sleep_day))"
   ]
  },
  {
   "cell_type": "code",
   "execution_count": 10,
   "id": "ab1af554",
   "metadata": {},
   "outputs": [
    {
     "data": {
      "text/html": [
       "0"
      ],
      "text/latex": [
       "0"
      ],
      "text/markdown": [
       "0"
      ],
      "text/plain": [
       "[1] 0"
      ]
     },
     "metadata": {},
     "output_type": "display_data"
    },
    {
     "data": {
      "text/html": [
       "0"
      ],
      "text/latex": [
       "0"
      ],
      "text/markdown": [
       "0"
      ],
      "text/plain": [
       "[1] 0"
      ]
     },
     "metadata": {},
     "output_type": "display_data"
    },
    {
     "data": {
      "text/html": [
       "0"
      ],
      "text/latex": [
       "0"
      ],
      "text/markdown": [
       "0"
      ],
      "text/plain": [
       "[1] 0"
      ]
     },
     "metadata": {},
     "output_type": "display_data"
    },
    {
     "data": {
      "text/html": [
       "0"
      ],
      "text/latex": [
       "0"
      ],
      "text/markdown": [
       "0"
      ],
      "text/plain": [
       "[1] 0"
      ]
     },
     "metadata": {},
     "output_type": "display_data"
    },
    {
     "data": {
      "text/html": [
       "0"
      ],
      "text/latex": [
       "0"
      ],
      "text/markdown": [
       "0"
      ],
      "text/plain": [
       "[1] 0"
      ]
     },
     "metadata": {},
     "output_type": "display_data"
    }
   ],
   "source": [
    "# find all NULL values\n",
    "sum(is.na(daily_activity))\n",
    "sum(is.na(hourly_calories))\n",
    "sum(is.na(hourly_intensities)) \n",
    "sum(is.na(hourly_steps))\n",
    "sum(is.na(sleep_day))"
   ]
  },
  {
   "cell_type": "markdown",
   "id": "3c5b69d3",
   "metadata": {},
   "source": [
    "There are no NA values to remove from the data, so let's move on to a colums in the daily_activity dataframe,\n",
    "LoggedActivitiesDistance."
   ]
  },
  {
   "cell_type": "code",
   "execution_count": 11,
   "id": "b9f1244c",
   "metadata": {},
   "outputs": [
    {
     "data": {
      "text/html": [
       "32"
      ],
      "text/latex": [
       "32"
      ],
      "text/markdown": [
       "32"
      ],
      "text/plain": [
       "[1] 32"
      ]
     },
     "metadata": {},
     "output_type": "display_data"
    }
   ],
   "source": [
    "length(grep(TRUE, daily_activity$LoggedActivitiesDistance != 0))"
   ]
  },
  {
   "cell_type": "code",
   "execution_count": 12,
   "id": "7bb9531d",
   "metadata": {},
   "outputs": [
    {
     "data": {
      "text/html": [
       "3.40425531914894"
      ],
      "text/latex": [
       "3.40425531914894"
      ],
      "text/markdown": [
       "3.40425531914894"
      ],
      "text/plain": [
       "[1] 3.404255"
      ]
     },
     "metadata": {},
     "output_type": "display_data"
    }
   ],
   "source": [
    "32/nrow(daily_activity)*100"
   ]
  },
  {
   "cell_type": "markdown",
   "id": "b02d4bd4",
   "metadata": {},
   "source": [
    "Initially, it seemed to me that the total distance and logged distances should be the same. However, we can see that there are only 32 values where the logged distance is not 0. From the metadata file, loggedactivitydistance is the total kilometers from logged activities. Although it is a rather small sub sample of the daily_activity data, it will be interesting to see if any trends are associated with logged distance rather than tracker distance"
   ]
  },
  {
   "cell_type": "markdown",
   "id": "ccce7495",
   "metadata": {},
   "source": [
    "Lets now look at the domain of attributes to understand if there are values that are not null, but do not fit within an acceptable range."
   ]
  },
  {
   "cell_type": "code",
   "execution_count": 13,
   "id": "c0ca9c74",
   "metadata": {},
   "outputs": [
    {
     "data": {
      "text/plain": [
       "   TotalSteps    TotalDistance    TrackerDistance  LoggedActivitiesDistance\n",
       " Min.   :    0   Min.   : 0.000   Min.   : 0.000   Min.   :0.0000          \n",
       " 1st Qu.: 3790   1st Qu.: 2.620   1st Qu.: 2.620   1st Qu.:0.0000          \n",
       " Median : 7406   Median : 5.245   Median : 5.245   Median :0.0000          \n",
       " Mean   : 7638   Mean   : 5.490   Mean   : 5.475   Mean   :0.1082          \n",
       " 3rd Qu.:10727   3rd Qu.: 7.713   3rd Qu.: 7.710   3rd Qu.:0.0000          \n",
       " Max.   :36019   Max.   :28.030   Max.   :28.030   Max.   :4.9421          \n",
       " VeryActiveDistance ModeratelyActiveDistance LightActiveDistance\n",
       " Min.   : 0.000     Min.   :0.0000           Min.   : 0.000     \n",
       " 1st Qu.: 0.000     1st Qu.:0.0000           1st Qu.: 1.945     \n",
       " Median : 0.210     Median :0.2400           Median : 3.365     \n",
       " Mean   : 1.503     Mean   :0.5675           Mean   : 3.341     \n",
       " 3rd Qu.: 2.053     3rd Qu.:0.8000           3rd Qu.: 4.782     \n",
       " Max.   :21.920     Max.   :6.4800           Max.   :10.710     \n",
       " SedentaryActiveDistance VeryActiveMinutes FairlyActiveMinutes\n",
       " Min.   :0.000000        Min.   :  0.00    Min.   :  0.00     \n",
       " 1st Qu.:0.000000        1st Qu.:  0.00    1st Qu.:  0.00     \n",
       " Median :0.000000        Median :  4.00    Median :  6.00     \n",
       " Mean   :0.001606        Mean   : 21.16    Mean   : 13.56     \n",
       " 3rd Qu.:0.000000        3rd Qu.: 32.00    3rd Qu.: 19.00     \n",
       " Max.   :0.110000        Max.   :210.00    Max.   :143.00     \n",
       " LightlyActiveMinutes SedentaryMinutes    Calories   \n",
       " Min.   :  0.0        Min.   :   0.0   Min.   :   0  \n",
       " 1st Qu.:127.0        1st Qu.: 729.8   1st Qu.:1828  \n",
       " Median :199.0        Median :1057.5   Median :2134  \n",
       " Mean   :192.8        Mean   : 991.2   Mean   :2304  \n",
       " 3rd Qu.:264.0        3rd Qu.:1229.5   3rd Qu.:2793  \n",
       " Max.   :518.0        Max.   :1440.0   Max.   :4900  "
      ]
     },
     "metadata": {},
     "output_type": "display_data"
    }
   ],
   "source": [
    "summary(subset(daily_activity, select = -c(Id, Dt, Datet)))"
   ]
  },
  {
   "cell_type": "markdown",
   "id": "9609dd74",
   "metadata": {},
   "source": [
    "**Sedentary Minutes**"
   ]
  },
  {
   "cell_type": "code",
   "execution_count": 14,
   "id": "4d572623",
   "metadata": {},
   "outputs": [
    {
     "data": {
      "text/html": [
       "<table class=\"dataframe\">\n",
       "<caption>A data.frame: 6 × 16</caption>\n",
       "<thead>\n",
       "\t<tr><th></th><th scope=col>Id</th><th scope=col>Dt</th><th scope=col>TotalSteps</th><th scope=col>TotalDistance</th><th scope=col>TrackerDistance</th><th scope=col>LoggedActivitiesDistance</th><th scope=col>VeryActiveDistance</th><th scope=col>ModeratelyActiveDistance</th><th scope=col>LightActiveDistance</th><th scope=col>SedentaryActiveDistance</th><th scope=col>VeryActiveMinutes</th><th scope=col>FairlyActiveMinutes</th><th scope=col>LightlyActiveMinutes</th><th scope=col>SedentaryMinutes</th><th scope=col>Calories</th><th scope=col>Datet</th></tr>\n",
       "\t<tr><th></th><th scope=col>&lt;fct&gt;</th><th scope=col>&lt;chr&gt;</th><th scope=col>&lt;int&gt;</th><th scope=col>&lt;dbl&gt;</th><th scope=col>&lt;dbl&gt;</th><th scope=col>&lt;dbl&gt;</th><th scope=col>&lt;dbl&gt;</th><th scope=col>&lt;dbl&gt;</th><th scope=col>&lt;dbl&gt;</th><th scope=col>&lt;dbl&gt;</th><th scope=col>&lt;int&gt;</th><th scope=col>&lt;int&gt;</th><th scope=col>&lt;int&gt;</th><th scope=col>&lt;int&gt;</th><th scope=col>&lt;int&gt;</th><th scope=col>&lt;dttm&gt;</th></tr>\n",
       "</thead>\n",
       "<tbody>\n",
       "\t<tr><th scope=row>871</th><td>8583815059</td><td>5-3-2016 </td><td>12015</td><td>9.37</td><td>9.37</td><td>0</td><td>0</td><td>0</td><td>0</td><td>0</td><td>0</td><td>0</td><td>0</td><td>1440</td><td>3212</td><td>2016-05-03</td></tr>\n",
       "\t<tr><th scope=row>413</th><td>4388161847</td><td>4-12-2016</td><td>10122</td><td>7.78</td><td>7.78</td><td>0</td><td>0</td><td>0</td><td>0</td><td>0</td><td>0</td><td>0</td><td>0</td><td>1440</td><td>2955</td><td>2016-04-12</td></tr>\n",
       "\t<tr><th scope=row>870</th><td>8583815059</td><td>5-2-2016 </td><td> 8469</td><td>6.61</td><td>6.61</td><td>0</td><td>0</td><td>0</td><td>0</td><td>0</td><td>0</td><td>0</td><td>0</td><td>1440</td><td>2894</td><td>2016-05-02</td></tr>\n",
       "\t<tr><th scope=row>854</th><td>8583815059</td><td>4-16-2016</td><td> 5319</td><td>4.15</td><td>4.15</td><td>0</td><td>0</td><td>0</td><td>0</td><td>0</td><td>0</td><td>0</td><td>0</td><td>1440</td><td>2693</td><td>2016-04-16</td></tr>\n",
       "\t<tr><th scope=row>872</th><td>8583815059</td><td>5-4-2016 </td><td> 3588</td><td>2.80</td><td>2.80</td><td>0</td><td>0</td><td>0</td><td>0</td><td>0</td><td>0</td><td>0</td><td>0</td><td>1440</td><td>2516</td><td>2016-05-04</td></tr>\n",
       "\t<tr><th scope=row>855</th><td>8583815059</td><td>4-17-2016</td><td> 3008</td><td>2.35</td><td>2.35</td><td>0</td><td>0</td><td>0</td><td>0</td><td>0</td><td>0</td><td>0</td><td>0</td><td>1440</td><td>2439</td><td>2016-04-17</td></tr>\n",
       "</tbody>\n",
       "</table>\n"
      ],
      "text/latex": [
       "A data.frame: 6 × 16\n",
       "\\begin{tabular}{r|llllllllllllllll}\n",
       "  & Id & Dt & TotalSteps & TotalDistance & TrackerDistance & LoggedActivitiesDistance & VeryActiveDistance & ModeratelyActiveDistance & LightActiveDistance & SedentaryActiveDistance & VeryActiveMinutes & FairlyActiveMinutes & LightlyActiveMinutes & SedentaryMinutes & Calories & Datet\\\\\n",
       "  & <fct> & <chr> & <int> & <dbl> & <dbl> & <dbl> & <dbl> & <dbl> & <dbl> & <dbl> & <int> & <int> & <int> & <int> & <int> & <dttm>\\\\\n",
       "\\hline\n",
       "\t871 & 8583815059 & 5-3-2016  & 12015 & 9.37 & 9.37 & 0 & 0 & 0 & 0 & 0 & 0 & 0 & 0 & 1440 & 3212 & 2016-05-03\\\\\n",
       "\t413 & 4388161847 & 4-12-2016 & 10122 & 7.78 & 7.78 & 0 & 0 & 0 & 0 & 0 & 0 & 0 & 0 & 1440 & 2955 & 2016-04-12\\\\\n",
       "\t870 & 8583815059 & 5-2-2016  &  8469 & 6.61 & 6.61 & 0 & 0 & 0 & 0 & 0 & 0 & 0 & 0 & 1440 & 2894 & 2016-05-02\\\\\n",
       "\t854 & 8583815059 & 4-16-2016 &  5319 & 4.15 & 4.15 & 0 & 0 & 0 & 0 & 0 & 0 & 0 & 0 & 1440 & 2693 & 2016-04-16\\\\\n",
       "\t872 & 8583815059 & 5-4-2016  &  3588 & 2.80 & 2.80 & 0 & 0 & 0 & 0 & 0 & 0 & 0 & 0 & 1440 & 2516 & 2016-05-04\\\\\n",
       "\t855 & 8583815059 & 4-17-2016 &  3008 & 2.35 & 2.35 & 0 & 0 & 0 & 0 & 0 & 0 & 0 & 0 & 1440 & 2439 & 2016-04-17\\\\\n",
       "\\end{tabular}\n"
      ],
      "text/markdown": [
       "\n",
       "A data.frame: 6 × 16\n",
       "\n",
       "| <!--/--> | Id &lt;fct&gt; | Dt &lt;chr&gt; | TotalSteps &lt;int&gt; | TotalDistance &lt;dbl&gt; | TrackerDistance &lt;dbl&gt; | LoggedActivitiesDistance &lt;dbl&gt; | VeryActiveDistance &lt;dbl&gt; | ModeratelyActiveDistance &lt;dbl&gt; | LightActiveDistance &lt;dbl&gt; | SedentaryActiveDistance &lt;dbl&gt; | VeryActiveMinutes &lt;int&gt; | FairlyActiveMinutes &lt;int&gt; | LightlyActiveMinutes &lt;int&gt; | SedentaryMinutes &lt;int&gt; | Calories &lt;int&gt; | Datet &lt;dttm&gt; |\n",
       "|---|---|---|---|---|---|---|---|---|---|---|---|---|---|---|---|---|\n",
       "| 871 | 8583815059 | 5-3-2016  | 12015 | 9.37 | 9.37 | 0 | 0 | 0 | 0 | 0 | 0 | 0 | 0 | 1440 | 3212 | 2016-05-03 |\n",
       "| 413 | 4388161847 | 4-12-2016 | 10122 | 7.78 | 7.78 | 0 | 0 | 0 | 0 | 0 | 0 | 0 | 0 | 1440 | 2955 | 2016-04-12 |\n",
       "| 870 | 8583815059 | 5-2-2016  |  8469 | 6.61 | 6.61 | 0 | 0 | 0 | 0 | 0 | 0 | 0 | 0 | 1440 | 2894 | 2016-05-02 |\n",
       "| 854 | 8583815059 | 4-16-2016 |  5319 | 4.15 | 4.15 | 0 | 0 | 0 | 0 | 0 | 0 | 0 | 0 | 1440 | 2693 | 2016-04-16 |\n",
       "| 872 | 8583815059 | 5-4-2016  |  3588 | 2.80 | 2.80 | 0 | 0 | 0 | 0 | 0 | 0 | 0 | 0 | 1440 | 2516 | 2016-05-04 |\n",
       "| 855 | 8583815059 | 4-17-2016 |  3008 | 2.35 | 2.35 | 0 | 0 | 0 | 0 | 0 | 0 | 0 | 0 | 1440 | 2439 | 2016-04-17 |\n",
       "\n"
      ],
      "text/plain": [
       "    Id         Dt        TotalSteps TotalDistance TrackerDistance\n",
       "871 8583815059 5-3-2016  12015      9.37          9.37           \n",
       "413 4388161847 4-12-2016 10122      7.78          7.78           \n",
       "870 8583815059 5-2-2016   8469      6.61          6.61           \n",
       "854 8583815059 4-16-2016  5319      4.15          4.15           \n",
       "872 8583815059 5-4-2016   3588      2.80          2.80           \n",
       "855 8583815059 4-17-2016  3008      2.35          2.35           \n",
       "    LoggedActivitiesDistance VeryActiveDistance ModeratelyActiveDistance\n",
       "871 0                        0                  0                       \n",
       "413 0                        0                  0                       \n",
       "870 0                        0                  0                       \n",
       "854 0                        0                  0                       \n",
       "872 0                        0                  0                       \n",
       "855 0                        0                  0                       \n",
       "    LightActiveDistance SedentaryActiveDistance VeryActiveMinutes\n",
       "871 0                   0                       0                \n",
       "413 0                   0                       0                \n",
       "870 0                   0                       0                \n",
       "854 0                   0                       0                \n",
       "872 0                   0                       0                \n",
       "855 0                   0                       0                \n",
       "    FairlyActiveMinutes LightlyActiveMinutes SedentaryMinutes Calories\n",
       "871 0                   0                    1440             3212    \n",
       "413 0                   0                    1440             2955    \n",
       "870 0                   0                    1440             2894    \n",
       "854 0                   0                    1440             2693    \n",
       "872 0                   0                    1440             2516    \n",
       "855 0                   0                    1440             2439    \n",
       "    Datet     \n",
       "871 2016-05-03\n",
       "413 2016-04-12\n",
       "870 2016-05-02\n",
       "854 2016-04-16\n",
       "872 2016-05-04\n",
       "855 2016-04-17"
      ]
     },
     "metadata": {},
     "output_type": "display_data"
    },
    {
     "data": {
      "text/html": [
       "79"
      ],
      "text/latex": [
       "79"
      ],
      "text/markdown": [
       "79"
      ],
      "text/plain": [
       "[1] 79"
      ]
     },
     "metadata": {},
     "output_type": "display_data"
    },
    {
     "data": {
      "text/html": [
       "0"
      ],
      "text/latex": [
       "0"
      ],
      "text/markdown": [
       "0"
      ],
      "text/plain": [
       "[1] 0"
      ]
     },
     "metadata": {},
     "output_type": "display_data"
    }
   ],
   "source": [
    "#get all rows where people are sedentary for 24 hours\n",
    "sedentary_24_hr <- daily_activity[grep(TRUE, daily_activity$SedentaryMinutes == 1440),]\n",
    "head(sedentary_24_hr[order(-sedentary_24_hr$Calories),])\n",
    "nrow(sedentary_24_hr)\n",
    "sum(grep(TRUE, sedentary_24_hr$SedentaryActiveDistance != 0))"
   ]
  },
  {
   "cell_type": "markdown",
   "id": "9e81a0f6",
   "metadata": {},
   "source": [
    "There are 79 rows where the sedentary time is reported as 24 hours with the maximum calories being burned at 3212. While a person may spend the whole day doing sedentary activities, it seems quite odd that they could have their total steps and distance tracked while the distance based on intensity is zero. I think its fair to assume that the intensity data for both minutes and distance was not recored and a default value of 1440 sedentary minutes was used as a subsitute."
   ]
  },
  {
   "cell_type": "code",
   "execution_count": 15,
   "id": "59a0b33d",
   "metadata": {},
   "outputs": [],
   "source": [
    "daily_activity <- daily_activity[grep(FALSE, daily_activity$SedentaryMinutes == 1440),]"
   ]
  },
  {
   "cell_type": "markdown",
   "id": "25f39dfe",
   "metadata": {},
   "source": [
    "**Calories**"
   ]
  },
  {
   "cell_type": "code",
   "execution_count": 16,
   "id": "c9be96b1",
   "metadata": {},
   "outputs": [
    {
     "data": {
      "image/png": "[encoded data removed]",
      "text/plain": [
       "plot without title"
      ]
     },
     "metadata": {
      "image/png": {
       "height": 480,
       "width": 360
      }
     },
     "output_type": "display_data"
    }
   ],
   "source": [
    "#Visualizing the spread of calorie data\n",
    "options(repr.plot.width=6, repr.plot.height=8)\n",
    "ggplot(daily_activity, aes(x= Calories)) + \n",
    "    geom_boxplot(outlier.colour=\"red\", outlier.shape=1, outlier.size=2, notch=FALSE) +\n",
    "    coord_flip() +\n",
    "    theme(axis.title = element_text(size = 15), axis.text = element_text(size=15) ) "
   ]
  },
  {
   "cell_type": "code",
   "execution_count": 17,
   "id": "33793650",
   "metadata": {},
   "outputs": [
    {
     "data": {
      "text/html": [
       "<table class=\"dataframe\">\n",
       "<caption>A data.frame: 7 × 16</caption>\n",
       "<thead>\n",
       "\t<tr><th></th><th scope=col>Id</th><th scope=col>Dt</th><th scope=col>TotalSteps</th><th scope=col>TotalDistance</th><th scope=col>TrackerDistance</th><th scope=col>LoggedActivitiesDistance</th><th scope=col>VeryActiveDistance</th><th scope=col>ModeratelyActiveDistance</th><th scope=col>LightActiveDistance</th><th scope=col>SedentaryActiveDistance</th><th scope=col>VeryActiveMinutes</th><th scope=col>FairlyActiveMinutes</th><th scope=col>LightlyActiveMinutes</th><th scope=col>SedentaryMinutes</th><th scope=col>Calories</th><th scope=col>Datet</th></tr>\n",
       "\t<tr><th></th><th scope=col>&lt;fct&gt;</th><th scope=col>&lt;chr&gt;</th><th scope=col>&lt;int&gt;</th><th scope=col>&lt;dbl&gt;</th><th scope=col>&lt;dbl&gt;</th><th scope=col>&lt;dbl&gt;</th><th scope=col>&lt;dbl&gt;</th><th scope=col>&lt;dbl&gt;</th><th scope=col>&lt;dbl&gt;</th><th scope=col>&lt;dbl&gt;</th><th scope=col>&lt;int&gt;</th><th scope=col>&lt;int&gt;</th><th scope=col>&lt;int&gt;</th><th scope=col>&lt;int&gt;</th><th scope=col>&lt;int&gt;</th><th scope=col>&lt;dttm&gt;</th></tr>\n",
       "</thead>\n",
       "<tbody>\n",
       "\t<tr><th scope=row>123</th><td>1844505072</td><td>5-12-2016</td><td>   0</td><td>0.00</td><td>0.00</td><td>0</td><td>0.00</td><td>0.0</td><td>0.00</td><td>0</td><td>0</td><td>0</td><td> 0</td><td>711</td><td>665</td><td>2016-05-12</td></tr>\n",
       "\t<tr><th scope=row>265</th><td>2347167796</td><td>4-29-2016</td><td>  42</td><td>0.03</td><td>0.03</td><td>0</td><td>0.00</td><td>0.0</td><td>0.03</td><td>0</td><td>0</td><td>0</td><td> 4</td><td>  2</td><td>403</td><td>2016-04-29</td></tr>\n",
       "\t<tr><th scope=row>346</th><td>3977333714</td><td>5-11-2016</td><td> 746</td><td>0.50</td><td>0.50</td><td>0</td><td>0.37</td><td>0.0</td><td>0.13</td><td>0</td><td>4</td><td>0</td><td> 9</td><td> 13</td><td> 52</td><td>2016-05-11</td></tr>\n",
       "\t<tr><th scope=row>412</th><td>4319703577</td><td>5-12-2016</td><td>  17</td><td>0.01</td><td>0.01</td><td>0</td><td>0.00</td><td>0.0</td><td>0.01</td><td>0</td><td>0</td><td>0</td><td> 2</td><td>  0</td><td>257</td><td>2016-05-12</td></tr>\n",
       "\t<tr><th scope=row>567</th><td>5553957443</td><td>5-12-2016</td><td>3121</td><td>2.04</td><td>2.04</td><td>0</td><td>0.58</td><td>0.4</td><td>1.06</td><td>0</td><td>8</td><td>6</td><td>48</td><td>222</td><td>741</td><td>2016-05-12</td></tr>\n",
       "\t<tr><th scope=row>737</th><td>7007744171</td><td>5-7-2016 </td><td>   0</td><td>0.00</td><td>0.00</td><td>0</td><td>0.00</td><td>0.0</td><td>0.00</td><td>0</td><td>0</td><td>0</td><td> 0</td><td>111</td><td>120</td><td>2016-05-07</td></tr>\n",
       "\t<tr><th scope=row>909</th><td>8792009665</td><td>5-10-2016</td><td>   0</td><td>0.00</td><td>0.00</td><td>0</td><td>0.00</td><td>0.0</td><td>0.00</td><td>0</td><td>0</td><td>0</td><td> 0</td><td> 48</td><td> 57</td><td>2016-05-10</td></tr>\n",
       "</tbody>\n",
       "</table>\n"
      ],
      "text/latex": [
       "A data.frame: 7 × 16\n",
       "\\begin{tabular}{r|llllllllllllllll}\n",
       "  & Id & Dt & TotalSteps & TotalDistance & TrackerDistance & LoggedActivitiesDistance & VeryActiveDistance & ModeratelyActiveDistance & LightActiveDistance & SedentaryActiveDistance & VeryActiveMinutes & FairlyActiveMinutes & LightlyActiveMinutes & SedentaryMinutes & Calories & Datet\\\\\n",
       "  & <fct> & <chr> & <int> & <dbl> & <dbl> & <dbl> & <dbl> & <dbl> & <dbl> & <dbl> & <int> & <int> & <int> & <int> & <int> & <dttm>\\\\\n",
       "\\hline\n",
       "\t123 & 1844505072 & 5-12-2016 &    0 & 0.00 & 0.00 & 0 & 0.00 & 0.0 & 0.00 & 0 & 0 & 0 &  0 & 711 & 665 & 2016-05-12\\\\\n",
       "\t265 & 2347167796 & 4-29-2016 &   42 & 0.03 & 0.03 & 0 & 0.00 & 0.0 & 0.03 & 0 & 0 & 0 &  4 &   2 & 403 & 2016-04-29\\\\\n",
       "\t346 & 3977333714 & 5-11-2016 &  746 & 0.50 & 0.50 & 0 & 0.37 & 0.0 & 0.13 & 0 & 4 & 0 &  9 &  13 &  52 & 2016-05-11\\\\\n",
       "\t412 & 4319703577 & 5-12-2016 &   17 & 0.01 & 0.01 & 0 & 0.00 & 0.0 & 0.01 & 0 & 0 & 0 &  2 &   0 & 257 & 2016-05-12\\\\\n",
       "\t567 & 5553957443 & 5-12-2016 & 3121 & 2.04 & 2.04 & 0 & 0.58 & 0.4 & 1.06 & 0 & 8 & 6 & 48 & 222 & 741 & 2016-05-12\\\\\n",
       "\t737 & 7007744171 & 5-7-2016  &    0 & 0.00 & 0.00 & 0 & 0.00 & 0.0 & 0.00 & 0 & 0 & 0 &  0 & 111 & 120 & 2016-05-07\\\\\n",
       "\t909 & 8792009665 & 5-10-2016 &    0 & 0.00 & 0.00 & 0 & 0.00 & 0.0 & 0.00 & 0 & 0 & 0 &  0 &  48 &  57 & 2016-05-10\\\\\n",
       "\\end{tabular}\n"
      ],
      "text/markdown": [
       "\n",
       "A data.frame: 7 × 16\n",
       "\n",
       "| <!--/--> | Id &lt;fct&gt; | Dt &lt;chr&gt; | TotalSteps &lt;int&gt; | TotalDistance &lt;dbl&gt; | TrackerDistance &lt;dbl&gt; | LoggedActivitiesDistance &lt;dbl&gt; | VeryActiveDistance &lt;dbl&gt; | ModeratelyActiveDistance &lt;dbl&gt; | LightActiveDistance &lt;dbl&gt; | SedentaryActiveDistance &lt;dbl&gt; | VeryActiveMinutes &lt;int&gt; | FairlyActiveMinutes &lt;int&gt; | LightlyActiveMinutes &lt;int&gt; | SedentaryMinutes &lt;int&gt; | Calories &lt;int&gt; | Datet &lt;dttm&gt; |\n",
       "|---|---|---|---|---|---|---|---|---|---|---|---|---|---|---|---|---|\n",
       "| 123 | 1844505072 | 5-12-2016 |    0 | 0.00 | 0.00 | 0 | 0.00 | 0.0 | 0.00 | 0 | 0 | 0 |  0 | 711 | 665 | 2016-05-12 |\n",
       "| 265 | 2347167796 | 4-29-2016 |   42 | 0.03 | 0.03 | 0 | 0.00 | 0.0 | 0.03 | 0 | 0 | 0 |  4 |   2 | 403 | 2016-04-29 |\n",
       "| 346 | 3977333714 | 5-11-2016 |  746 | 0.50 | 0.50 | 0 | 0.37 | 0.0 | 0.13 | 0 | 4 | 0 |  9 |  13 |  52 | 2016-05-11 |\n",
       "| 412 | 4319703577 | 5-12-2016 |   17 | 0.01 | 0.01 | 0 | 0.00 | 0.0 | 0.01 | 0 | 0 | 0 |  2 |   0 | 257 | 2016-05-12 |\n",
       "| 567 | 5553957443 | 5-12-2016 | 3121 | 2.04 | 2.04 | 0 | 0.58 | 0.4 | 1.06 | 0 | 8 | 6 | 48 | 222 | 741 | 2016-05-12 |\n",
       "| 737 | 7007744171 | 5-7-2016  |    0 | 0.00 | 0.00 | 0 | 0.00 | 0.0 | 0.00 | 0 | 0 | 0 |  0 | 111 | 120 | 2016-05-07 |\n",
       "| 909 | 8792009665 | 5-10-2016 |    0 | 0.00 | 0.00 | 0 | 0.00 | 0.0 | 0.00 | 0 | 0 | 0 |  0 |  48 |  57 | 2016-05-10 |\n",
       "\n"
      ],
      "text/plain": [
       "    Id         Dt        TotalSteps TotalDistance TrackerDistance\n",
       "123 1844505072 5-12-2016    0       0.00          0.00           \n",
       "265 2347167796 4-29-2016   42       0.03          0.03           \n",
       "346 3977333714 5-11-2016  746       0.50          0.50           \n",
       "412 4319703577 5-12-2016   17       0.01          0.01           \n",
       "567 5553957443 5-12-2016 3121       2.04          2.04           \n",
       "737 7007744171 5-7-2016     0       0.00          0.00           \n",
       "909 8792009665 5-10-2016    0       0.00          0.00           \n",
       "    LoggedActivitiesDistance VeryActiveDistance ModeratelyActiveDistance\n",
       "123 0                        0.00               0.0                     \n",
       "265 0                        0.00               0.0                     \n",
       "346 0                        0.37               0.0                     \n",
       "412 0                        0.00               0.0                     \n",
       "567 0                        0.58               0.4                     \n",
       "737 0                        0.00               0.0                     \n",
       "909 0                        0.00               0.0                     \n",
       "    LightActiveDistance SedentaryActiveDistance VeryActiveMinutes\n",
       "123 0.00                0                       0                \n",
       "265 0.03                0                       0                \n",
       "346 0.13                0                       4                \n",
       "412 0.01                0                       0                \n",
       "567 1.06                0                       8                \n",
       "737 0.00                0                       0                \n",
       "909 0.00                0                       0                \n",
       "    FairlyActiveMinutes LightlyActiveMinutes SedentaryMinutes Calories\n",
       "123 0                    0                   711              665     \n",
       "265 0                    4                     2              403     \n",
       "346 0                    9                    13               52     \n",
       "412 0                    2                     0              257     \n",
       "567 6                   48                   222              741     \n",
       "737 0                    0                   111              120     \n",
       "909 0                    0                    48               57     \n",
       "    Datet     \n",
       "123 2016-05-12\n",
       "265 2016-04-29\n",
       "346 2016-05-11\n",
       "412 2016-05-12\n",
       "567 2016-05-12\n",
       "737 2016-05-07\n",
       "909 2016-05-10"
      ]
     },
     "metadata": {},
     "output_type": "display_data"
    }
   ],
   "source": [
    "#get all rows where people had less than burned 900 calories\n",
    "daily_activity[grep(TRUE, daily_activity$Calories < 900),]"
   ]
  },
  {
   "cell_type": "markdown",
   "id": "fb5c3c73",
   "metadata": {},
   "source": [
    "Every individual has a RMR, Resting Metabolic Rate, which is the amount of calories necessary to pump blood through the body, breath, and other autonomic functions. The lowest sensible RMR would be around 900 which is about 3.5 standard deviations away from the female average RMR which includes over 99% of the population. These values were most likely tracked incorrected and should not be used for analysis."
   ]
  },
  {
   "cell_type": "code",
   "execution_count": 18,
   "id": "ff57cc08",
   "metadata": {},
   "outputs": [],
   "source": [
    "daily_activity <- daily_activity[grep(FALSE, daily_activity$Calories < 900),]"
   ]
  },
  {
   "cell_type": "markdown",
   "id": "31175cb1",
   "metadata": {},
   "source": [
    "**Total Steps**"
   ]
  },
  {
   "cell_type": "code",
   "execution_count": 19,
   "id": "7645eb20",
   "metadata": {},
   "outputs": [
    {
     "data": {
      "text/html": [
       "<table class=\"dataframe\">\n",
       "<caption>A data.frame: 0 × 16</caption>\n",
       "<thead>\n",
       "\t<tr><th scope=col>Id</th><th scope=col>Dt</th><th scope=col>TotalSteps</th><th scope=col>TotalDistance</th><th scope=col>TrackerDistance</th><th scope=col>LoggedActivitiesDistance</th><th scope=col>VeryActiveDistance</th><th scope=col>ModeratelyActiveDistance</th><th scope=col>LightActiveDistance</th><th scope=col>SedentaryActiveDistance</th><th scope=col>VeryActiveMinutes</th><th scope=col>FairlyActiveMinutes</th><th scope=col>LightlyActiveMinutes</th><th scope=col>SedentaryMinutes</th><th scope=col>Calories</th><th scope=col>Datet</th></tr>\n",
       "\t<tr><th scope=col>&lt;fct&gt;</th><th scope=col>&lt;chr&gt;</th><th scope=col>&lt;int&gt;</th><th scope=col>&lt;dbl&gt;</th><th scope=col>&lt;dbl&gt;</th><th scope=col>&lt;dbl&gt;</th><th scope=col>&lt;dbl&gt;</th><th scope=col>&lt;dbl&gt;</th><th scope=col>&lt;dbl&gt;</th><th scope=col>&lt;dbl&gt;</th><th scope=col>&lt;int&gt;</th><th scope=col>&lt;int&gt;</th><th scope=col>&lt;int&gt;</th><th scope=col>&lt;int&gt;</th><th scope=col>&lt;int&gt;</th><th scope=col>&lt;dttm&gt;</th></tr>\n",
       "</thead>\n",
       "<tbody>\n",
       "</tbody>\n",
       "</table>\n"
      ],
      "text/latex": [
       "A data.frame: 0 × 16\n",
       "\\begin{tabular}{llllllllllllllll}\n",
       " Id & Dt & TotalSteps & TotalDistance & TrackerDistance & LoggedActivitiesDistance & VeryActiveDistance & ModeratelyActiveDistance & LightActiveDistance & SedentaryActiveDistance & VeryActiveMinutes & FairlyActiveMinutes & LightlyActiveMinutes & SedentaryMinutes & Calories & Datet\\\\\n",
       " <fct> & <chr> & <int> & <dbl> & <dbl> & <dbl> & <dbl> & <dbl> & <dbl> & <dbl> & <int> & <int> & <int> & <int> & <int> & <dttm>\\\\\n",
       "\\hline\n",
       "\\end{tabular}\n"
      ],
      "text/markdown": [
       "\n",
       "A data.frame: 0 × 16\n",
       "\n",
       "| Id &lt;fct&gt; | Dt &lt;chr&gt; | TotalSteps &lt;int&gt; | TotalDistance &lt;dbl&gt; | TrackerDistance &lt;dbl&gt; | LoggedActivitiesDistance &lt;dbl&gt; | VeryActiveDistance &lt;dbl&gt; | ModeratelyActiveDistance &lt;dbl&gt; | LightActiveDistance &lt;dbl&gt; | SedentaryActiveDistance &lt;dbl&gt; | VeryActiveMinutes &lt;int&gt; | FairlyActiveMinutes &lt;int&gt; | LightlyActiveMinutes &lt;int&gt; | SedentaryMinutes &lt;int&gt; | Calories &lt;int&gt; | Datet &lt;dttm&gt; |\n",
       "|---|---|---|---|---|---|---|---|---|---|---|---|---|---|---|---|\n",
       "\n"
      ],
      "text/plain": [
       "     Id Dt TotalSteps TotalDistance TrackerDistance LoggedActivitiesDistance\n",
       "     VeryActiveDistance ModeratelyActiveDistance LightActiveDistance\n",
       "     SedentaryActiveDistance VeryActiveMinutes FairlyActiveMinutes\n",
       "     LightlyActiveMinutes SedentaryMinutes Calories Datet"
      ]
     },
     "metadata": {},
     "output_type": "display_data"
    }
   ],
   "source": [
    "# find rows where someone travelled any distance but took no steps\n",
    "daily_activity[grep(TRUE, daily_activity$TotalSteps == 0 & daily_activity$TotalDistance >0),]"
   ]
  },
  {
   "cell_type": "code",
   "execution_count": 20,
   "id": "b829b7fd",
   "metadata": {},
   "outputs": [
    {
     "data": {
      "text/html": [
       "<table class=\"dataframe\">\n",
       "<caption>A data.frame: 2 × 16</caption>\n",
       "<thead>\n",
       "\t<tr><th></th><th scope=col>Id</th><th scope=col>Dt</th><th scope=col>TotalSteps</th><th scope=col>TotalDistance</th><th scope=col>TrackerDistance</th><th scope=col>LoggedActivitiesDistance</th><th scope=col>VeryActiveDistance</th><th scope=col>ModeratelyActiveDistance</th><th scope=col>LightActiveDistance</th><th scope=col>SedentaryActiveDistance</th><th scope=col>VeryActiveMinutes</th><th scope=col>FairlyActiveMinutes</th><th scope=col>LightlyActiveMinutes</th><th scope=col>SedentaryMinutes</th><th scope=col>Calories</th><th scope=col>Datet</th></tr>\n",
       "\t<tr><th></th><th scope=col>&lt;fct&gt;</th><th scope=col>&lt;chr&gt;</th><th scope=col>&lt;int&gt;</th><th scope=col>&lt;dbl&gt;</th><th scope=col>&lt;dbl&gt;</th><th scope=col>&lt;dbl&gt;</th><th scope=col>&lt;dbl&gt;</th><th scope=col>&lt;dbl&gt;</th><th scope=col>&lt;dbl&gt;</th><th scope=col>&lt;dbl&gt;</th><th scope=col>&lt;int&gt;</th><th scope=col>&lt;int&gt;</th><th scope=col>&lt;int&gt;</th><th scope=col>&lt;int&gt;</th><th scope=col>&lt;int&gt;</th><th scope=col>&lt;dttm&gt;</th></tr>\n",
       "</thead>\n",
       "<tbody>\n",
       "\t<tr><th scope=row>637</th><td>6290855005</td><td>4-23-2016</td><td>0</td><td>0</td><td>0</td><td>0</td><td>0</td><td>0</td><td>0</td><td>0</td><td>33</td><td>0</td><td>0</td><td>1407</td><td>2664</td><td>2016-04-23</td></tr>\n",
       "\t<tr><th scope=row>154</th><td>1927972279</td><td>5-12-2016</td><td>0</td><td>0</td><td>0</td><td>0</td><td>0</td><td>0</td><td>0</td><td>0</td><td> 0</td><td>0</td><td>0</td><td> 966</td><td>1383</td><td>2016-05-12</td></tr>\n",
       "</tbody>\n",
       "</table>\n"
      ],
      "text/latex": [
       "A data.frame: 2 × 16\n",
       "\\begin{tabular}{r|llllllllllllllll}\n",
       "  & Id & Dt & TotalSteps & TotalDistance & TrackerDistance & LoggedActivitiesDistance & VeryActiveDistance & ModeratelyActiveDistance & LightActiveDistance & SedentaryActiveDistance & VeryActiveMinutes & FairlyActiveMinutes & LightlyActiveMinutes & SedentaryMinutes & Calories & Datet\\\\\n",
       "  & <fct> & <chr> & <int> & <dbl> & <dbl> & <dbl> & <dbl> & <dbl> & <dbl> & <dbl> & <int> & <int> & <int> & <int> & <int> & <dttm>\\\\\n",
       "\\hline\n",
       "\t637 & 6290855005 & 4-23-2016 & 0 & 0 & 0 & 0 & 0 & 0 & 0 & 0 & 33 & 0 & 0 & 1407 & 2664 & 2016-04-23\\\\\n",
       "\t154 & 1927972279 & 5-12-2016 & 0 & 0 & 0 & 0 & 0 & 0 & 0 & 0 &  0 & 0 & 0 &  966 & 1383 & 2016-05-12\\\\\n",
       "\\end{tabular}\n"
      ],
      "text/markdown": [
       "\n",
       "A data.frame: 2 × 16\n",
       "\n",
       "| <!--/--> | Id &lt;fct&gt; | Dt &lt;chr&gt; | TotalSteps &lt;int&gt; | TotalDistance &lt;dbl&gt; | TrackerDistance &lt;dbl&gt; | LoggedActivitiesDistance &lt;dbl&gt; | VeryActiveDistance &lt;dbl&gt; | ModeratelyActiveDistance &lt;dbl&gt; | LightActiveDistance &lt;dbl&gt; | SedentaryActiveDistance &lt;dbl&gt; | VeryActiveMinutes &lt;int&gt; | FairlyActiveMinutes &lt;int&gt; | LightlyActiveMinutes &lt;int&gt; | SedentaryMinutes &lt;int&gt; | Calories &lt;int&gt; | Datet &lt;dttm&gt; |\n",
       "|---|---|---|---|---|---|---|---|---|---|---|---|---|---|---|---|---|\n",
       "| 637 | 6290855005 | 4-23-2016 | 0 | 0 | 0 | 0 | 0 | 0 | 0 | 0 | 33 | 0 | 0 | 1407 | 2664 | 2016-04-23 |\n",
       "| 154 | 1927972279 | 5-12-2016 | 0 | 0 | 0 | 0 | 0 | 0 | 0 | 0 |  0 | 0 | 0 |  966 | 1383 | 2016-05-12 |\n",
       "\n"
      ],
      "text/plain": [
       "    Id         Dt        TotalSteps TotalDistance TrackerDistance\n",
       "637 6290855005 4-23-2016 0          0             0              \n",
       "154 1927972279 5-12-2016 0          0             0              \n",
       "    LoggedActivitiesDistance VeryActiveDistance ModeratelyActiveDistance\n",
       "637 0                        0                  0                       \n",
       "154 0                        0                  0                       \n",
       "    LightActiveDistance SedentaryActiveDistance VeryActiveMinutes\n",
       "637 0                   0                       33               \n",
       "154 0                   0                        0               \n",
       "    FairlyActiveMinutes LightlyActiveMinutes SedentaryMinutes Calories\n",
       "637 0                   0                    1407             2664    \n",
       "154 0                   0                     966             1383    \n",
       "    Datet     \n",
       "637 2016-04-23\n",
       "154 2016-05-12"
      ]
     },
     "metadata": {},
     "output_type": "display_data"
    }
   ],
   "source": [
    "# find rows where someone took no steps\n",
    "no_steps <- daily_activity[grep(TRUE, daily_activity$TotalSteps == 0),]\n",
    "head(no_steps[order(-no_steps$Calories),])"
   ]
  },
  {
   "cell_type": "markdown",
   "id": "10b5d7b4",
   "metadata": {},
   "source": [
    "There appears to be only one value that is invalid for total steps as it does not seem likely that someone would spend 33 minutes very active and not move any distance. All other values seem to fall into an acceptable range since they have a recorded calorie value and all their time was spent sedentary."
   ]
  },
  {
   "cell_type": "code",
   "execution_count": 21,
   "id": "271e009b",
   "metadata": {},
   "outputs": [],
   "source": [
    "daily_activity <- daily_activity[-grep(TRUE, daily_activity$TotalSteps == 0 & daily_activity$VeryActiveMinutes >0),]"
   ]
  },
  {
   "cell_type": "code",
   "execution_count": 22,
   "id": "25c423f7",
   "metadata": {},
   "outputs": [
    {
     "data": {
      "text/plain": [
       "          Id             Dt               Calories     \n",
       " 1624580081:  736   Length:22099       Min.   : 42.00  \n",
       " 1927972279:  736   Class :character   1st Qu.: 63.00  \n",
       " 2022484408:  736   Mode  :character   Median : 83.00  \n",
       " 2026352035:  736                      Mean   : 97.39  \n",
       " 2873212765:  736                      3rd Qu.:108.00  \n",
       " 4558609924:  736                      Max.   :948.00  \n",
       " (Other)   :17683                                      \n",
       "     Datet                    \n",
       " Min.   :2016-04-12 00:00:00  \n",
       " 1st Qu.:2016-04-19 01:00:00  \n",
       " Median :2016-04-26 06:00:00  \n",
       " Mean   :2016-04-26 11:46:42  \n",
       " 3rd Qu.:2016-05-03 19:00:00  \n",
       " Max.   :2016-05-12 15:00:00  \n",
       "                              "
      ]
     },
     "metadata": {},
     "output_type": "display_data"
    }
   ],
   "source": [
    "summary(hourly_calories)"
   ]
  },
  {
   "cell_type": "code",
   "execution_count": 23,
   "id": "92af500c",
   "metadata": {},
   "outputs": [
    {
     "data": {
      "text/plain": [
       "          Id             Dt            TotalIntensity   AverageIntensity\n",
       " 1624580081:  736   Length:22099       Min.   :  0.00   Min.   :0.0000  \n",
       " 1927972279:  736   Class :character   1st Qu.:  0.00   1st Qu.:0.0000  \n",
       " 2022484408:  736   Mode  :character   Median :  3.00   Median :0.0500  \n",
       " 2026352035:  736                      Mean   : 12.04   Mean   :0.2006  \n",
       " 2873212765:  736                      3rd Qu.: 16.00   3rd Qu.:0.2667  \n",
       " 4558609924:  736                      Max.   :180.00   Max.   :3.0000  \n",
       " (Other)   :17683                                                       \n",
       "     Datet                    \n",
       " Min.   :2016-04-12 00:00:00  \n",
       " 1st Qu.:2016-04-19 01:00:00  \n",
       " Median :2016-04-26 06:00:00  \n",
       " Mean   :2016-04-26 11:46:42  \n",
       " 3rd Qu.:2016-05-03 19:00:00  \n",
       " Max.   :2016-05-12 15:00:00  \n",
       "                              "
      ]
     },
     "metadata": {},
     "output_type": "display_data"
    }
   ],
   "source": [
    "summary(hourly_intensities)"
   ]
  },
  {
   "cell_type": "code",
   "execution_count": 24,
   "id": "78c6397b",
   "metadata": {},
   "outputs": [
    {
     "data": {
      "text/plain": [
       "          Id             Dt                Steps        \n",
       " 1624580081:  736   Length:22099       Min.   :    0.0  \n",
       " 1927972279:  736   Class :character   1st Qu.:    0.0  \n",
       " 2022484408:  736   Mode  :character   Median :   40.0  \n",
       " 2026352035:  736                      Mean   :  320.2  \n",
       " 2873212765:  736                      3rd Qu.:  357.0  \n",
       " 4558609924:  736                      Max.   :10554.0  \n",
       " (Other)   :17683                                       \n",
       "     Datet                    \n",
       " Min.   :2016-04-12 00:00:00  \n",
       " 1st Qu.:2016-04-19 01:00:00  \n",
       " Median :2016-04-26 06:00:00  \n",
       " Mean   :2016-04-26 11:46:42  \n",
       " 3rd Qu.:2016-05-03 19:00:00  \n",
       " Max.   :2016-05-12 15:00:00  \n",
       "                              "
      ]
     },
     "metadata": {},
     "output_type": "display_data"
    }
   ],
   "source": [
    "summary(hourly_steps)"
   ]
  },
  {
   "cell_type": "code",
   "execution_count": 25,
   "id": "702fb581",
   "metadata": {},
   "outputs": [
    {
     "data": {
      "text/plain": [
       "          Id           Dt            TotalSleepRecords TotalMinutesAsleep\n",
       " 5553957443: 31   Length:410         Min.   :1.00      Min.   : 58.0     \n",
       " 6962181067: 31   Class :character   1st Qu.:1.00      1st Qu.:361.0     \n",
       " 8378563200: 31   Mode  :character   Median :1.00      Median :432.5     \n",
       " 2026352035: 28                      Mean   :1.12      Mean   :419.2     \n",
       " 3977333714: 28                      3rd Qu.:1.00      3rd Qu.:490.0     \n",
       " 4445114986: 28                      Max.   :3.00      Max.   :796.0     \n",
       " (Other)   :233                                                          \n",
       " TotalTimeInBed      Datet                    \n",
       " Min.   : 61.0   Min.   :2016-04-12 00:00:00  \n",
       " 1st Qu.:403.8   1st Qu.:2016-04-19 00:00:00  \n",
       " Median :463.0   Median :2016-04-27 00:00:00  \n",
       " Mean   :458.5   Mean   :2016-04-26 11:38:55  \n",
       " 3rd Qu.:526.0   3rd Qu.:2016-05-04 00:00:00  \n",
       " Max.   :961.0   Max.   :2016-05-12 00:00:00  \n",
       "                                              "
      ]
     },
     "metadata": {},
     "output_type": "display_data"
    }
   ],
   "source": [
    "summary(sleep_day)"
   ]
  },
  {
   "cell_type": "markdown",
   "id": "80f9fc80",
   "metadata": {},
   "source": [
    "For the other data files, there does not seem to be irregularities with the ranges of attribute values. All files are ready for analysis."
   ]
  },
  {
   "cell_type": "markdown",
   "id": "29f1ff1c",
   "metadata": {},
   "source": [
    "---\n",
    "### <span style=\"color:#ED9D4A\">4.2 Analysis</span>  <a class=\"anchor\" id=\"head_4_2\"></a>\n",
    "#### <span style=\"color:#ED9D4A\">4.2.1 daily_activities</span>  <a class=\"anchor\" id=\"head_4_2_1\"></a>"
   ]
  },
  {
   "cell_type": "code",
   "execution_count": 26,
   "id": "c798f832",
   "metadata": {},
   "outputs": [],
   "source": [
    "# create dataframe for rows with logged activitese\n",
    "daily_with_log <- daily_activity[grep(TRUE, daily_activity$LoggedActivitiesDistance != 0),]"
   ]
  },
  {
   "cell_type": "code",
   "execution_count": 27,
   "id": "3a1698e7",
   "metadata": {},
   "outputs": [
    {
     "data": {
      "text/html": [
       "<table class=\"dataframe\">\n",
       "<caption>A matrix: 13 × 13 of type dbl</caption>\n",
       "<thead>\n",
       "\t<tr><th></th><th scope=col>TotalSteps</th><th scope=col>TotalDistance</th><th scope=col>TrackerDistance</th><th scope=col>LoggedActivitiesDistance</th><th scope=col>VeryActiveDistance</th><th scope=col>ModeratelyActiveDistance</th><th scope=col>LightActiveDistance</th><th scope=col>SedentaryActiveDistance</th><th scope=col>VeryActiveMinutes</th><th scope=col>FairlyActiveMinutes</th><th scope=col>LightlyActiveMinutes</th><th scope=col>SedentaryMinutes</th><th scope=col>Calories</th></tr>\n",
       "</thead>\n",
       "<tbody>\n",
       "\t<tr><th scope=row>TotalSteps</th><td> 1.00000000</td><td> 0.98258776</td><td> 0.98186648</td><td> 0.17732321</td><td> 0.756361361</td><td> 0.479694500</td><td> 0.60991763</td><td> 0.044818862</td><td> 0.665227918</td><td> 0.46515576</td><td> 0.43789324</td><td>-0.218397161</td><td> 0.55762918</td></tr>\n",
       "\t<tr><th scope=row>TotalDistance</th><td> 0.98258776</td><td> 1.00000000</td><td> 0.99939385</td><td> 0.18346509</td><td> 0.811228859</td><td> 0.437843888</td><td> 0.58198623</td><td> 0.059710950</td><td> 0.677257917</td><td> 0.42451374</td><td> 0.38316833</td><td>-0.179505902</td><td> 0.62284676</td></tr>\n",
       "\t<tr><th scope=row>TrackerDistance</th><td> 0.98186648</td><td> 0.99939385</td><td> 1.00000000</td><td> 0.15495474</td><td> 0.811157032</td><td> 0.437330977</td><td> 0.58096507</td><td> 0.051032059</td><td> 0.676845353</td><td> 0.42481969</td><td> 0.38071753</td><td>-0.180892590</td><td> 0.62323174</td></tr>\n",
       "\t<tr><th scope=row>LoggedActivitiesDistance</th><td> 0.17732321</td><td> 0.18346509</td><td> 0.15495474</td><td> 1.00000000</td><td> 0.143404241</td><td> 0.066680999</td><td> 0.12821789</td><td> 0.151706453</td><td> 0.228377236</td><td> 0.04290768</td><td> 0.08574231</td><td>-0.031005463</td><td> 0.20954121</td></tr>\n",
       "\t<tr><th scope=row>VeryActiveDistance</th><td> 0.75636136</td><td> 0.81122886</td><td> 0.81115703</td><td> 0.14340424</td><td> 1.000000000</td><td> 0.162386357</td><td> 0.07641757</td><td> 0.034228813</td><td> 0.820855295</td><td> 0.18008832</td><td>-0.05046813</td><td> 0.006399865</td><td> 0.49030862</td></tr>\n",
       "\t<tr><th scope=row>ModeratelyActiveDistance</th><td> 0.47969450</td><td> 0.43784389</td><td> 0.43733098</td><td> 0.06668100</td><td> 0.162386357</td><td> 1.000000000</td><td> 0.15745974</td><td>-0.008633607</td><td> 0.192461242</td><td> 0.94457634</td><td> 0.05859305</td><td>-0.172626327</td><td> 0.17931566</td></tr>\n",
       "\t<tr><th scope=row>LightActiveDistance</th><td> 0.60991763</td><td> 0.58198623</td><td> 0.58096507</td><td> 0.12821789</td><td> 0.076417569</td><td> 0.157459738</td><td> 1.00000000</td><td> 0.074124290</td><td> 0.060077583</td><td> 0.12909702</td><td> 0.83974120</td><td>-0.300710217</td><td> 0.41343719</td></tr>\n",
       "\t<tr><th scope=row>SedentaryActiveDistance</th><td> 0.04481886</td><td> 0.05971095</td><td> 0.05103206</td><td> 0.15170645</td><td> 0.034228813</td><td>-0.008633607</td><td> 0.07412429</td><td> 1.000000000</td><td>-0.005915374</td><td>-0.03843502</td><td> 0.10293061</td><td> 0.071290877</td><td> 0.02660364</td></tr>\n",
       "\t<tr><th scope=row>VeryActiveMinutes</th><td> 0.66522792</td><td> 0.67725792</td><td> 0.67684535</td><td> 0.22837724</td><td> 0.820855295</td><td> 0.192461242</td><td> 0.06007758</td><td>-0.005915374</td><td> 1.000000000</td><td> 0.28140886</td><td>-0.07550098</td><td>-0.106862801</td><td> 0.62214122</td></tr>\n",
       "\t<tr><th scope=row>FairlyActiveMinutes</th><td> 0.46515576</td><td> 0.42451374</td><td> 0.42481969</td><td> 0.04290768</td><td> 0.180088325</td><td> 0.944576342</td><td> 0.12909702</td><td>-0.038435025</td><td> 0.281408856</td><td> 1.00000000</td><td> 0.03391587</td><td>-0.187572669</td><td> 0.26591121</td></tr>\n",
       "\t<tr><th scope=row>LightlyActiveMinutes</th><td> 0.43789324</td><td> 0.38316833</td><td> 0.38071753</td><td> 0.08574231</td><td>-0.050468128</td><td> 0.058593053</td><td> 0.83974120</td><td> 0.102930612</td><td>-0.075500977</td><td> 0.03391587</td><td> 1.00000000</td><td>-0.322329438</td><td> 0.17453757</td></tr>\n",
       "\t<tr><th scope=row>SedentaryMinutes</th><td>-0.21839716</td><td>-0.17950590</td><td>-0.18089259</td><td>-0.03100546</td><td> 0.006399865</td><td>-0.172626327</td><td>-0.30071022</td><td> 0.071290877</td><td>-0.106862801</td><td>-0.18757267</td><td>-0.32232944</td><td> 1.000000000</td><td>-0.08511626</td></tr>\n",
       "\t<tr><th scope=row>Calories</th><td> 0.55762918</td><td> 0.62284676</td><td> 0.62323174</td><td> 0.20954121</td><td> 0.490308621</td><td> 0.179315662</td><td> 0.41343719</td><td> 0.026603640</td><td> 0.622141217</td><td> 0.26591121</td><td> 0.17453757</td><td>-0.085116259</td><td> 1.00000000</td></tr>\n",
       "</tbody>\n",
       "</table>\n"
      ],
      "text/latex": [
       "A matrix: 13 × 13 of type dbl\n",
       "\\begin{tabular}{r|lllllllllllll}\n",
       "  & TotalSteps & TotalDistance & TrackerDistance & LoggedActivitiesDistance & VeryActiveDistance & ModeratelyActiveDistance & LightActiveDistance & SedentaryActiveDistance & VeryActiveMinutes & FairlyActiveMinutes & LightlyActiveMinutes & SedentaryMinutes & Calories\\\\\n",
       "\\hline\n",
       "\tTotalSteps &  1.00000000 &  0.98258776 &  0.98186648 &  0.17732321 &  0.756361361 &  0.479694500 &  0.60991763 &  0.044818862 &  0.665227918 &  0.46515576 &  0.43789324 & -0.218397161 &  0.55762918\\\\\n",
       "\tTotalDistance &  0.98258776 &  1.00000000 &  0.99939385 &  0.18346509 &  0.811228859 &  0.437843888 &  0.58198623 &  0.059710950 &  0.677257917 &  0.42451374 &  0.38316833 & -0.179505902 &  0.62284676\\\\\n",
       "\tTrackerDistance &  0.98186648 &  0.99939385 &  1.00000000 &  0.15495474 &  0.811157032 &  0.437330977 &  0.58096507 &  0.051032059 &  0.676845353 &  0.42481969 &  0.38071753 & -0.180892590 &  0.62323174\\\\\n",
       "\tLoggedActivitiesDistance &  0.17732321 &  0.18346509 &  0.15495474 &  1.00000000 &  0.143404241 &  0.066680999 &  0.12821789 &  0.151706453 &  0.228377236 &  0.04290768 &  0.08574231 & -0.031005463 &  0.20954121\\\\\n",
       "\tVeryActiveDistance &  0.75636136 &  0.81122886 &  0.81115703 &  0.14340424 &  1.000000000 &  0.162386357 &  0.07641757 &  0.034228813 &  0.820855295 &  0.18008832 & -0.05046813 &  0.006399865 &  0.49030862\\\\\n",
       "\tModeratelyActiveDistance &  0.47969450 &  0.43784389 &  0.43733098 &  0.06668100 &  0.162386357 &  1.000000000 &  0.15745974 & -0.008633607 &  0.192461242 &  0.94457634 &  0.05859305 & -0.172626327 &  0.17931566\\\\\n",
       "\tLightActiveDistance &  0.60991763 &  0.58198623 &  0.58096507 &  0.12821789 &  0.076417569 &  0.157459738 &  1.00000000 &  0.074124290 &  0.060077583 &  0.12909702 &  0.83974120 & -0.300710217 &  0.41343719\\\\\n",
       "\tSedentaryActiveDistance &  0.04481886 &  0.05971095 &  0.05103206 &  0.15170645 &  0.034228813 & -0.008633607 &  0.07412429 &  1.000000000 & -0.005915374 & -0.03843502 &  0.10293061 &  0.071290877 &  0.02660364\\\\\n",
       "\tVeryActiveMinutes &  0.66522792 &  0.67725792 &  0.67684535 &  0.22837724 &  0.820855295 &  0.192461242 &  0.06007758 & -0.005915374 &  1.000000000 &  0.28140886 & -0.07550098 & -0.106862801 &  0.62214122\\\\\n",
       "\tFairlyActiveMinutes &  0.46515576 &  0.42451374 &  0.42481969 &  0.04290768 &  0.180088325 &  0.944576342 &  0.12909702 & -0.038435025 &  0.281408856 &  1.00000000 &  0.03391587 & -0.187572669 &  0.26591121\\\\\n",
       "\tLightlyActiveMinutes &  0.43789324 &  0.38316833 &  0.38071753 &  0.08574231 & -0.050468128 &  0.058593053 &  0.83974120 &  0.102930612 & -0.075500977 &  0.03391587 &  1.00000000 & -0.322329438 &  0.17453757\\\\\n",
       "\tSedentaryMinutes & -0.21839716 & -0.17950590 & -0.18089259 & -0.03100546 &  0.006399865 & -0.172626327 & -0.30071022 &  0.071290877 & -0.106862801 & -0.18757267 & -0.32232944 &  1.000000000 & -0.08511626\\\\\n",
       "\tCalories &  0.55762918 &  0.62284676 &  0.62323174 &  0.20954121 &  0.490308621 &  0.179315662 &  0.41343719 &  0.026603640 &  0.622141217 &  0.26591121 &  0.17453757 & -0.085116259 &  1.00000000\\\\\n",
       "\\end{tabular}\n"
      ],
      "text/markdown": [
       "\n",
       "A matrix: 13 × 13 of type dbl\n",
       "\n",
       "| <!--/--> | TotalSteps | TotalDistance | TrackerDistance | LoggedActivitiesDistance | VeryActiveDistance | ModeratelyActiveDistance | LightActiveDistance | SedentaryActiveDistance | VeryActiveMinutes | FairlyActiveMinutes | LightlyActiveMinutes | SedentaryMinutes | Calories |\n",
       "|---|---|---|---|---|---|---|---|---|---|---|---|---|---|\n",
       "| TotalSteps |  1.00000000 |  0.98258776 |  0.98186648 |  0.17732321 |  0.756361361 |  0.479694500 |  0.60991763 |  0.044818862 |  0.665227918 |  0.46515576 |  0.43789324 | -0.218397161 |  0.55762918 |\n",
       "| TotalDistance |  0.98258776 |  1.00000000 |  0.99939385 |  0.18346509 |  0.811228859 |  0.437843888 |  0.58198623 |  0.059710950 |  0.677257917 |  0.42451374 |  0.38316833 | -0.179505902 |  0.62284676 |\n",
       "| TrackerDistance |  0.98186648 |  0.99939385 |  1.00000000 |  0.15495474 |  0.811157032 |  0.437330977 |  0.58096507 |  0.051032059 |  0.676845353 |  0.42481969 |  0.38071753 | -0.180892590 |  0.62323174 |\n",
       "| LoggedActivitiesDistance |  0.17732321 |  0.18346509 |  0.15495474 |  1.00000000 |  0.143404241 |  0.066680999 |  0.12821789 |  0.151706453 |  0.228377236 |  0.04290768 |  0.08574231 | -0.031005463 |  0.20954121 |\n",
       "| VeryActiveDistance |  0.75636136 |  0.81122886 |  0.81115703 |  0.14340424 |  1.000000000 |  0.162386357 |  0.07641757 |  0.034228813 |  0.820855295 |  0.18008832 | -0.05046813 |  0.006399865 |  0.49030862 |\n",
       "| ModeratelyActiveDistance |  0.47969450 |  0.43784389 |  0.43733098 |  0.06668100 |  0.162386357 |  1.000000000 |  0.15745974 | -0.008633607 |  0.192461242 |  0.94457634 |  0.05859305 | -0.172626327 |  0.17931566 |\n",
       "| LightActiveDistance |  0.60991763 |  0.58198623 |  0.58096507 |  0.12821789 |  0.076417569 |  0.157459738 |  1.00000000 |  0.074124290 |  0.060077583 |  0.12909702 |  0.83974120 | -0.300710217 |  0.41343719 |\n",
       "| SedentaryActiveDistance |  0.04481886 |  0.05971095 |  0.05103206 |  0.15170645 |  0.034228813 | -0.008633607 |  0.07412429 |  1.000000000 | -0.005915374 | -0.03843502 |  0.10293061 |  0.071290877 |  0.02660364 |\n",
       "| VeryActiveMinutes |  0.66522792 |  0.67725792 |  0.67684535 |  0.22837724 |  0.820855295 |  0.192461242 |  0.06007758 | -0.005915374 |  1.000000000 |  0.28140886 | -0.07550098 | -0.106862801 |  0.62214122 |\n",
       "| FairlyActiveMinutes |  0.46515576 |  0.42451374 |  0.42481969 |  0.04290768 |  0.180088325 |  0.944576342 |  0.12909702 | -0.038435025 |  0.281408856 |  1.00000000 |  0.03391587 | -0.187572669 |  0.26591121 |\n",
       "| LightlyActiveMinutes |  0.43789324 |  0.38316833 |  0.38071753 |  0.08574231 | -0.050468128 |  0.058593053 |  0.83974120 |  0.102930612 | -0.075500977 |  0.03391587 |  1.00000000 | -0.322329438 |  0.17453757 |\n",
       "| SedentaryMinutes | -0.21839716 | -0.17950590 | -0.18089259 | -0.03100546 |  0.006399865 | -0.172626327 | -0.30071022 |  0.071290877 | -0.106862801 | -0.18757267 | -0.32232944 |  1.000000000 | -0.08511626 |\n",
       "| Calories |  0.55762918 |  0.62284676 |  0.62323174 |  0.20954121 |  0.490308621 |  0.179315662 |  0.41343719 |  0.026603640 |  0.622141217 |  0.26591121 |  0.17453757 | -0.085116259 |  1.00000000 |\n",
       "\n"
      ],
      "text/plain": [
       "                         TotalSteps  TotalDistance TrackerDistance\n",
       "TotalSteps                1.00000000  0.98258776    0.98186648    \n",
       "TotalDistance             0.98258776  1.00000000    0.99939385    \n",
       "TrackerDistance           0.98186648  0.99939385    1.00000000    \n",
       "LoggedActivitiesDistance  0.17732321  0.18346509    0.15495474    \n",
       "VeryActiveDistance        0.75636136  0.81122886    0.81115703    \n",
       "ModeratelyActiveDistance  0.47969450  0.43784389    0.43733098    \n",
       "LightActiveDistance       0.60991763  0.58198623    0.58096507    \n",
       "SedentaryActiveDistance   0.04481886  0.05971095    0.05103206    \n",
       "VeryActiveMinutes         0.66522792  0.67725792    0.67684535    \n",
       "FairlyActiveMinutes       0.46515576  0.42451374    0.42481969    \n",
       "LightlyActiveMinutes      0.43789324  0.38316833    0.38071753    \n",
       "SedentaryMinutes         -0.21839716 -0.17950590   -0.18089259    \n",
       "Calories                  0.55762918  0.62284676    0.62323174    \n",
       "                         LoggedActivitiesDistance VeryActiveDistance\n",
       "TotalSteps                0.17732321               0.756361361      \n",
       "TotalDistance             0.18346509               0.811228859      \n",
       "TrackerDistance           0.15495474               0.811157032      \n",
       "LoggedActivitiesDistance  1.00000000               0.143404241      \n",
       "VeryActiveDistance        0.14340424               1.000000000      \n",
       "ModeratelyActiveDistance  0.06668100               0.162386357      \n",
       "LightActiveDistance       0.12821789               0.076417569      \n",
       "SedentaryActiveDistance   0.15170645               0.034228813      \n",
       "VeryActiveMinutes         0.22837724               0.820855295      \n",
       "FairlyActiveMinutes       0.04290768               0.180088325      \n",
       "LightlyActiveMinutes      0.08574231              -0.050468128      \n",
       "SedentaryMinutes         -0.03100546               0.006399865      \n",
       "Calories                  0.20954121               0.490308621      \n",
       "                         ModeratelyActiveDistance LightActiveDistance\n",
       "TotalSteps                0.479694500              0.60991763        \n",
       "TotalDistance             0.437843888              0.58198623        \n",
       "TrackerDistance           0.437330977              0.58096507        \n",
       "LoggedActivitiesDistance  0.066680999              0.12821789        \n",
       "VeryActiveDistance        0.162386357              0.07641757        \n",
       "ModeratelyActiveDistance  1.000000000              0.15745974        \n",
       "LightActiveDistance       0.157459738              1.00000000        \n",
       "SedentaryActiveDistance  -0.008633607              0.07412429        \n",
       "VeryActiveMinutes         0.192461242              0.06007758        \n",
       "FairlyActiveMinutes       0.944576342              0.12909702        \n",
       "LightlyActiveMinutes      0.058593053              0.83974120        \n",
       "SedentaryMinutes         -0.172626327             -0.30071022        \n",
       "Calories                  0.179315662              0.41343719        \n",
       "                         SedentaryActiveDistance VeryActiveMinutes\n",
       "TotalSteps                0.044818862             0.665227918     \n",
       "TotalDistance             0.059710950             0.677257917     \n",
       "TrackerDistance           0.051032059             0.676845353     \n",
       "LoggedActivitiesDistance  0.151706453             0.228377236     \n",
       "VeryActiveDistance        0.034228813             0.820855295     \n",
       "ModeratelyActiveDistance -0.008633607             0.192461242     \n",
       "LightActiveDistance       0.074124290             0.060077583     \n",
       "SedentaryActiveDistance   1.000000000            -0.005915374     \n",
       "VeryActiveMinutes        -0.005915374             1.000000000     \n",
       "FairlyActiveMinutes      -0.038435025             0.281408856     \n",
       "LightlyActiveMinutes      0.102930612            -0.075500977     \n",
       "SedentaryMinutes          0.071290877            -0.106862801     \n",
       "Calories                  0.026603640             0.622141217     \n",
       "                         FairlyActiveMinutes LightlyActiveMinutes\n",
       "TotalSteps                0.46515576          0.43789324         \n",
       "TotalDistance             0.42451374          0.38316833         \n",
       "TrackerDistance           0.42481969          0.38071753         \n",
       "LoggedActivitiesDistance  0.04290768          0.08574231         \n",
       "VeryActiveDistance        0.18008832         -0.05046813         \n",
       "ModeratelyActiveDistance  0.94457634          0.05859305         \n",
       "LightActiveDistance       0.12909702          0.83974120         \n",
       "SedentaryActiveDistance  -0.03843502          0.10293061         \n",
       "VeryActiveMinutes         0.28140886         -0.07550098         \n",
       "FairlyActiveMinutes       1.00000000          0.03391587         \n",
       "LightlyActiveMinutes      0.03391587          1.00000000         \n",
       "SedentaryMinutes         -0.18757267         -0.32232944         \n",
       "Calories                  0.26591121          0.17453757         \n",
       "                         SedentaryMinutes Calories   \n",
       "TotalSteps               -0.218397161      0.55762918\n",
       "TotalDistance            -0.179505902      0.62284676\n",
       "TrackerDistance          -0.180892590      0.62323174\n",
       "LoggedActivitiesDistance -0.031005463      0.20954121\n",
       "VeryActiveDistance        0.006399865      0.49030862\n",
       "ModeratelyActiveDistance -0.172626327      0.17931566\n",
       "LightActiveDistance      -0.300710217      0.41343719\n",
       "SedentaryActiveDistance   0.071290877      0.02660364\n",
       "VeryActiveMinutes        -0.106862801      0.62214122\n",
       "FairlyActiveMinutes      -0.187572669      0.26591121\n",
       "LightlyActiveMinutes     -0.322329438      0.17453757\n",
       "SedentaryMinutes          1.000000000     -0.08511626\n",
       "Calories                 -0.085116259      1.00000000"
      ]
     },
     "metadata": {},
     "output_type": "display_data"
    }
   ],
   "source": [
    "cor(subset(daily_activity, select = -c(Id, Dt, Datet)))"
   ]
  },
  {
   "cell_type": "code",
   "execution_count": 28,
   "id": "ee4e9106",
   "metadata": {},
   "outputs": [
    {
     "data": {
      "text/html": [
       "<table class=\"dataframe\">\n",
       "<caption>A matrix: 13 × 13 of type dbl</caption>\n",
       "<thead>\n",
       "\t<tr><th></th><th scope=col>TotalSteps</th><th scope=col>TotalDistance</th><th scope=col>TrackerDistance</th><th scope=col>LoggedActivitiesDistance</th><th scope=col>VeryActiveDistance</th><th scope=col>ModeratelyActiveDistance</th><th scope=col>LightActiveDistance</th><th scope=col>SedentaryActiveDistance</th><th scope=col>VeryActiveMinutes</th><th scope=col>FairlyActiveMinutes</th><th scope=col>LightlyActiveMinutes</th><th scope=col>SedentaryMinutes</th><th scope=col>Calories</th></tr>\n",
       "</thead>\n",
       "<tbody>\n",
       "\t<tr><th scope=row>TotalSteps</th><td> 1.00000000</td><td> 0.98690864</td><td> 0.955637180</td><td> 0.68915783</td><td> 0.768170495</td><td> 0.537240676</td><td> 0.62426161</td><td> 0.056001445</td><td> 0.02707353</td><td> 0.5786939</td><td> 0.72289176</td><td> 0.191976013</td><td>-0.20748986</td></tr>\n",
       "\t<tr><th scope=row>TotalDistance</th><td> 0.98690864</td><td> 1.00000000</td><td> 0.977126725</td><td> 0.63126921</td><td> 0.806839267</td><td> 0.522588108</td><td> 0.60377497</td><td> 0.057995835</td><td> 0.15414266</td><td> 0.5367536</td><td> 0.64710223</td><td> 0.112490660</td><td>-0.09602796</td></tr>\n",
       "\t<tr><th scope=row>TrackerDistance</th><td> 0.95563718</td><td> 0.97712672</td><td> 1.000000000</td><td> 0.47397439</td><td> 0.820566112</td><td> 0.459545525</td><td> 0.56956979</td><td>-0.019771302</td><td> 0.30491099</td><td> 0.4818339</td><td> 0.52959045</td><td>-0.008767722</td><td> 0.05506843</td></tr>\n",
       "\t<tr><th scope=row>LoggedActivitiesDistance</th><td> 0.68915783</td><td> 0.63126921</td><td> 0.473974393</td><td> 1.00000000</td><td> 0.348747257</td><td> 0.425271910</td><td> 0.55712216</td><td> 0.094530373</td><td>-0.54112522</td><td> 0.5124950</td><td> 0.88567010</td><td> 0.575480770</td><td>-0.60128964</td></tr>\n",
       "\t<tr><th scope=row>VeryActiveDistance</th><td> 0.76817049</td><td> 0.80683927</td><td> 0.820566112</td><td> 0.34874726</td><td> 1.000000000</td><td> 0.279281411</td><td> 0.06877672</td><td>-0.003876765</td><td> 0.40440019</td><td> 0.3767248</td><td> 0.24869036</td><td> 0.106475036</td><td>-0.02301008</td></tr>\n",
       "\t<tr><th scope=row>ModeratelyActiveDistance</th><td> 0.53724068</td><td> 0.52258811</td><td> 0.459545525</td><td> 0.42527191</td><td> 0.279281411</td><td> 1.000000000</td><td> 0.18745659</td><td> 0.574661079</td><td>-0.23555122</td><td> 0.8151781</td><td> 0.33355996</td><td> 0.007751084</td><td>-0.42252138</td></tr>\n",
       "\t<tr><th scope=row>LightActiveDistance</th><td> 0.62426161</td><td> 0.60377497</td><td> 0.569569788</td><td> 0.55712216</td><td> 0.068776719</td><td> 0.187456587</td><td> 1.00000000</td><td>-0.145491367</td><td>-0.14458400</td><td> 0.1588839</td><td> 0.76742849</td><td> 0.060328178</td><td> 0.04034806</td></tr>\n",
       "\t<tr><th scope=row>SedentaryActiveDistance</th><td> 0.05600145</td><td> 0.05799584</td><td>-0.019771302</td><td> 0.09453037</td><td>-0.003876765</td><td> 0.574661079</td><td>-0.14549137</td><td> 1.000000000</td><td>-0.26344049</td><td> 0.3345360</td><td> 0.07339744</td><td>-0.256754287</td><td>-0.47246330</td></tr>\n",
       "\t<tr><th scope=row>VeryActiveMinutes</th><td> 0.02707353</td><td> 0.15414266</td><td> 0.304910993</td><td>-0.54112522</td><td> 0.404400193</td><td>-0.235551223</td><td>-0.14458400</td><td>-0.263440487</td><td> 1.00000000</td><td>-0.2666487</td><td>-0.52653143</td><td>-0.550668212</td><td> 0.85272869</td></tr>\n",
       "\t<tr><th scope=row>FairlyActiveMinutes</th><td> 0.57869392</td><td> 0.53675356</td><td> 0.481833908</td><td> 0.51249503</td><td> 0.376724771</td><td> 0.815178122</td><td> 0.15888389</td><td> 0.334536013</td><td>-0.26664865</td><td> 1.0000000</td><td> 0.37748696</td><td> 0.253943272</td><td>-0.42910177</td></tr>\n",
       "\t<tr><th scope=row>LightlyActiveMinutes</th><td> 0.72289176</td><td> 0.64710223</td><td> 0.529590452</td><td> 0.88567010</td><td> 0.248690363</td><td> 0.333559961</td><td> 0.76742849</td><td> 0.073397440</td><td>-0.52653143</td><td> 0.3774870</td><td> 1.00000000</td><td> 0.416407559</td><td>-0.51350665</td></tr>\n",
       "\t<tr><th scope=row>SedentaryMinutes</th><td> 0.19197601</td><td> 0.11249066</td><td>-0.008767722</td><td> 0.57548077</td><td> 0.106475036</td><td> 0.007751084</td><td> 0.06032818</td><td>-0.256754287</td><td>-0.55066821</td><td> 0.2539433</td><td> 0.41640756</td><td> 1.000000000</td><td>-0.48055198</td></tr>\n",
       "\t<tr><th scope=row>Calories</th><td>-0.20748986</td><td>-0.09602796</td><td> 0.055068428</td><td>-0.60128964</td><td>-0.023010080</td><td>-0.422521376</td><td> 0.04034806</td><td>-0.472463301</td><td> 0.85272869</td><td>-0.4291018</td><td>-0.51350665</td><td>-0.480551980</td><td> 1.00000000</td></tr>\n",
       "</tbody>\n",
       "</table>\n"
      ],
      "text/latex": [
       "A matrix: 13 × 13 of type dbl\n",
       "\\begin{tabular}{r|lllllllllllll}\n",
       "  & TotalSteps & TotalDistance & TrackerDistance & LoggedActivitiesDistance & VeryActiveDistance & ModeratelyActiveDistance & LightActiveDistance & SedentaryActiveDistance & VeryActiveMinutes & FairlyActiveMinutes & LightlyActiveMinutes & SedentaryMinutes & Calories\\\\\n",
       "\\hline\n",
       "\tTotalSteps &  1.00000000 &  0.98690864 &  0.955637180 &  0.68915783 &  0.768170495 &  0.537240676 &  0.62426161 &  0.056001445 &  0.02707353 &  0.5786939 &  0.72289176 &  0.191976013 & -0.20748986\\\\\n",
       "\tTotalDistance &  0.98690864 &  1.00000000 &  0.977126725 &  0.63126921 &  0.806839267 &  0.522588108 &  0.60377497 &  0.057995835 &  0.15414266 &  0.5367536 &  0.64710223 &  0.112490660 & -0.09602796\\\\\n",
       "\tTrackerDistance &  0.95563718 &  0.97712672 &  1.000000000 &  0.47397439 &  0.820566112 &  0.459545525 &  0.56956979 & -0.019771302 &  0.30491099 &  0.4818339 &  0.52959045 & -0.008767722 &  0.05506843\\\\\n",
       "\tLoggedActivitiesDistance &  0.68915783 &  0.63126921 &  0.473974393 &  1.00000000 &  0.348747257 &  0.425271910 &  0.55712216 &  0.094530373 & -0.54112522 &  0.5124950 &  0.88567010 &  0.575480770 & -0.60128964\\\\\n",
       "\tVeryActiveDistance &  0.76817049 &  0.80683927 &  0.820566112 &  0.34874726 &  1.000000000 &  0.279281411 &  0.06877672 & -0.003876765 &  0.40440019 &  0.3767248 &  0.24869036 &  0.106475036 & -0.02301008\\\\\n",
       "\tModeratelyActiveDistance &  0.53724068 &  0.52258811 &  0.459545525 &  0.42527191 &  0.279281411 &  1.000000000 &  0.18745659 &  0.574661079 & -0.23555122 &  0.8151781 &  0.33355996 &  0.007751084 & -0.42252138\\\\\n",
       "\tLightActiveDistance &  0.62426161 &  0.60377497 &  0.569569788 &  0.55712216 &  0.068776719 &  0.187456587 &  1.00000000 & -0.145491367 & -0.14458400 &  0.1588839 &  0.76742849 &  0.060328178 &  0.04034806\\\\\n",
       "\tSedentaryActiveDistance &  0.05600145 &  0.05799584 & -0.019771302 &  0.09453037 & -0.003876765 &  0.574661079 & -0.14549137 &  1.000000000 & -0.26344049 &  0.3345360 &  0.07339744 & -0.256754287 & -0.47246330\\\\\n",
       "\tVeryActiveMinutes &  0.02707353 &  0.15414266 &  0.304910993 & -0.54112522 &  0.404400193 & -0.235551223 & -0.14458400 & -0.263440487 &  1.00000000 & -0.2666487 & -0.52653143 & -0.550668212 &  0.85272869\\\\\n",
       "\tFairlyActiveMinutes &  0.57869392 &  0.53675356 &  0.481833908 &  0.51249503 &  0.376724771 &  0.815178122 &  0.15888389 &  0.334536013 & -0.26664865 &  1.0000000 &  0.37748696 &  0.253943272 & -0.42910177\\\\\n",
       "\tLightlyActiveMinutes &  0.72289176 &  0.64710223 &  0.529590452 &  0.88567010 &  0.248690363 &  0.333559961 &  0.76742849 &  0.073397440 & -0.52653143 &  0.3774870 &  1.00000000 &  0.416407559 & -0.51350665\\\\\n",
       "\tSedentaryMinutes &  0.19197601 &  0.11249066 & -0.008767722 &  0.57548077 &  0.106475036 &  0.007751084 &  0.06032818 & -0.256754287 & -0.55066821 &  0.2539433 &  0.41640756 &  1.000000000 & -0.48055198\\\\\n",
       "\tCalories & -0.20748986 & -0.09602796 &  0.055068428 & -0.60128964 & -0.023010080 & -0.422521376 &  0.04034806 & -0.472463301 &  0.85272869 & -0.4291018 & -0.51350665 & -0.480551980 &  1.00000000\\\\\n",
       "\\end{tabular}\n"
      ],
      "text/markdown": [
       "\n",
       "A matrix: 13 × 13 of type dbl\n",
       "\n",
       "| <!--/--> | TotalSteps | TotalDistance | TrackerDistance | LoggedActivitiesDistance | VeryActiveDistance | ModeratelyActiveDistance | LightActiveDistance | SedentaryActiveDistance | VeryActiveMinutes | FairlyActiveMinutes | LightlyActiveMinutes | SedentaryMinutes | Calories |\n",
       "|---|---|---|---|---|---|---|---|---|---|---|---|---|---|\n",
       "| TotalSteps |  1.00000000 |  0.98690864 |  0.955637180 |  0.68915783 |  0.768170495 |  0.537240676 |  0.62426161 |  0.056001445 |  0.02707353 |  0.5786939 |  0.72289176 |  0.191976013 | -0.20748986 |\n",
       "| TotalDistance |  0.98690864 |  1.00000000 |  0.977126725 |  0.63126921 |  0.806839267 |  0.522588108 |  0.60377497 |  0.057995835 |  0.15414266 |  0.5367536 |  0.64710223 |  0.112490660 | -0.09602796 |\n",
       "| TrackerDistance |  0.95563718 |  0.97712672 |  1.000000000 |  0.47397439 |  0.820566112 |  0.459545525 |  0.56956979 | -0.019771302 |  0.30491099 |  0.4818339 |  0.52959045 | -0.008767722 |  0.05506843 |\n",
       "| LoggedActivitiesDistance |  0.68915783 |  0.63126921 |  0.473974393 |  1.00000000 |  0.348747257 |  0.425271910 |  0.55712216 |  0.094530373 | -0.54112522 |  0.5124950 |  0.88567010 |  0.575480770 | -0.60128964 |\n",
       "| VeryActiveDistance |  0.76817049 |  0.80683927 |  0.820566112 |  0.34874726 |  1.000000000 |  0.279281411 |  0.06877672 | -0.003876765 |  0.40440019 |  0.3767248 |  0.24869036 |  0.106475036 | -0.02301008 |\n",
       "| ModeratelyActiveDistance |  0.53724068 |  0.52258811 |  0.459545525 |  0.42527191 |  0.279281411 |  1.000000000 |  0.18745659 |  0.574661079 | -0.23555122 |  0.8151781 |  0.33355996 |  0.007751084 | -0.42252138 |\n",
       "| LightActiveDistance |  0.62426161 |  0.60377497 |  0.569569788 |  0.55712216 |  0.068776719 |  0.187456587 |  1.00000000 | -0.145491367 | -0.14458400 |  0.1588839 |  0.76742849 |  0.060328178 |  0.04034806 |\n",
       "| SedentaryActiveDistance |  0.05600145 |  0.05799584 | -0.019771302 |  0.09453037 | -0.003876765 |  0.574661079 | -0.14549137 |  1.000000000 | -0.26344049 |  0.3345360 |  0.07339744 | -0.256754287 | -0.47246330 |\n",
       "| VeryActiveMinutes |  0.02707353 |  0.15414266 |  0.304910993 | -0.54112522 |  0.404400193 | -0.235551223 | -0.14458400 | -0.263440487 |  1.00000000 | -0.2666487 | -0.52653143 | -0.550668212 |  0.85272869 |\n",
       "| FairlyActiveMinutes |  0.57869392 |  0.53675356 |  0.481833908 |  0.51249503 |  0.376724771 |  0.815178122 |  0.15888389 |  0.334536013 | -0.26664865 |  1.0000000 |  0.37748696 |  0.253943272 | -0.42910177 |\n",
       "| LightlyActiveMinutes |  0.72289176 |  0.64710223 |  0.529590452 |  0.88567010 |  0.248690363 |  0.333559961 |  0.76742849 |  0.073397440 | -0.52653143 |  0.3774870 |  1.00000000 |  0.416407559 | -0.51350665 |\n",
       "| SedentaryMinutes |  0.19197601 |  0.11249066 | -0.008767722 |  0.57548077 |  0.106475036 |  0.007751084 |  0.06032818 | -0.256754287 | -0.55066821 |  0.2539433 |  0.41640756 |  1.000000000 | -0.48055198 |\n",
       "| Calories | -0.20748986 | -0.09602796 |  0.055068428 | -0.60128964 | -0.023010080 | -0.422521376 |  0.04034806 | -0.472463301 |  0.85272869 | -0.4291018 | -0.51350665 | -0.480551980 |  1.00000000 |\n",
       "\n"
      ],
      "text/plain": [
       "                         TotalSteps  TotalDistance TrackerDistance\n",
       "TotalSteps                1.00000000  0.98690864    0.955637180   \n",
       "TotalDistance             0.98690864  1.00000000    0.977126725   \n",
       "TrackerDistance           0.95563718  0.97712672    1.000000000   \n",
       "LoggedActivitiesDistance  0.68915783  0.63126921    0.473974393   \n",
       "VeryActiveDistance        0.76817049  0.80683927    0.820566112   \n",
       "ModeratelyActiveDistance  0.53724068  0.52258811    0.459545525   \n",
       "LightActiveDistance       0.62426161  0.60377497    0.569569788   \n",
       "SedentaryActiveDistance   0.05600145  0.05799584   -0.019771302   \n",
       "VeryActiveMinutes         0.02707353  0.15414266    0.304910993   \n",
       "FairlyActiveMinutes       0.57869392  0.53675356    0.481833908   \n",
       "LightlyActiveMinutes      0.72289176  0.64710223    0.529590452   \n",
       "SedentaryMinutes          0.19197601  0.11249066   -0.008767722   \n",
       "Calories                 -0.20748986 -0.09602796    0.055068428   \n",
       "                         LoggedActivitiesDistance VeryActiveDistance\n",
       "TotalSteps                0.68915783               0.768170495      \n",
       "TotalDistance             0.63126921               0.806839267      \n",
       "TrackerDistance           0.47397439               0.820566112      \n",
       "LoggedActivitiesDistance  1.00000000               0.348747257      \n",
       "VeryActiveDistance        0.34874726               1.000000000      \n",
       "ModeratelyActiveDistance  0.42527191               0.279281411      \n",
       "LightActiveDistance       0.55712216               0.068776719      \n",
       "SedentaryActiveDistance   0.09453037              -0.003876765      \n",
       "VeryActiveMinutes        -0.54112522               0.404400193      \n",
       "FairlyActiveMinutes       0.51249503               0.376724771      \n",
       "LightlyActiveMinutes      0.88567010               0.248690363      \n",
       "SedentaryMinutes          0.57548077               0.106475036      \n",
       "Calories                 -0.60128964              -0.023010080      \n",
       "                         ModeratelyActiveDistance LightActiveDistance\n",
       "TotalSteps                0.537240676              0.62426161        \n",
       "TotalDistance             0.522588108              0.60377497        \n",
       "TrackerDistance           0.459545525              0.56956979        \n",
       "LoggedActivitiesDistance  0.425271910              0.55712216        \n",
       "VeryActiveDistance        0.279281411              0.06877672        \n",
       "ModeratelyActiveDistance  1.000000000              0.18745659        \n",
       "LightActiveDistance       0.187456587              1.00000000        \n",
       "SedentaryActiveDistance   0.574661079             -0.14549137        \n",
       "VeryActiveMinutes        -0.235551223             -0.14458400        \n",
       "FairlyActiveMinutes       0.815178122              0.15888389        \n",
       "LightlyActiveMinutes      0.333559961              0.76742849        \n",
       "SedentaryMinutes          0.007751084              0.06032818        \n",
       "Calories                 -0.422521376              0.04034806        \n",
       "                         SedentaryActiveDistance VeryActiveMinutes\n",
       "TotalSteps                0.056001445             0.02707353      \n",
       "TotalDistance             0.057995835             0.15414266      \n",
       "TrackerDistance          -0.019771302             0.30491099      \n",
       "LoggedActivitiesDistance  0.094530373            -0.54112522      \n",
       "VeryActiveDistance       -0.003876765             0.40440019      \n",
       "ModeratelyActiveDistance  0.574661079            -0.23555122      \n",
       "LightActiveDistance      -0.145491367            -0.14458400      \n",
       "SedentaryActiveDistance   1.000000000            -0.26344049      \n",
       "VeryActiveMinutes        -0.263440487             1.00000000      \n",
       "FairlyActiveMinutes       0.334536013            -0.26664865      \n",
       "LightlyActiveMinutes      0.073397440            -0.52653143      \n",
       "SedentaryMinutes         -0.256754287            -0.55066821      \n",
       "Calories                 -0.472463301             0.85272869      \n",
       "                         FairlyActiveMinutes LightlyActiveMinutes\n",
       "TotalSteps                0.5786939           0.72289176         \n",
       "TotalDistance             0.5367536           0.64710223         \n",
       "TrackerDistance           0.4818339           0.52959045         \n",
       "LoggedActivitiesDistance  0.5124950           0.88567010         \n",
       "VeryActiveDistance        0.3767248           0.24869036         \n",
       "ModeratelyActiveDistance  0.8151781           0.33355996         \n",
       "LightActiveDistance       0.1588839           0.76742849         \n",
       "SedentaryActiveDistance   0.3345360           0.07339744         \n",
       "VeryActiveMinutes        -0.2666487          -0.52653143         \n",
       "FairlyActiveMinutes       1.0000000           0.37748696         \n",
       "LightlyActiveMinutes      0.3774870           1.00000000         \n",
       "SedentaryMinutes          0.2539433           0.41640756         \n",
       "Calories                 -0.4291018          -0.51350665         \n",
       "                         SedentaryMinutes Calories   \n",
       "TotalSteps                0.191976013     -0.20748986\n",
       "TotalDistance             0.112490660     -0.09602796\n",
       "TrackerDistance          -0.008767722      0.05506843\n",
       "LoggedActivitiesDistance  0.575480770     -0.60128964\n",
       "VeryActiveDistance        0.106475036     -0.02301008\n",
       "ModeratelyActiveDistance  0.007751084     -0.42252138\n",
       "LightActiveDistance       0.060328178      0.04034806\n",
       "SedentaryActiveDistance  -0.256754287     -0.47246330\n",
       "VeryActiveMinutes        -0.550668212      0.85272869\n",
       "FairlyActiveMinutes       0.253943272     -0.42910177\n",
       "LightlyActiveMinutes      0.416407559     -0.51350665\n",
       "SedentaryMinutes          1.000000000     -0.48055198\n",
       "Calories                 -0.480551980      1.00000000"
      ]
     },
     "metadata": {},
     "output_type": "display_data"
    }
   ],
   "source": [
    "cor(subset(daily_with_log, select = -c(Id, Dt, Datet)))"
   ]
  },
  {
   "cell_type": "code",
   "execution_count": 29,
   "id": "75a59c3f",
   "metadata": {},
   "outputs": [
    {
     "name": "stderr",
     "output_type": "stream",
     "text": [
      "`geom_smooth()` using formula 'y ~ x'\n",
      "\n"
     ]
    },
    {
     "data": {
      "image/png": "[encoded data removed]",
      "text/plain": [
       "plot without title"
      ]
     },
     "metadata": {
      "image/png": {
       "height": 600,
       "width": 840
      }
     },
     "output_type": "display_data"
    }
   ],
   "source": [
    "# plot relationship between logged distance and Calories\n",
    "options(repr.plot.width=14, repr.plot.height=10)\n",
    "ggplot(daily_with_log, aes(x= LoggedActivitiesDistance, y= Calories)) +\n",
    "    geom_point(size= 3, color='blue') +\n",
    "    geom_smooth(method= 'lm', color= 'red') +\n",
    "    labs(title = \"Calories Burned vs Logged activity Distance\") + \n",
    "    theme(text = element_text(size = 15) )  "
   ]
  },
  {
   "cell_type": "code",
   "execution_count": 30,
   "id": "87ffca03",
   "metadata": {},
   "outputs": [
    {
     "name": "stderr",
     "output_type": "stream",
     "text": [
      "`geom_smooth()` using formula 'y ~ x'\n",
      "\n"
     ]
    },
    {
     "data": {
      "image/png": "[encoded data removed]",
      "text/plain": [
       "plot without title"
      ]
     },
     "metadata": {
      "image/png": {
       "height": 600,
       "width": 840
      }
     },
     "output_type": "display_data"
    }
   ],
   "source": [
    "# plot relationship between logged distance and very active activity time\n",
    "ggplot(daily_with_log, aes(x= LoggedActivitiesDistance, y= VeryActiveMinutes)) +\n",
    "    geom_point(size= 3, color='blue') +\n",
    "    geom_smooth(method= 'lm', color= 'red') +\n",
    "    labs(title = \"Minutes Spent Very Active vs Logged activity Distance\") + \n",
    "    theme(text = element_text(size = 15) )  "
   ]
  },
  {
   "cell_type": "code",
   "execution_count": 31,
   "id": "a2ba5ac4",
   "metadata": {},
   "outputs": [
    {
     "data": {
      "text/html": [
       "'Avg Calories not logged: 2330'"
      ],
      "text/latex": [
       "'Avg Calories not logged: 2330'"
      ],
      "text/markdown": [
       "'Avg Calories not logged: 2330'"
      ],
      "text/plain": [
       "[1] \"Avg Calories not logged: 2330\""
      ]
     },
     "metadata": {},
     "output_type": "display_data"
    },
    {
     "data": {
      "text/html": [
       "'Avg Calories logged: 3305'"
      ],
      "text/latex": [
       "'Avg Calories logged: 3305'"
      ],
      "text/markdown": [
       "'Avg Calories logged: 3305'"
      ],
      "text/plain": [
       "[1] \"Avg Calories logged: 3305\""
      ]
     },
     "metadata": {},
     "output_type": "display_data"
    }
   ],
   "source": [
    "paste('Avg Calories not logged:', floor(mean(daily_activity[grep(FALSE, daily_activity$LoggedActivitiesDistance != 0),]$Calories)))\n",
    "paste('Avg Calories logged:', mean(daily_with_log$Calories))"
   ]
  },
  {
   "cell_type": "markdown",
   "id": "f248e631",
   "metadata": {},
   "source": [
    "Logged Acitity Findings:\n",
    "* We can see that comparing daily_activities based on logged activities, although the average calories burned is higher when activities are logged, there is a negative corelation between the two variables. Now this is unintuitive since the more distance a person travels, the more calories they should burn. But this also depends on the intensity of the activity. Since there is also a negative correlation with very active minutes, this could be why we see this trend.\n",
    "\n",
    "\n",
    "* Now again working with a small part of the data like this it may be due to chance we see this trend, however data on short intense activites that can motivate individuals to be more active should be gathered to better identify the validity of this connection."
   ]
  },
  {
   "cell_type": "code",
   "execution_count": 32,
   "id": "e5e77926",
   "metadata": {},
   "outputs": [
    {
     "data": {
      "text/html": [
       "<table class=\"dataframe\">\n",
       "<caption>A matrix: 3 × 3 of type dbl</caption>\n",
       "<thead>\n",
       "\t<tr><th></th><th scope=col>TotalSleepRecords</th><th scope=col>TotalMinutesAsleep</th><th scope=col>TotalTimeInBed</th></tr>\n",
       "</thead>\n",
       "<tbody>\n",
       "\t<tr><th scope=row>TotalSleepRecords</th><td>1.0000000</td><td>0.1670393</td><td>0.1735677</td></tr>\n",
       "\t<tr><th scope=row>TotalMinutesAsleep</th><td>0.1670393</td><td>1.0000000</td><td>0.9304224</td></tr>\n",
       "\t<tr><th scope=row>TotalTimeInBed</th><td>0.1735677</td><td>0.9304224</td><td>1.0000000</td></tr>\n",
       "</tbody>\n",
       "</table>\n"
      ],
      "text/latex": [
       "A matrix: 3 × 3 of type dbl\n",
       "\\begin{tabular}{r|lll}\n",
       "  & TotalSleepRecords & TotalMinutesAsleep & TotalTimeInBed\\\\\n",
       "\\hline\n",
       "\tTotalSleepRecords & 1.0000000 & 0.1670393 & 0.1735677\\\\\n",
       "\tTotalMinutesAsleep & 0.1670393 & 1.0000000 & 0.9304224\\\\\n",
       "\tTotalTimeInBed & 0.1735677 & 0.9304224 & 1.0000000\\\\\n",
       "\\end{tabular}\n"
      ],
      "text/markdown": [
       "\n",
       "A matrix: 3 × 3 of type dbl\n",
       "\n",
       "| <!--/--> | TotalSleepRecords | TotalMinutesAsleep | TotalTimeInBed |\n",
       "|---|---|---|---|\n",
       "| TotalSleepRecords | 1.0000000 | 0.1670393 | 0.1735677 |\n",
       "| TotalMinutesAsleep | 0.1670393 | 1.0000000 | 0.9304224 |\n",
       "| TotalTimeInBed | 0.1735677 | 0.9304224 | 1.0000000 |\n",
       "\n"
      ],
      "text/plain": [
       "                   TotalSleepRecords TotalMinutesAsleep TotalTimeInBed\n",
       "TotalSleepRecords  1.0000000         0.1670393          0.1735677     \n",
       "TotalMinutesAsleep 0.1670393         1.0000000          0.9304224     \n",
       "TotalTimeInBed     0.1735677         0.9304224          1.0000000     "
      ]
     },
     "metadata": {},
     "output_type": "display_data"
    }
   ],
   "source": [
    "cor(subset(sleep_day, select = -c(Id, Dt, Datet)))"
   ]
  },
  {
   "cell_type": "code",
   "execution_count": 33,
   "id": "6a65bf25",
   "metadata": {},
   "outputs": [
    {
     "data": {
      "text/html": [
       "<table class=\"dataframe\">\n",
       "<caption>A data.frame: 6 × 20</caption>\n",
       "<thead>\n",
       "\t<tr><th></th><th scope=col>Id</th><th scope=col>Datet</th><th scope=col>Dt.x</th><th scope=col>TotalSteps</th><th scope=col>TotalDistance</th><th scope=col>TrackerDistance</th><th scope=col>LoggedActivitiesDistance</th><th scope=col>VeryActiveDistance</th><th scope=col>ModeratelyActiveDistance</th><th scope=col>LightActiveDistance</th><th scope=col>SedentaryActiveDistance</th><th scope=col>VeryActiveMinutes</th><th scope=col>FairlyActiveMinutes</th><th scope=col>LightlyActiveMinutes</th><th scope=col>SedentaryMinutes</th><th scope=col>Calories</th><th scope=col>Dt.y</th><th scope=col>TotalSleepRecords</th><th scope=col>TotalMinutesAsleep</th><th scope=col>TotalTimeInBed</th></tr>\n",
       "\t<tr><th></th><th scope=col>&lt;fct&gt;</th><th scope=col>&lt;dttm&gt;</th><th scope=col>&lt;chr&gt;</th><th scope=col>&lt;int&gt;</th><th scope=col>&lt;dbl&gt;</th><th scope=col>&lt;dbl&gt;</th><th scope=col>&lt;dbl&gt;</th><th scope=col>&lt;dbl&gt;</th><th scope=col>&lt;dbl&gt;</th><th scope=col>&lt;dbl&gt;</th><th scope=col>&lt;dbl&gt;</th><th scope=col>&lt;int&gt;</th><th scope=col>&lt;int&gt;</th><th scope=col>&lt;int&gt;</th><th scope=col>&lt;int&gt;</th><th scope=col>&lt;int&gt;</th><th scope=col>&lt;chr&gt;</th><th scope=col>&lt;int&gt;</th><th scope=col>&lt;int&gt;</th><th scope=col>&lt;int&gt;</th></tr>\n",
       "</thead>\n",
       "<tbody>\n",
       "\t<tr><th scope=row>1</th><td>1503960366</td><td>2016-04-12</td><td>4-12-2016</td><td>13162</td><td>8.50</td><td>8.50</td><td>0</td><td>1.88</td><td>0.55</td><td>6.06</td><td>0</td><td>25</td><td>13</td><td>328</td><td>728</td><td>1985</td><td>4-12-2016 12:00:00 AM</td><td>1</td><td>327</td><td>346</td></tr>\n",
       "\t<tr><th scope=row>2</th><td>1503960366</td><td>2016-04-13</td><td>4-13-2016</td><td>10735</td><td>6.97</td><td>6.97</td><td>0</td><td>1.57</td><td>0.69</td><td>4.71</td><td>0</td><td>21</td><td>19</td><td>217</td><td>776</td><td>1797</td><td>4-13-2016 12:00:00 AM</td><td>2</td><td>384</td><td>407</td></tr>\n",
       "\t<tr><th scope=row>4</th><td>1503960366</td><td>2016-04-15</td><td>4-15-2016</td><td> 9762</td><td>6.28</td><td>6.28</td><td>0</td><td>2.14</td><td>1.26</td><td>2.83</td><td>0</td><td>29</td><td>34</td><td>209</td><td>726</td><td>1745</td><td>4-15-2016 12:00:00 AM</td><td>1</td><td>412</td><td>442</td></tr>\n",
       "\t<tr><th scope=row>5</th><td>1503960366</td><td>2016-04-16</td><td>4-16-2016</td><td>12669</td><td>8.16</td><td>8.16</td><td>0</td><td>2.71</td><td>0.41</td><td>5.04</td><td>0</td><td>36</td><td>10</td><td>221</td><td>773</td><td>1863</td><td>4-16-2016 12:00:00 AM</td><td>2</td><td>340</td><td>367</td></tr>\n",
       "\t<tr><th scope=row>6</th><td>1503960366</td><td>2016-04-17</td><td>4-17-2016</td><td> 9705</td><td>6.48</td><td>6.48</td><td>0</td><td>3.19</td><td>0.78</td><td>2.51</td><td>0</td><td>38</td><td>20</td><td>164</td><td>539</td><td>1728</td><td>4-17-2016 12:00:00 AM</td><td>1</td><td>700</td><td>712</td></tr>\n",
       "\t<tr><th scope=row>8</th><td>1503960366</td><td>2016-04-19</td><td>4-19-2016</td><td>15506</td><td>9.88</td><td>9.88</td><td>0</td><td>3.53</td><td>1.32</td><td>5.03</td><td>0</td><td>50</td><td>31</td><td>264</td><td>775</td><td>2035</td><td>4-19-2016 12:00:00 AM</td><td>1</td><td>304</td><td>320</td></tr>\n",
       "</tbody>\n",
       "</table>\n"
      ],
      "text/latex": [
       "A data.frame: 6 × 20\n",
       "\\begin{tabular}{r|llllllllllllllllllll}\n",
       "  & Id & Datet & Dt.x & TotalSteps & TotalDistance & TrackerDistance & LoggedActivitiesDistance & VeryActiveDistance & ModeratelyActiveDistance & LightActiveDistance & SedentaryActiveDistance & VeryActiveMinutes & FairlyActiveMinutes & LightlyActiveMinutes & SedentaryMinutes & Calories & Dt.y & TotalSleepRecords & TotalMinutesAsleep & TotalTimeInBed\\\\\n",
       "  & <fct> & <dttm> & <chr> & <int> & <dbl> & <dbl> & <dbl> & <dbl> & <dbl> & <dbl> & <dbl> & <int> & <int> & <int> & <int> & <int> & <chr> & <int> & <int> & <int>\\\\\n",
       "\\hline\n",
       "\t1 & 1503960366 & 2016-04-12 & 4-12-2016 & 13162 & 8.50 & 8.50 & 0 & 1.88 & 0.55 & 6.06 & 0 & 25 & 13 & 328 & 728 & 1985 & 4-12-2016 12:00:00 AM & 1 & 327 & 346\\\\\n",
       "\t2 & 1503960366 & 2016-04-13 & 4-13-2016 & 10735 & 6.97 & 6.97 & 0 & 1.57 & 0.69 & 4.71 & 0 & 21 & 19 & 217 & 776 & 1797 & 4-13-2016 12:00:00 AM & 2 & 384 & 407\\\\\n",
       "\t4 & 1503960366 & 2016-04-15 & 4-15-2016 &  9762 & 6.28 & 6.28 & 0 & 2.14 & 1.26 & 2.83 & 0 & 29 & 34 & 209 & 726 & 1745 & 4-15-2016 12:00:00 AM & 1 & 412 & 442\\\\\n",
       "\t5 & 1503960366 & 2016-04-16 & 4-16-2016 & 12669 & 8.16 & 8.16 & 0 & 2.71 & 0.41 & 5.04 & 0 & 36 & 10 & 221 & 773 & 1863 & 4-16-2016 12:00:00 AM & 2 & 340 & 367\\\\\n",
       "\t6 & 1503960366 & 2016-04-17 & 4-17-2016 &  9705 & 6.48 & 6.48 & 0 & 3.19 & 0.78 & 2.51 & 0 & 38 & 20 & 164 & 539 & 1728 & 4-17-2016 12:00:00 AM & 1 & 700 & 712\\\\\n",
       "\t8 & 1503960366 & 2016-04-19 & 4-19-2016 & 15506 & 9.88 & 9.88 & 0 & 3.53 & 1.32 & 5.03 & 0 & 50 & 31 & 264 & 775 & 2035 & 4-19-2016 12:00:00 AM & 1 & 304 & 320\\\\\n",
       "\\end{tabular}\n"
      ],
      "text/markdown": [
       "\n",
       "A data.frame: 6 × 20\n",
       "\n",
       "| <!--/--> | Id &lt;fct&gt; | Datet &lt;dttm&gt; | Dt.x &lt;chr&gt; | TotalSteps &lt;int&gt; | TotalDistance &lt;dbl&gt; | TrackerDistance &lt;dbl&gt; | LoggedActivitiesDistance &lt;dbl&gt; | VeryActiveDistance &lt;dbl&gt; | ModeratelyActiveDistance &lt;dbl&gt; | LightActiveDistance &lt;dbl&gt; | SedentaryActiveDistance &lt;dbl&gt; | VeryActiveMinutes &lt;int&gt; | FairlyActiveMinutes &lt;int&gt; | LightlyActiveMinutes &lt;int&gt; | SedentaryMinutes &lt;int&gt; | Calories &lt;int&gt; | Dt.y &lt;chr&gt; | TotalSleepRecords &lt;int&gt; | TotalMinutesAsleep &lt;int&gt; | TotalTimeInBed &lt;int&gt; |\n",
       "|---|---|---|---|---|---|---|---|---|---|---|---|---|---|---|---|---|---|---|---|---|\n",
       "| 1 | 1503960366 | 2016-04-12 | 4-12-2016 | 13162 | 8.50 | 8.50 | 0 | 1.88 | 0.55 | 6.06 | 0 | 25 | 13 | 328 | 728 | 1985 | 4-12-2016 12:00:00 AM | 1 | 327 | 346 |\n",
       "| 2 | 1503960366 | 2016-04-13 | 4-13-2016 | 10735 | 6.97 | 6.97 | 0 | 1.57 | 0.69 | 4.71 | 0 | 21 | 19 | 217 | 776 | 1797 | 4-13-2016 12:00:00 AM | 2 | 384 | 407 |\n",
       "| 4 | 1503960366 | 2016-04-15 | 4-15-2016 |  9762 | 6.28 | 6.28 | 0 | 2.14 | 1.26 | 2.83 | 0 | 29 | 34 | 209 | 726 | 1745 | 4-15-2016 12:00:00 AM | 1 | 412 | 442 |\n",
       "| 5 | 1503960366 | 2016-04-16 | 4-16-2016 | 12669 | 8.16 | 8.16 | 0 | 2.71 | 0.41 | 5.04 | 0 | 36 | 10 | 221 | 773 | 1863 | 4-16-2016 12:00:00 AM | 2 | 340 | 367 |\n",
       "| 6 | 1503960366 | 2016-04-17 | 4-17-2016 |  9705 | 6.48 | 6.48 | 0 | 3.19 | 0.78 | 2.51 | 0 | 38 | 20 | 164 | 539 | 1728 | 4-17-2016 12:00:00 AM | 1 | 700 | 712 |\n",
       "| 8 | 1503960366 | 2016-04-19 | 4-19-2016 | 15506 | 9.88 | 9.88 | 0 | 3.53 | 1.32 | 5.03 | 0 | 50 | 31 | 264 | 775 | 2035 | 4-19-2016 12:00:00 AM | 1 | 304 | 320 |\n",
       "\n"
      ],
      "text/plain": [
       "  Id         Datet      Dt.x      TotalSteps TotalDistance TrackerDistance\n",
       "1 1503960366 2016-04-12 4-12-2016 13162      8.50          8.50           \n",
       "2 1503960366 2016-04-13 4-13-2016 10735      6.97          6.97           \n",
       "4 1503960366 2016-04-15 4-15-2016  9762      6.28          6.28           \n",
       "5 1503960366 2016-04-16 4-16-2016 12669      8.16          8.16           \n",
       "6 1503960366 2016-04-17 4-17-2016  9705      6.48          6.48           \n",
       "8 1503960366 2016-04-19 4-19-2016 15506      9.88          9.88           \n",
       "  LoggedActivitiesDistance VeryActiveDistance ModeratelyActiveDistance\n",
       "1 0                        1.88               0.55                    \n",
       "2 0                        1.57               0.69                    \n",
       "4 0                        2.14               1.26                    \n",
       "5 0                        2.71               0.41                    \n",
       "6 0                        3.19               0.78                    \n",
       "8 0                        3.53               1.32                    \n",
       "  LightActiveDistance SedentaryActiveDistance VeryActiveMinutes\n",
       "1 6.06                0                       25               \n",
       "2 4.71                0                       21               \n",
       "4 2.83                0                       29               \n",
       "5 5.04                0                       36               \n",
       "6 2.51                0                       38               \n",
       "8 5.03                0                       50               \n",
       "  FairlyActiveMinutes LightlyActiveMinutes SedentaryMinutes Calories\n",
       "1 13                  328                  728              1985    \n",
       "2 19                  217                  776              1797    \n",
       "4 34                  209                  726              1745    \n",
       "5 10                  221                  773              1863    \n",
       "6 20                  164                  539              1728    \n",
       "8 31                  264                  775              2035    \n",
       "  Dt.y                  TotalSleepRecords TotalMinutesAsleep TotalTimeInBed\n",
       "1 4-12-2016 12:00:00 AM 1                 327                346           \n",
       "2 4-13-2016 12:00:00 AM 2                 384                407           \n",
       "4 4-15-2016 12:00:00 AM 1                 412                442           \n",
       "5 4-16-2016 12:00:00 AM 2                 340                367           \n",
       "6 4-17-2016 12:00:00 AM 1                 700                712           \n",
       "8 4-19-2016 12:00:00 AM 1                 304                320           "
      ]
     },
     "metadata": {},
     "output_type": "display_data"
    }
   ],
   "source": [
    "# combine activity types with sleep through a data merge\n",
    "activity_sleep <- merge(daily_activity, sleep_day, by = c(\"Id\", \"Datet\"), all = TRUE) \n",
    "head(activity_sleep[grep(FALSE,is.na(activity_sleep$Dt.y)),])"
   ]
  },
  {
   "cell_type": "code",
   "execution_count": 34,
   "id": "635e5691",
   "metadata": {},
   "outputs": [
    {
     "data": {
      "text/html": [
       "<table class=\"dataframe\">\n",
       "<caption>A tibble: 6 × 6</caption>\n",
       "<thead>\n",
       "\t<tr><th scope=col>Id</th><th scope=col>Datet</th><th scope=col>Calories</th><th scope=col>TotalSteps</th><th scope=col>ActivityType</th><th scope=col>Minutes</th></tr>\n",
       "\t<tr><th scope=col>&lt;fct&gt;</th><th scope=col>&lt;dttm&gt;</th><th scope=col>&lt;int&gt;</th><th scope=col>&lt;int&gt;</th><th scope=col>&lt;chr&gt;</th><th scope=col>&lt;int&gt;</th></tr>\n",
       "</thead>\n",
       "<tbody>\n",
       "\t<tr><td>1503960366</td><td>2016-04-12</td><td>1985</td><td>13162</td><td>VeryActiveMinutes   </td><td> 25</td></tr>\n",
       "\t<tr><td>1503960366</td><td>2016-04-12</td><td>1985</td><td>13162</td><td>FairlyActiveMinutes </td><td> 13</td></tr>\n",
       "\t<tr><td>1503960366</td><td>2016-04-12</td><td>1985</td><td>13162</td><td>LightlyActiveMinutes</td><td>328</td></tr>\n",
       "\t<tr><td>1503960366</td><td>2016-04-12</td><td>1985</td><td>13162</td><td>SedentaryMinutes    </td><td>728</td></tr>\n",
       "\t<tr><td>1503960366</td><td>2016-04-13</td><td>1797</td><td>10735</td><td>VeryActiveMinutes   </td><td> 21</td></tr>\n",
       "\t<tr><td>1503960366</td><td>2016-04-13</td><td>1797</td><td>10735</td><td>FairlyActiveMinutes </td><td> 19</td></tr>\n",
       "</tbody>\n",
       "</table>\n"
      ],
      "text/latex": [
       "A tibble: 6 × 6\n",
       "\\begin{tabular}{llllll}\n",
       " Id & Datet & Calories & TotalSteps & ActivityType & Minutes\\\\\n",
       " <fct> & <dttm> & <int> & <int> & <chr> & <int>\\\\\n",
       "\\hline\n",
       "\t 1503960366 & 2016-04-12 & 1985 & 13162 & VeryActiveMinutes    &  25\\\\\n",
       "\t 1503960366 & 2016-04-12 & 1985 & 13162 & FairlyActiveMinutes  &  13\\\\\n",
       "\t 1503960366 & 2016-04-12 & 1985 & 13162 & LightlyActiveMinutes & 328\\\\\n",
       "\t 1503960366 & 2016-04-12 & 1985 & 13162 & SedentaryMinutes     & 728\\\\\n",
       "\t 1503960366 & 2016-04-13 & 1797 & 10735 & VeryActiveMinutes    &  21\\\\\n",
       "\t 1503960366 & 2016-04-13 & 1797 & 10735 & FairlyActiveMinutes  &  19\\\\\n",
       "\\end{tabular}\n"
      ],
      "text/markdown": [
       "\n",
       "A tibble: 6 × 6\n",
       "\n",
       "| Id &lt;fct&gt; | Datet &lt;dttm&gt; | Calories &lt;int&gt; | TotalSteps &lt;int&gt; | ActivityType &lt;chr&gt; | Minutes &lt;int&gt; |\n",
       "|---|---|---|---|---|---|\n",
       "| 1503960366 | 2016-04-12 | 1985 | 13162 | VeryActiveMinutes    |  25 |\n",
       "| 1503960366 | 2016-04-12 | 1985 | 13162 | FairlyActiveMinutes  |  13 |\n",
       "| 1503960366 | 2016-04-12 | 1985 | 13162 | LightlyActiveMinutes | 328 |\n",
       "| 1503960366 | 2016-04-12 | 1985 | 13162 | SedentaryMinutes     | 728 |\n",
       "| 1503960366 | 2016-04-13 | 1797 | 10735 | VeryActiveMinutes    |  21 |\n",
       "| 1503960366 | 2016-04-13 | 1797 | 10735 | FairlyActiveMinutes  |  19 |\n",
       "\n"
      ],
      "text/plain": [
       "  Id         Datet      Calories TotalSteps ActivityType         Minutes\n",
       "1 1503960366 2016-04-12 1985     13162      VeryActiveMinutes     25    \n",
       "2 1503960366 2016-04-12 1985     13162      FairlyActiveMinutes   13    \n",
       "3 1503960366 2016-04-12 1985     13162      LightlyActiveMinutes 328    \n",
       "4 1503960366 2016-04-12 1985     13162      SedentaryMinutes     728    \n",
       "5 1503960366 2016-04-13 1797     10735      VeryActiveMinutes     21    \n",
       "6 1503960366 2016-04-13 1797     10735      FairlyActiveMinutes   19    "
      ]
     },
     "metadata": {},
     "output_type": "display_data"
    }
   ],
   "source": [
    "# group data based on the activity type and convert type into column\n",
    "By_activity_type <- activity_sleep %>% \n",
    "    select(Id, Datet, TotalSteps, VeryActiveMinutes, FairlyActiveMinutes, LightlyActiveMinutes, SedentaryMinutes, Calories)\n",
    "By_activity_type <- relocate(By_activity_type, Calories, .before = TotalSteps)\n",
    "By_activity_type$Id <- as.factor(By_activity_type$Id)\n",
    "\n",
    "By_activity_type <- pivot_longer(By_activity_type, 5:8, names_to= \"ActivityType\", values_to= \"Minutes\")\n",
    "head(By_activity_type)"
   ]
  },
  {
   "cell_type": "code",
   "execution_count": 35,
   "id": "1793258a",
   "metadata": {},
   "outputs": [
    {
     "name": "stderr",
     "output_type": "stream",
     "text": [
      "`summarise()` has grouped output by 'Id'. You can override using the `.groups` argument.\n",
      "\n"
     ]
    },
    {
     "data": {
      "image/png": "[encoded data removed]",
      "text/plain": [
       "plot without title"
      ]
     },
     "metadata": {
      "image/png": {
       "height": 600,
       "width": 840
      }
     },
     "output_type": "display_data"
    }
   ],
   "source": [
    "# get the average activity time per user and plot bar graph showing time distribution\n",
    "By_intensity_type_avg <- By_activity_type %>%\n",
    "    group_by(Id, ActivityType) %>%\n",
    "    summarise(hours= round(mean(Minutes)/60,1)) %>%\n",
    "    na.omit()\n",
    "\n",
    "ggplot(By_intensity_type_avg) +\n",
    "    geom_bar(stat= \"identity\", aes(x= Id, y= hours, fill= ActivityType)) +\n",
    "    geom_hline(yintercept= 24, color= \"black\", size= .25) +\n",
    "    annotate(\"text\", x = 5, y = 23, label = \"24hours\") +\n",
    "    labs(title = \"Activity per user Id\", x = \"Users\") + \n",
    "    guides(x = \"none\") +\n",
    "    theme(text = element_text(size = 15))    "
   ]
  },
  {
   "cell_type": "code",
   "execution_count": 36,
   "id": "e894957a",
   "metadata": {},
   "outputs": [],
   "source": [
    "# find proportion of time users spend in each activity\n",
    "daily_activity$TotalMinutes <- daily_activity$VeryActiveMinutes + daily_activity$FairlyActiveMinutes + daily_activity$LightlyActiveMinutes + daily_activity$SedentaryMinutes\n",
    "TotalReportedMinutes <- sum(daily_activity$VeryActiveMinutes) + sum(daily_activity$FairlyActiveMinutes) + sum(daily_activity$LightlyActiveMinutes) + sum(daily_activity$SedentaryMinutes)"
   ]
  },
  {
   "cell_type": "code",
   "execution_count": 37,
   "id": "c4a447e7",
   "metadata": {},
   "outputs": [
    {
     "data": {
      "text/html": [
       "'Very Active: 1.92860751622556 %'"
      ],
      "text/latex": [
       "'Very Active: 1.92860751622556 \\%'"
      ],
      "text/markdown": [
       "'Very Active: 1.92860751622556 %'"
      ],
      "text/plain": [
       "[1] \"Very Active: 1.92860751622556 %\""
      ]
     },
     "metadata": {},
     "output_type": "display_data"
    },
    {
     "data": {
      "text/html": [
       "'Fairly Active: 1.23829233220629 %'"
      ],
      "text/latex": [
       "'Fairly Active: 1.23829233220629 \\%'"
      ],
      "text/markdown": [
       "'Fairly Active: 1.23829233220629 %'"
      ],
      "text/plain": [
       "[1] \"Fairly Active: 1.23829233220629 %\""
      ]
     },
     "metadata": {},
     "output_type": "display_data"
    },
    {
     "data": {
      "text/html": [
       "'Lightly Active: 17.6033772492324 %'"
      ],
      "text/latex": [
       "'Lightly Active: 17.6033772492324 \\%'"
      ],
      "text/markdown": [
       "'Lightly Active: 17.6033772492324 %'"
      ],
      "text/plain": [
       "[1] \"Lightly Active: 17.6033772492324 %\""
      ]
     },
     "metadata": {},
     "output_type": "display_data"
    },
    {
     "data": {
      "text/html": [
       "'Sedentary: 79.2297229023357 %'"
      ],
      "text/latex": [
       "'Sedentary: 79.2297229023357 \\%'"
      ],
      "text/markdown": [
       "'Sedentary: 79.2297229023357 %'"
      ],
      "text/plain": [
       "[1] \"Sedentary: 79.2297229023357 %\""
      ]
     },
     "metadata": {},
     "output_type": "display_data"
    }
   ],
   "source": [
    "paste(\"Very Active:\", sum(daily_activity$VeryActiveMinutes) / TotalReportedMinutes * 100, \"%\")\n",
    "paste(\"Fairly Active:\", sum(daily_activity$FairlyActiveMinutes) / TotalReportedMinutes * 100, \"%\")\n",
    "paste(\"Lightly Active:\", sum(daily_activity$LightlyActiveMinutes) / TotalReportedMinutes * 100, \"%\")\n",
    "paste(\"Sedentary:\", sum(daily_activity$SedentaryMinutes) / TotalReportedMinutes * 100, \"%\")"
   ]
  },
  {
   "cell_type": "markdown",
   "id": "f8f4c2cd",
   "metadata": {},
   "source": [
    "It appears that sleep data and sedentary data may overlap each other as the reported times can be up to 24 hours for some users. Users spending 3-5 hours lightly active and 0-3 hour doin more intense activites. It seems that being more active is not as consistent as lighter activites, which is where the health managment device could help user be more aware of how they are spending their time. Also, some of the time spent sedentary could be used for more light activities, where a small reminder from the device could be enough to increase minutes active."
   ]
  },
  {
   "cell_type": "code",
   "execution_count": 38,
   "id": "9fb72a75",
   "metadata": {},
   "outputs": [
    {
     "data": {
      "image/png": "[encoded data removed]",
      "text/plain": [
       "plot without title"
      ]
     },
     "metadata": {
      "image/png": {
       "height": 600,
       "width": 840
      }
     },
     "output_type": "display_data"
    }
   ],
   "source": [
    "va <- ggplot(daily_activity %>%\n",
    "    group_by(Datet) %>%\n",
    "    summarize(Ratio = mean(VeryActiveMinutes / TotalMinutes)), aes(x = Datet, y = Ratio)) + \n",
    "    geom_point(size= 2, shape= 1) +\n",
    "    ylim(0, 1) +\n",
    "    theme(axis.title = element_text(size = 20))    \n",
    "fa <- ggplot(daily_activity %>%\n",
    "    group_by(Datet) %>%\n",
    "    summarize(Ratio = mean(FairlyActiveMinutes / TotalMinutes)), aes(x = Datet, y = Ratio)) + \n",
    "    geom_point(size= 2, shape= 2) +\n",
    "    ylim(0, 1) +\n",
    "    theme(axis.title = element_text(size = 20)) \n",
    "li <- ggplot(daily_activity %>%\n",
    "    group_by(Datet) %>%\n",
    "    summarize(Ratio = mean(LightlyActiveMinutes / TotalMinutes)), aes(x = Datet, y = Ratio)) + \n",
    "    geom_point(size= 2, shape= 3) +\n",
    "    ylim(0, 1) +\n",
    "    theme(axis.title = element_text(size = 20)) \n",
    "se <- ggplot(daily_activity %>%\n",
    "    group_by(Datet) %>%\n",
    "    summarize(Ratio = mean(SedentaryMinutes / TotalMinutes)), aes(x = Datet, y = Ratio)) + \n",
    "    geom_point(size= 2, shape= 4) +\n",
    "    ylim(0, 1) +\n",
    "    theme(axis.title = element_text(size = 20)) \n",
    "\n",
    "plot_grid(va, fa, li, se, labels=c(\"Very Active\", \"Fairly Active\", \"LightlyActive\", \"Sedentary\"), ncol = 2, nrow = 2)"
   ]
  },
  {
   "cell_type": "markdown",
   "id": "2f42a330",
   "metadata": {},
   "source": [
    "It also appears that over the month the time spent in each activity type remains relatively the same."
   ]
  },
  {
   "cell_type": "code",
   "execution_count": 39,
   "id": "dde58b5e",
   "metadata": {},
   "outputs": [
    {
     "data": {
      "text/html": [
       "<table class=\"dataframe\">\n",
       "<caption>A tibble: 6 × 2</caption>\n",
       "<thead>\n",
       "\t<tr><th scope=col>Id</th><th scope=col>Calories</th></tr>\n",
       "\t<tr><th scope=col>&lt;fct&gt;</th><th scope=col>&lt;dbl&gt;</th></tr>\n",
       "</thead>\n",
       "<tbody>\n",
       "\t<tr><td>1503960366</td><td>1877</td></tr>\n",
       "\t<tr><td>1624580081</td><td>1483</td></tr>\n",
       "\t<tr><td>1644430081</td><td>2811</td></tr>\n",
       "\t<tr><td>1844505072</td><td>1714</td></tr>\n",
       "\t<tr><td>1927972279</td><td>2252</td></tr>\n",
       "\t<tr><td>2022484408</td><td>2510</td></tr>\n",
       "</tbody>\n",
       "</table>\n"
      ],
      "text/latex": [
       "A tibble: 6 × 2\n",
       "\\begin{tabular}{ll}\n",
       " Id & Calories\\\\\n",
       " <fct> & <dbl>\\\\\n",
       "\\hline\n",
       "\t 1503960366 & 1877\\\\\n",
       "\t 1624580081 & 1483\\\\\n",
       "\t 1644430081 & 2811\\\\\n",
       "\t 1844505072 & 1714\\\\\n",
       "\t 1927972279 & 2252\\\\\n",
       "\t 2022484408 & 2510\\\\\n",
       "\\end{tabular}\n"
      ],
      "text/markdown": [
       "\n",
       "A tibble: 6 × 2\n",
       "\n",
       "| Id &lt;fct&gt; | Calories &lt;dbl&gt; |\n",
       "|---|---|\n",
       "| 1503960366 | 1877 |\n",
       "| 1624580081 | 1483 |\n",
       "| 1644430081 | 2811 |\n",
       "| 1844505072 | 1714 |\n",
       "| 1927972279 | 2252 |\n",
       "| 2022484408 | 2510 |\n",
       "\n"
      ],
      "text/plain": [
       "  Id         Calories\n",
       "1 1503960366 1877    \n",
       "2 1624580081 1483    \n",
       "3 1644430081 2811    \n",
       "4 1844505072 1714    \n",
       "5 1927972279 2252    \n",
       "6 2022484408 2510    "
      ]
     },
     "metadata": {},
     "output_type": "display_data"
    },
    {
     "data": {
      "text/html": [
       "2348.27272727273"
      ],
      "text/latex": [
       "2348.27272727273"
      ],
      "text/markdown": [
       "2348.27272727273"
      ],
      "text/plain": [
       "[1] 2348.273"
      ]
     },
     "metadata": {},
     "output_type": "display_data"
    }
   ],
   "source": [
    "# Getting the average calorie burned for an individual based on day\n",
    "activity_calorie_avg <- activity_sleep %>% \n",
    "  group_by(Id) %>% \n",
    "  summarise(Calories = round(mean(Calories, na.rm = TRUE)))\n",
    "\n",
    "cal_avg <- mean(activity_calorie_avg$Calories)\n",
    "head(activity_calorie_avg)\n",
    "cal_avg"
   ]
  },
  {
   "cell_type": "code",
   "execution_count": 40,
   "id": "70ae98f6",
   "metadata": {},
   "outputs": [
    {
     "data": {
      "image/png": "[encoded data removed]",
      "text/plain": [
       "plot without title"
      ]
     },
     "metadata": {
      "image/png": {
       "height": 600,
       "width": 840
      }
     },
     "output_type": "display_data"
    }
   ],
   "source": [
    "# plot calories per user Id\n",
    "ggplot(activity_calorie_avg) + \n",
    "    geom_bar(stat = \"identity\", aes(x = Id, y = Calories), fill = \"#ED9D4A\") +\n",
    "    labs(title = \"Calories per user Id\", x = \"Users\") + \n",
    "    theme(text = element_text(size = 15)) +\n",
    "    geom_hline(yintercept = 3000, colour = \"green\", size=1) +\n",
    "    annotate(\"text\", x = 5, y = 2950, label = \"Male healthy max\",size= 8) +\n",
    "    geom_hline(yintercept = 2400, colour = \"blue\", size=1) +\n",
    "    annotate(\"text\", x = 5, y = 2500, label = \"Female healthy max\",size= 8) +\n",
    "    geom_hline(yintercept = cal_avg, colour = \"black\", size=1) +\n",
    "    annotate(\"text\", x = 5, y = 2200, label = \"User daily average\",size= 8) +\n",
    "    guides(x = 'none')"
   ]
  },
  {
   "cell_type": "markdown",
   "id": "d722a7fb",
   "metadata": {},
   "source": [
    "For weight maintance or loss, the average female between 19 and 30 should consume less than 2400 calories. That number is 3000 calories for men in that age range [[3]](#cite_3). For 19 users, they are burning below the 2400 calorie threshold which mean if they are similar enough to the average female and eat in excess of their average calorie intake, they will gain weight. There are 4 users who burn above 3000 calories which can be a healthy amount depending on gender, activity level, and weight goals. the remaining 7 fall between 2400 and 3000 calories and without additional information analysis is limited."
   ]
  },
  {
   "cell_type": "code",
   "execution_count": 41,
   "id": "c2164ac5",
   "metadata": {},
   "outputs": [],
   "source": [
    "# Identify trends based on day of the week\n",
    "daily_activity$Weekday = weekdays(daily_activity$Datet)\n",
    "by_weekday <- daily_activity %>% \n",
    "  group_by(Weekday) %>% \n",
    "  summarise(Calories = round(mean(Calories)),\n",
    "           Steps = round(mean(TotalSteps)),\n",
    "           Distance = round(mean(TotalDistance),1))"
   ]
  },
  {
   "cell_type": "code",
   "execution_count": 42,
   "id": "65b641cc",
   "metadata": {},
   "outputs": [
    {
     "data": {
      "text/html": [
       "<table class=\"dataframe\">\n",
       "<caption>A tibble: 7 × 4</caption>\n",
       "<thead>\n",
       "\t<tr><th scope=col>Weekday</th><th scope=col>Calories</th><th scope=col>Steps</th><th scope=col>Distance</th></tr>\n",
       "\t<tr><th scope=col>&lt;chr&gt;</th><th scope=col>&lt;dbl&gt;</th><th scope=col>&lt;dbl&gt;</th><th scope=col>&lt;dbl&gt;</th></tr>\n",
       "</thead>\n",
       "<tbody>\n",
       "\t<tr><td>Friday   </td><td>2368</td><td>7886</td><td>5.6</td></tr>\n",
       "\t<tr><td>Monday   </td><td>2381</td><td>8488</td><td>6.1</td></tr>\n",
       "\t<tr><td>Saturday </td><td>2426</td><td>8979</td><td>6.4</td></tr>\n",
       "\t<tr><td>Sunday   </td><td>2310</td><td>7669</td><td>5.6</td></tr>\n",
       "\t<tr><td>Thursday </td><td>2295</td><td>8224</td><td>5.9</td></tr>\n",
       "\t<tr><td>Tuesday  </td><td>2434</td><td>8927</td><td>6.4</td></tr>\n",
       "\t<tr><td>Wednesday</td><td>2355</td><td>8245</td><td>6.0</td></tr>\n",
       "</tbody>\n",
       "</table>\n"
      ],
      "text/latex": [
       "A tibble: 7 × 4\n",
       "\\begin{tabular}{llll}\n",
       " Weekday & Calories & Steps & Distance\\\\\n",
       " <chr> & <dbl> & <dbl> & <dbl>\\\\\n",
       "\\hline\n",
       "\t Friday    & 2368 & 7886 & 5.6\\\\\n",
       "\t Monday    & 2381 & 8488 & 6.1\\\\\n",
       "\t Saturday  & 2426 & 8979 & 6.4\\\\\n",
       "\t Sunday    & 2310 & 7669 & 5.6\\\\\n",
       "\t Thursday  & 2295 & 8224 & 5.9\\\\\n",
       "\t Tuesday   & 2434 & 8927 & 6.4\\\\\n",
       "\t Wednesday & 2355 & 8245 & 6.0\\\\\n",
       "\\end{tabular}\n"
      ],
      "text/markdown": [
       "\n",
       "A tibble: 7 × 4\n",
       "\n",
       "| Weekday &lt;chr&gt; | Calories &lt;dbl&gt; | Steps &lt;dbl&gt; | Distance &lt;dbl&gt; |\n",
       "|---|---|---|---|\n",
       "| Friday    | 2368 | 7886 | 5.6 |\n",
       "| Monday    | 2381 | 8488 | 6.1 |\n",
       "| Saturday  | 2426 | 8979 | 6.4 |\n",
       "| Sunday    | 2310 | 7669 | 5.6 |\n",
       "| Thursday  | 2295 | 8224 | 5.9 |\n",
       "| Tuesday   | 2434 | 8927 | 6.4 |\n",
       "| Wednesday | 2355 | 8245 | 6.0 |\n",
       "\n"
      ],
      "text/plain": [
       "  Weekday   Calories Steps Distance\n",
       "1 Friday    2368     7886  5.6     \n",
       "2 Monday    2381     8488  6.1     \n",
       "3 Saturday  2426     8979  6.4     \n",
       "4 Sunday    2310     7669  5.6     \n",
       "5 Thursday  2295     8224  5.9     \n",
       "6 Tuesday   2434     8927  6.4     \n",
       "7 Wednesday 2355     8245  6.0     "
      ]
     },
     "metadata": {},
     "output_type": "display_data"
    }
   ],
   "source": [
    "by_weekday"
   ]
  },
  {
   "cell_type": "code",
   "execution_count": 43,
   "id": "02e5bfcc",
   "metadata": {},
   "outputs": [
    {
     "data": {
      "image/png": "[encoded data removed]",
      "text/plain": [
       "plot without title"
      ]
     },
     "metadata": {
      "image/png": {
       "height": 600,
       "width": 840
      }
     },
     "output_type": "display_data"
    }
   ],
   "source": [
    "cal <- ggplot(by_weekday) +\n",
    "    geom_bar(stat = \"identity\", aes(x= Weekday, y= Calories), fill = \"#ED9D4A\")+ \n",
    "    theme(text = element_text(size = 13))\n",
    "step <- ggplot(by_weekday) +\n",
    "    geom_bar(stat = \"identity\", aes(x= Weekday, y= Steps), fill = \"#ED9D4A\")+ \n",
    "    theme(text = element_text(size = 13))\n",
    "dist <- ggplot(by_weekday) +\n",
    "    geom_bar(stat = \"identity\", aes(x= Weekday, y= Distance), fill = \"#ED9D4A\")+ \n",
    "    theme(text = element_text(size = 13))\n",
    "ggarrange(cal, step, dist, \n",
    "          labels = c(\"Calorie\", \"Steps\", \"Distance\"),\n",
    "          ncol = 3, nrow = 1)"
   ]
  },
  {
   "cell_type": "markdown",
   "id": "ce75bc29",
   "metadata": {},
   "source": [
    "The change in the bar graphs shows that throughout the week there is some variation but no overall significant trend that favors a certain weekday."
   ]
  },
  {
   "cell_type": "markdown",
   "id": "8221224c",
   "metadata": {},
   "source": [
    "#### <span style=\"color:#ED9D4A\">4.2.2 Hour and sleep data analysis</span>  <a class=\"anchor\" id=\"head_4_2_2\"></a>"
   ]
  },
  {
   "cell_type": "code",
   "execution_count": 44,
   "id": "d8e0c3e3",
   "metadata": {},
   "outputs": [],
   "source": [
    "# combining hour data into on dataframe\n",
    "merged_hour_data <- merge(hourly_calories, hourly_steps, by= c('Id', 'Datet'))\n",
    "merged_hour_data <- merge(merged_hour_data, hourly_intensities, by= c('Id','Datet'))\n",
    "merged_hour_data$hour <- format(merged_hour_data$Datet, format = \"%H:%M\")"
   ]
  },
  {
   "cell_type": "code",
   "execution_count": 45,
   "id": "aaa8cfcf",
   "metadata": {},
   "outputs": [
    {
     "data": {
      "text/html": [
       "<table class=\"dataframe\">\n",
       "<caption>A data.frame: 6 × 10</caption>\n",
       "<thead>\n",
       "\t<tr><th></th><th scope=col>Id</th><th scope=col>Datet</th><th scope=col>Dt.x</th><th scope=col>Calories</th><th scope=col>Dt.y</th><th scope=col>Steps</th><th scope=col>Dt</th><th scope=col>TotalIntensity</th><th scope=col>AverageIntensity</th><th scope=col>hour</th></tr>\n",
       "\t<tr><th></th><th scope=col>&lt;fct&gt;</th><th scope=col>&lt;dttm&gt;</th><th scope=col>&lt;chr&gt;</th><th scope=col>&lt;int&gt;</th><th scope=col>&lt;chr&gt;</th><th scope=col>&lt;int&gt;</th><th scope=col>&lt;chr&gt;</th><th scope=col>&lt;int&gt;</th><th scope=col>&lt;dbl&gt;</th><th scope=col>&lt;chr&gt;</th></tr>\n",
       "</thead>\n",
       "<tbody>\n",
       "\t<tr><th scope=row>1</th><td>1503960366</td><td>2016-04-12 00:00:00</td><td>4-12-2016 12:00:00 AM</td><td>81</td><td>4-12-2016 12:00:00 AM</td><td>373</td><td>4-12-2016 12:00:00 AM</td><td>20</td><td>0.333333</td><td>00:00</td></tr>\n",
       "\t<tr><th scope=row>2</th><td>1503960366</td><td>2016-04-12 01:00:00</td><td>4-12-2016 1:00:00 AM </td><td>61</td><td>4-12-2016 1:00:00 AM </td><td>160</td><td>4-12-2016 1:00:00 AM </td><td> 8</td><td>0.133333</td><td>01:00</td></tr>\n",
       "\t<tr><th scope=row>3</th><td>1503960366</td><td>2016-04-12 02:00:00</td><td>4-12-2016 2:00:00 AM </td><td>59</td><td>4-12-2016 2:00:00 AM </td><td>151</td><td>4-12-2016 2:00:00 AM </td><td> 7</td><td>0.116667</td><td>02:00</td></tr>\n",
       "\t<tr><th scope=row>4</th><td>1503960366</td><td>2016-04-12 03:00:00</td><td>4-12-2016 3:00:00 AM </td><td>47</td><td>4-12-2016 3:00:00 AM </td><td>  0</td><td>4-12-2016 3:00:00 AM </td><td> 0</td><td>0.000000</td><td>03:00</td></tr>\n",
       "\t<tr><th scope=row>5</th><td>1503960366</td><td>2016-04-12 04:00:00</td><td>4-12-2016 4:00:00 AM </td><td>48</td><td>4-12-2016 4:00:00 AM </td><td>  0</td><td>4-12-2016 4:00:00 AM </td><td> 0</td><td>0.000000</td><td>04:00</td></tr>\n",
       "\t<tr><th scope=row>6</th><td>1503960366</td><td>2016-04-12 05:00:00</td><td>4-12-2016 5:00:00 AM </td><td>48</td><td>4-12-2016 5:00:00 AM </td><td>  0</td><td>4-12-2016 5:00:00 AM </td><td> 0</td><td>0.000000</td><td>05:00</td></tr>\n",
       "</tbody>\n",
       "</table>\n"
      ],
      "text/latex": [
       "A data.frame: 6 × 10\n",
       "\\begin{tabular}{r|llllllllll}\n",
       "  & Id & Datet & Dt.x & Calories & Dt.y & Steps & Dt & TotalIntensity & AverageIntensity & hour\\\\\n",
       "  & <fct> & <dttm> & <chr> & <int> & <chr> & <int> & <chr> & <int> & <dbl> & <chr>\\\\\n",
       "\\hline\n",
       "\t1 & 1503960366 & 2016-04-12 00:00:00 & 4-12-2016 12:00:00 AM & 81 & 4-12-2016 12:00:00 AM & 373 & 4-12-2016 12:00:00 AM & 20 & 0.333333 & 00:00\\\\\n",
       "\t2 & 1503960366 & 2016-04-12 01:00:00 & 4-12-2016 1:00:00 AM  & 61 & 4-12-2016 1:00:00 AM  & 160 & 4-12-2016 1:00:00 AM  &  8 & 0.133333 & 01:00\\\\\n",
       "\t3 & 1503960366 & 2016-04-12 02:00:00 & 4-12-2016 2:00:00 AM  & 59 & 4-12-2016 2:00:00 AM  & 151 & 4-12-2016 2:00:00 AM  &  7 & 0.116667 & 02:00\\\\\n",
       "\t4 & 1503960366 & 2016-04-12 03:00:00 & 4-12-2016 3:00:00 AM  & 47 & 4-12-2016 3:00:00 AM  &   0 & 4-12-2016 3:00:00 AM  &  0 & 0.000000 & 03:00\\\\\n",
       "\t5 & 1503960366 & 2016-04-12 04:00:00 & 4-12-2016 4:00:00 AM  & 48 & 4-12-2016 4:00:00 AM  &   0 & 4-12-2016 4:00:00 AM  &  0 & 0.000000 & 04:00\\\\\n",
       "\t6 & 1503960366 & 2016-04-12 05:00:00 & 4-12-2016 5:00:00 AM  & 48 & 4-12-2016 5:00:00 AM  &   0 & 4-12-2016 5:00:00 AM  &  0 & 0.000000 & 05:00\\\\\n",
       "\\end{tabular}\n"
      ],
      "text/markdown": [
       "\n",
       "A data.frame: 6 × 10\n",
       "\n",
       "| <!--/--> | Id &lt;fct&gt; | Datet &lt;dttm&gt; | Dt.x &lt;chr&gt; | Calories &lt;int&gt; | Dt.y &lt;chr&gt; | Steps &lt;int&gt; | Dt &lt;chr&gt; | TotalIntensity &lt;int&gt; | AverageIntensity &lt;dbl&gt; | hour &lt;chr&gt; |\n",
       "|---|---|---|---|---|---|---|---|---|---|---|\n",
       "| 1 | 1503960366 | 2016-04-12 00:00:00 | 4-12-2016 12:00:00 AM | 81 | 4-12-2016 12:00:00 AM | 373 | 4-12-2016 12:00:00 AM | 20 | 0.333333 | 00:00 |\n",
       "| 2 | 1503960366 | 2016-04-12 01:00:00 | 4-12-2016 1:00:00 AM  | 61 | 4-12-2016 1:00:00 AM  | 160 | 4-12-2016 1:00:00 AM  |  8 | 0.133333 | 01:00 |\n",
       "| 3 | 1503960366 | 2016-04-12 02:00:00 | 4-12-2016 2:00:00 AM  | 59 | 4-12-2016 2:00:00 AM  | 151 | 4-12-2016 2:00:00 AM  |  7 | 0.116667 | 02:00 |\n",
       "| 4 | 1503960366 | 2016-04-12 03:00:00 | 4-12-2016 3:00:00 AM  | 47 | 4-12-2016 3:00:00 AM  |   0 | 4-12-2016 3:00:00 AM  |  0 | 0.000000 | 03:00 |\n",
       "| 5 | 1503960366 | 2016-04-12 04:00:00 | 4-12-2016 4:00:00 AM  | 48 | 4-12-2016 4:00:00 AM  |   0 | 4-12-2016 4:00:00 AM  |  0 | 0.000000 | 04:00 |\n",
       "| 6 | 1503960366 | 2016-04-12 05:00:00 | 4-12-2016 5:00:00 AM  | 48 | 4-12-2016 5:00:00 AM  |   0 | 4-12-2016 5:00:00 AM  |  0 | 0.000000 | 05:00 |\n",
       "\n"
      ],
      "text/plain": [
       "  Id         Datet               Dt.x                  Calories\n",
       "1 1503960366 2016-04-12 00:00:00 4-12-2016 12:00:00 AM 81      \n",
       "2 1503960366 2016-04-12 01:00:00 4-12-2016 1:00:00 AM  61      \n",
       "3 1503960366 2016-04-12 02:00:00 4-12-2016 2:00:00 AM  59      \n",
       "4 1503960366 2016-04-12 03:00:00 4-12-2016 3:00:00 AM  47      \n",
       "5 1503960366 2016-04-12 04:00:00 4-12-2016 4:00:00 AM  48      \n",
       "6 1503960366 2016-04-12 05:00:00 4-12-2016 5:00:00 AM  48      \n",
       "  Dt.y                  Steps Dt                    TotalIntensity\n",
       "1 4-12-2016 12:00:00 AM 373   4-12-2016 12:00:00 AM 20            \n",
       "2 4-12-2016 1:00:00 AM  160   4-12-2016 1:00:00 AM   8            \n",
       "3 4-12-2016 2:00:00 AM  151   4-12-2016 2:00:00 AM   7            \n",
       "4 4-12-2016 3:00:00 AM    0   4-12-2016 3:00:00 AM   0            \n",
       "5 4-12-2016 4:00:00 AM    0   4-12-2016 4:00:00 AM   0            \n",
       "6 4-12-2016 5:00:00 AM    0   4-12-2016 5:00:00 AM   0            \n",
       "  AverageIntensity hour \n",
       "1 0.333333         00:00\n",
       "2 0.133333         01:00\n",
       "3 0.116667         02:00\n",
       "4 0.000000         03:00\n",
       "5 0.000000         04:00\n",
       "6 0.000000         05:00"
      ]
     },
     "metadata": {},
     "output_type": "display_data"
    }
   ],
   "source": [
    "head(merged_hour_data)"
   ]
  },
  {
   "cell_type": "code",
   "execution_count": 46,
   "id": "741a00cb",
   "metadata": {},
   "outputs": [
    {
     "data": {
      "text/html": [
       "<table class=\"dataframe\">\n",
       "<caption>A tibble: 6 × 4</caption>\n",
       "<thead>\n",
       "\t<tr><th scope=col>hour</th><th scope=col>AverageCalories</th><th scope=col>AverageSteps</th><th scope=col>AverageIntensity</th></tr>\n",
       "\t<tr><th scope=col>&lt;chr&gt;</th><th scope=col>&lt;dbl&gt;</th><th scope=col>&lt;dbl&gt;</th><th scope=col>&lt;dbl&gt;</th></tr>\n",
       "</thead>\n",
       "<tbody>\n",
       "\t<tr><td>00:00</td><td>71.80514</td><td>42.188437</td><td>0.035492524</td></tr>\n",
       "\t<tr><td>01:00</td><td>70.16506</td><td>23.102894</td><td>0.023651328</td></tr>\n",
       "\t<tr><td>02:00</td><td>69.18650</td><td>17.110397</td><td>0.017399091</td></tr>\n",
       "\t<tr><td>03:00</td><td>67.53805</td><td> 6.426581</td><td>0.007395519</td></tr>\n",
       "\t<tr><td>04:00</td><td>68.26180</td><td>12.699571</td><td>0.010550801</td></tr>\n",
       "\t<tr><td>05:00</td><td>81.70815</td><td>43.869099</td><td>0.082510751</td></tr>\n",
       "</tbody>\n",
       "</table>\n"
      ],
      "text/latex": [
       "A tibble: 6 × 4\n",
       "\\begin{tabular}{llll}\n",
       " hour & AverageCalories & AverageSteps & AverageIntensity\\\\\n",
       " <chr> & <dbl> & <dbl> & <dbl>\\\\\n",
       "\\hline\n",
       "\t 00:00 & 71.80514 & 42.188437 & 0.035492524\\\\\n",
       "\t 01:00 & 70.16506 & 23.102894 & 0.023651328\\\\\n",
       "\t 02:00 & 69.18650 & 17.110397 & 0.017399091\\\\\n",
       "\t 03:00 & 67.53805 &  6.426581 & 0.007395519\\\\\n",
       "\t 04:00 & 68.26180 & 12.699571 & 0.010550801\\\\\n",
       "\t 05:00 & 81.70815 & 43.869099 & 0.082510751\\\\\n",
       "\\end{tabular}\n"
      ],
      "text/markdown": [
       "\n",
       "A tibble: 6 × 4\n",
       "\n",
       "| hour &lt;chr&gt; | AverageCalories &lt;dbl&gt; | AverageSteps &lt;dbl&gt; | AverageIntensity &lt;dbl&gt; |\n",
       "|---|---|---|---|\n",
       "| 00:00 | 71.80514 | 42.188437 | 0.035492524 |\n",
       "| 01:00 | 70.16506 | 23.102894 | 0.023651328 |\n",
       "| 02:00 | 69.18650 | 17.110397 | 0.017399091 |\n",
       "| 03:00 | 67.53805 |  6.426581 | 0.007395519 |\n",
       "| 04:00 | 68.26180 | 12.699571 | 0.010550801 |\n",
       "| 05:00 | 81.70815 | 43.869099 | 0.082510751 |\n",
       "\n"
      ],
      "text/plain": [
       "  hour  AverageCalories AverageSteps AverageIntensity\n",
       "1 00:00 71.80514        42.188437    0.035492524     \n",
       "2 01:00 70.16506        23.102894    0.023651328     \n",
       "3 02:00 69.18650        17.110397    0.017399091     \n",
       "4 03:00 67.53805         6.426581    0.007395519     \n",
       "5 04:00 68.26180        12.699571    0.010550801     \n",
       "6 05:00 81.70815        43.869099    0.082510751     "
      ]
     },
     "metadata": {},
     "output_type": "display_data"
    }
   ],
   "source": [
    "# getting average values based on hour of day\n",
    "merged_hour_data <- merged_hour_data %>%\n",
    "    group_by(hour) %>%\n",
    "    summarise(AverageCalories= mean(Calories),\n",
    "              AverageSteps= mean(Steps),\n",
    "              AverageIntensity= mean(AverageIntensity))\n",
    "head(merged_hour_data)"
   ]
  },
  {
   "cell_type": "code",
   "execution_count": 47,
   "id": "91df909f",
   "metadata": {},
   "outputs": [
    {
     "data": {
      "image/png": "[encoded data removed]",
      "text/plain": [
       "plot without title"
      ]
     },
     "metadata": {
      "image/png": {
       "height": 600,
       "width": 840
      }
     },
     "output_type": "display_data"
    }
   ],
   "source": [
    "# plot average based on hour of day\n",
    "ggarrange(\n",
    "ggplot(data=merged_hour_data)+\n",
    "  geom_col(mapping = aes(x=hour,y=AverageSteps, fill=AverageSteps))+\n",
    "  scale_fill_gradient(low = \"blue\", high = \"#ED9D4A\")+\n",
    "  theme(plot.title = element_text(size = 20, face = \"bold\"),\n",
    "        axis.text.x = element_text(angle = 80, size=11),\n",
    "        axis.text.y = element_text(size=13))+\n",
    "  labs(title = \"Hourly steps\", x=\"Time\", y=\"Average Steps\")+\n",
    "  guides(fill = guide_legend(title = \"Average Steps\")),  \n",
    "ggplot(data=merged_hour_data)+\n",
    "  geom_col(mapping = aes(x=hour,y=AverageCalories, fill=AverageCalories))+\n",
    "  scale_fill_gradient(low = \"blue\", high = \"#ED9D4A\")+\n",
    "  theme(plot.title = element_text(size = 20, face = \"bold\"),\n",
    "        axis.text.x = element_text(angle = 85, size=11),\n",
    "        axis.text.y = element_text(size=13))+\n",
    "  labs(title = \"Hourly calories\", x=\"Time\", y=\"Average calories\")+\n",
    "  guides(fill = guide_legend(title = \"Average Calories\")),\n",
    "ggplot(data=merged_hour_data)+\n",
    "  geom_col(mapping = aes(x=hour,y=AverageIntensity, fill=AverageIntensity))+\n",
    "  scale_fill_gradient(low = \"blue\", high = \"#ED9D4A\")+\n",
    "  theme(plot.title = element_text(size = 20, face = \"bold\"),\n",
    "        axis.text.x = element_text(angle = 85, size=11),\n",
    "        axis.text.y = element_text(size=13))+\n",
    "  labs(title = \"Hourly intensity\", x=\"Time\", y=\"Average intensity\")+\n",
    "  guides(fill = guide_legend(title = \"Average Intensity\"))\n",
    ")"
   ]
  },
  {
   "cell_type": "markdown",
   "id": "91aa9cc3",
   "metadata": {},
   "source": [
    "It seems that most activity takes place in a 3 hour period either before 2 PM or after 5 PM. This period between 2 and 4 may be a good time for motivation or a reminder since the most active period comes directly after. these two periods are important for understanding how to get users more engaged by focusing on when they are most likely to be doing higher intensity activities. It may also be beneficial to identify low intensity time ranges inorder to encourge more light activity rather than being sedentary."
   ]
  },
  {
   "cell_type": "code",
   "execution_count": 48,
   "id": "1c2d23a9",
   "metadata": {},
   "outputs": [
    {
     "data": {
      "text/html": [
       "<table class=\"dataframe\">\n",
       "<caption>A matrix: 16 × 16 of type dbl</caption>\n",
       "<thead>\n",
       "\t<tr><th></th><th scope=col>TotalSteps</th><th scope=col>TotalDistance</th><th scope=col>TrackerDistance</th><th scope=col>LoggedActivitiesDistance</th><th scope=col>VeryActiveDistance</th><th scope=col>ModeratelyActiveDistance</th><th scope=col>LightActiveDistance</th><th scope=col>SedentaryActiveDistance</th><th scope=col>VeryActiveMinutes</th><th scope=col>FairlyActiveMinutes</th><th scope=col>LightlyActiveMinutes</th><th scope=col>SedentaryMinutes</th><th scope=col>Calories</th><th scope=col>TotalSleepRecords</th><th scope=col>TotalMinutesAsleep</th><th scope=col>TotalTimeInBed</th></tr>\n",
       "</thead>\n",
       "<tbody>\n",
       "\t<tr><th scope=row>TotalSteps</th><td> 1.00000000</td><td> 0.98131930</td><td> 0.98145022</td><td> 0.11301319</td><td> 0.68137729</td><td> 0.57865880</td><td> 0.573045414</td><td> 0.046662840</td><td> 0.54275096</td><td> 0.56707366</td><td> 0.399243153</td><td>-0.19602623</td><td> 0.38611310</td><td>-0.16767894</td><td>-0.19784438</td><td>-0.17306838</td></tr>\n",
       "\t<tr><th scope=row>TotalDistance</th><td> 0.98131930</td><td> 1.00000000</td><td> 0.99954443</td><td> 0.16690409</td><td> 0.70869229</td><td> 0.55756221</td><td> 0.582993199</td><td> 0.059624607</td><td> 0.57694278</td><td> 0.54701950</td><td> 0.366034511</td><td>-0.19069232</td><td> 0.50597357</td><td>-0.14864290</td><td>-0.18392863</td><td>-0.16764852</td></tr>\n",
       "\t<tr><th scope=row>TrackerDistance</th><td> 0.98145022</td><td> 0.99954443</td><td> 1.00000000</td><td> 0.15444074</td><td> 0.70773166</td><td> 0.55625139</td><td> 0.584110743</td><td> 0.039247807</td><td> 0.57663475</td><td> 0.54717729</td><td> 0.366550739</td><td>-0.19080266</td><td> 0.50726674</td><td>-0.14829069</td><td>-0.18460435</td><td>-0.16784464</td></tr>\n",
       "\t<tr><th scope=row>LoggedActivitiesDistance</th><td> 0.11301319</td><td> 0.16690409</td><td> 0.15444074</td><td> 1.00000000</td><td> 0.18767924</td><td> 0.02677244</td><td> 0.062029077</td><td> 0.382026699</td><td> 0.33492046</td><td>-0.02349507</td><td>-0.089532234</td><td> 0.02031280</td><td> 0.31694555</td><td>-0.04581656</td><td>-0.03938806</td><td>-0.05873729</td></tr>\n",
       "\t<tr><th scope=row>VeryActiveDistance</th><td> 0.68137729</td><td> 0.70869229</td><td> 0.70773166</td><td> 0.18767924</td><td> 1.00000000</td><td> 0.22724751</td><td>-0.045201860</td><td> 0.052532919</td><td> 0.84844155</td><td> 0.28844135</td><td>-0.179282964</td><td>-0.01198879</td><td> 0.43857715</td><td>-0.09639342</td><td>-0.10478723</td><td>-0.11229858</td></tr>\n",
       "\t<tr><th scope=row>ModeratelyActiveDistance</th><td> 0.57865880</td><td> 0.55756221</td><td> 0.55625139</td><td> 0.02677244</td><td> 0.22724751</td><td> 1.00000000</td><td> 0.138776100</td><td> 0.065487695</td><td> 0.18550126</td><td> 0.94505469</td><td> 0.015299402</td><td>-0.06370693</td><td> 0.06130298</td><td>-0.06391264</td><td>-0.24696907</td><td>-0.10044811</td></tr>\n",
       "\t<tr><th scope=row>LightActiveDistance</th><td> 0.57304541</td><td> 0.58299320</td><td> 0.58411074</td><td> 0.06202908</td><td>-0.04520186</td><td> 0.13877610</td><td> 1.000000000</td><td> 0.001325871</td><td>-0.07480343</td><td> 0.07576436</td><td> 0.847541788</td><td>-0.28806259</td><td> 0.30978713</td><td>-0.10696561</td><td>-0.05613449</td><td>-0.10439555</td></tr>\n",
       "\t<tr><th scope=row>SedentaryActiveDistance</th><td> 0.04666284</td><td> 0.05962461</td><td> 0.03924781</td><td> 0.38202670</td><td> 0.05253292</td><td> 0.06548769</td><td> 0.001325871</td><td> 1.000000000</td><td> 0.01875910</td><td> 0.02710467</td><td> 0.004399669</td><td> 0.03653652</td><td> 0.02712032</td><td>-0.03717469</td><td>-0.03879036</td><td>-0.05475813</td></tr>\n",
       "\t<tr><th scope=row>VeryActiveMinutes</th><td> 0.54275096</td><td> 0.57694278</td><td> 0.57663475</td><td> 0.33492046</td><td> 0.84844155</td><td> 0.18550126</td><td>-0.074803434</td><td> 0.018759096</td><td> 1.00000000</td><td> 0.32063836</td><td>-0.220186365</td><td>-0.03663081</td><td> 0.61524692</td><td>-0.12123745</td><td>-0.08998173</td><td>-0.11143891</td></tr>\n",
       "\t<tr><th scope=row>FairlyActiveMinutes</th><td> 0.56707366</td><td> 0.54701950</td><td> 0.54717729</td><td>-0.02349507</td><td> 0.28844135</td><td> 0.94505469</td><td> 0.075764356</td><td> 0.027104671</td><td> 0.32063836</td><td> 1.00000000</td><td>-0.031935558</td><td>-0.06555160</td><td> 0.16681373</td><td>-0.07885761</td><td>-0.25187293</td><td>-0.11648039</td></tr>\n",
       "\t<tr><th scope=row>LightlyActiveMinutes</th><td> 0.39924315</td><td> 0.36603451</td><td> 0.36655074</td><td>-0.08953223</td><td>-0.17928296</td><td> 0.01529940</td><td> 0.847541788</td><td> 0.004399669</td><td>-0.22018637</td><td>-0.03193556</td><td> 1.000000000</td><td>-0.35480862</td><td> 0.07362832</td><td>-0.08014272</td><td> 0.02238232</td><td>-0.03475698</td></tr>\n",
       "\t<tr><th scope=row>SedentaryMinutes</th><td>-0.19602623</td><td>-0.19069232</td><td>-0.19080266</td><td> 0.02031280</td><td>-0.01198879</td><td>-0.06370693</td><td>-0.288062585</td><td> 0.036536525</td><td>-0.03663081</td><td>-0.06555160</td><td>-0.354808618</td><td> 1.00000000</td><td> 0.02788161</td><td>-0.05478888</td><td>-0.64910415</td><td>-0.66886366</td></tr>\n",
       "\t<tr><th scope=row>Calories</th><td> 0.38611310</td><td> 0.50597357</td><td> 0.50726674</td><td> 0.31694555</td><td> 0.43857715</td><td> 0.06130298</td><td> 0.309787134</td><td> 0.027120318</td><td> 0.61524692</td><td> 0.16681373</td><td> 0.073628324</td><td> 0.02788161</td><td> 1.00000000</td><td>-0.05562929</td><td>-0.03912448</td><td>-0.14455712</td></tr>\n",
       "\t<tr><th scope=row>TotalSleepRecords</th><td>-0.16767894</td><td>-0.14864290</td><td>-0.14829069</td><td>-0.04581656</td><td>-0.09639342</td><td>-0.06391264</td><td>-0.106965607</td><td>-0.037174694</td><td>-0.12123745</td><td>-0.07885761</td><td>-0.080142718</td><td>-0.05478888</td><td>-0.05562929</td><td> 1.00000000</td><td> 0.16655515</td><td> 0.17318760</td></tr>\n",
       "\t<tr><th scope=row>TotalMinutesAsleep</th><td>-0.19784438</td><td>-0.18392863</td><td>-0.18460435</td><td>-0.03938806</td><td>-0.10478723</td><td>-0.24696907</td><td>-0.056134489</td><td>-0.038790365</td><td>-0.08998173</td><td>-0.25187293</td><td> 0.022382319</td><td>-0.64910415</td><td>-0.03912448</td><td> 0.16655515</td><td> 1.00000000</td><td> 0.93028673</td></tr>\n",
       "\t<tr><th scope=row>TotalTimeInBed</th><td>-0.17306838</td><td>-0.16764852</td><td>-0.16784464</td><td>-0.05873729</td><td>-0.11229858</td><td>-0.10044811</td><td>-0.104395552</td><td>-0.054758130</td><td>-0.11143891</td><td>-0.11648039</td><td>-0.034756979</td><td>-0.66886366</td><td>-0.14455712</td><td> 0.17318760</td><td> 0.93028673</td><td> 1.00000000</td></tr>\n",
       "</tbody>\n",
       "</table>\n"
      ],
      "text/latex": [
       "A matrix: 16 × 16 of type dbl\n",
       "\\begin{tabular}{r|llllllllllllllll}\n",
       "  & TotalSteps & TotalDistance & TrackerDistance & LoggedActivitiesDistance & VeryActiveDistance & ModeratelyActiveDistance & LightActiveDistance & SedentaryActiveDistance & VeryActiveMinutes & FairlyActiveMinutes & LightlyActiveMinutes & SedentaryMinutes & Calories & TotalSleepRecords & TotalMinutesAsleep & TotalTimeInBed\\\\\n",
       "\\hline\n",
       "\tTotalSteps &  1.00000000 &  0.98131930 &  0.98145022 &  0.11301319 &  0.68137729 &  0.57865880 &  0.573045414 &  0.046662840 &  0.54275096 &  0.56707366 &  0.399243153 & -0.19602623 &  0.38611310 & -0.16767894 & -0.19784438 & -0.17306838\\\\\n",
       "\tTotalDistance &  0.98131930 &  1.00000000 &  0.99954443 &  0.16690409 &  0.70869229 &  0.55756221 &  0.582993199 &  0.059624607 &  0.57694278 &  0.54701950 &  0.366034511 & -0.19069232 &  0.50597357 & -0.14864290 & -0.18392863 & -0.16764852\\\\\n",
       "\tTrackerDistance &  0.98145022 &  0.99954443 &  1.00000000 &  0.15444074 &  0.70773166 &  0.55625139 &  0.584110743 &  0.039247807 &  0.57663475 &  0.54717729 &  0.366550739 & -0.19080266 &  0.50726674 & -0.14829069 & -0.18460435 & -0.16784464\\\\\n",
       "\tLoggedActivitiesDistance &  0.11301319 &  0.16690409 &  0.15444074 &  1.00000000 &  0.18767924 &  0.02677244 &  0.062029077 &  0.382026699 &  0.33492046 & -0.02349507 & -0.089532234 &  0.02031280 &  0.31694555 & -0.04581656 & -0.03938806 & -0.05873729\\\\\n",
       "\tVeryActiveDistance &  0.68137729 &  0.70869229 &  0.70773166 &  0.18767924 &  1.00000000 &  0.22724751 & -0.045201860 &  0.052532919 &  0.84844155 &  0.28844135 & -0.179282964 & -0.01198879 &  0.43857715 & -0.09639342 & -0.10478723 & -0.11229858\\\\\n",
       "\tModeratelyActiveDistance &  0.57865880 &  0.55756221 &  0.55625139 &  0.02677244 &  0.22724751 &  1.00000000 &  0.138776100 &  0.065487695 &  0.18550126 &  0.94505469 &  0.015299402 & -0.06370693 &  0.06130298 & -0.06391264 & -0.24696907 & -0.10044811\\\\\n",
       "\tLightActiveDistance &  0.57304541 &  0.58299320 &  0.58411074 &  0.06202908 & -0.04520186 &  0.13877610 &  1.000000000 &  0.001325871 & -0.07480343 &  0.07576436 &  0.847541788 & -0.28806259 &  0.30978713 & -0.10696561 & -0.05613449 & -0.10439555\\\\\n",
       "\tSedentaryActiveDistance &  0.04666284 &  0.05962461 &  0.03924781 &  0.38202670 &  0.05253292 &  0.06548769 &  0.001325871 &  1.000000000 &  0.01875910 &  0.02710467 &  0.004399669 &  0.03653652 &  0.02712032 & -0.03717469 & -0.03879036 & -0.05475813\\\\\n",
       "\tVeryActiveMinutes &  0.54275096 &  0.57694278 &  0.57663475 &  0.33492046 &  0.84844155 &  0.18550126 & -0.074803434 &  0.018759096 &  1.00000000 &  0.32063836 & -0.220186365 & -0.03663081 &  0.61524692 & -0.12123745 & -0.08998173 & -0.11143891\\\\\n",
       "\tFairlyActiveMinutes &  0.56707366 &  0.54701950 &  0.54717729 & -0.02349507 &  0.28844135 &  0.94505469 &  0.075764356 &  0.027104671 &  0.32063836 &  1.00000000 & -0.031935558 & -0.06555160 &  0.16681373 & -0.07885761 & -0.25187293 & -0.11648039\\\\\n",
       "\tLightlyActiveMinutes &  0.39924315 &  0.36603451 &  0.36655074 & -0.08953223 & -0.17928296 &  0.01529940 &  0.847541788 &  0.004399669 & -0.22018637 & -0.03193556 &  1.000000000 & -0.35480862 &  0.07362832 & -0.08014272 &  0.02238232 & -0.03475698\\\\\n",
       "\tSedentaryMinutes & -0.19602623 & -0.19069232 & -0.19080266 &  0.02031280 & -0.01198879 & -0.06370693 & -0.288062585 &  0.036536525 & -0.03663081 & -0.06555160 & -0.354808618 &  1.00000000 &  0.02788161 & -0.05478888 & -0.64910415 & -0.66886366\\\\\n",
       "\tCalories &  0.38611310 &  0.50597357 &  0.50726674 &  0.31694555 &  0.43857715 &  0.06130298 &  0.309787134 &  0.027120318 &  0.61524692 &  0.16681373 &  0.073628324 &  0.02788161 &  1.00000000 & -0.05562929 & -0.03912448 & -0.14455712\\\\\n",
       "\tTotalSleepRecords & -0.16767894 & -0.14864290 & -0.14829069 & -0.04581656 & -0.09639342 & -0.06391264 & -0.106965607 & -0.037174694 & -0.12123745 & -0.07885761 & -0.080142718 & -0.05478888 & -0.05562929 &  1.00000000 &  0.16655515 &  0.17318760\\\\\n",
       "\tTotalMinutesAsleep & -0.19784438 & -0.18392863 & -0.18460435 & -0.03938806 & -0.10478723 & -0.24696907 & -0.056134489 & -0.038790365 & -0.08998173 & -0.25187293 &  0.022382319 & -0.64910415 & -0.03912448 &  0.16655515 &  1.00000000 &  0.93028673\\\\\n",
       "\tTotalTimeInBed & -0.17306838 & -0.16764852 & -0.16784464 & -0.05873729 & -0.11229858 & -0.10044811 & -0.104395552 & -0.054758130 & -0.11143891 & -0.11648039 & -0.034756979 & -0.66886366 & -0.14455712 &  0.17318760 &  0.93028673 &  1.00000000\\\\\n",
       "\\end{tabular}\n"
      ],
      "text/markdown": [
       "\n",
       "A matrix: 16 × 16 of type dbl\n",
       "\n",
       "| <!--/--> | TotalSteps | TotalDistance | TrackerDistance | LoggedActivitiesDistance | VeryActiveDistance | ModeratelyActiveDistance | LightActiveDistance | SedentaryActiveDistance | VeryActiveMinutes | FairlyActiveMinutes | LightlyActiveMinutes | SedentaryMinutes | Calories | TotalSleepRecords | TotalMinutesAsleep | TotalTimeInBed |\n",
       "|---|---|---|---|---|---|---|---|---|---|---|---|---|---|---|---|---|\n",
       "| TotalSteps |  1.00000000 |  0.98131930 |  0.98145022 |  0.11301319 |  0.68137729 |  0.57865880 |  0.573045414 |  0.046662840 |  0.54275096 |  0.56707366 |  0.399243153 | -0.19602623 |  0.38611310 | -0.16767894 | -0.19784438 | -0.17306838 |\n",
       "| TotalDistance |  0.98131930 |  1.00000000 |  0.99954443 |  0.16690409 |  0.70869229 |  0.55756221 |  0.582993199 |  0.059624607 |  0.57694278 |  0.54701950 |  0.366034511 | -0.19069232 |  0.50597357 | -0.14864290 | -0.18392863 | -0.16764852 |\n",
       "| TrackerDistance |  0.98145022 |  0.99954443 |  1.00000000 |  0.15444074 |  0.70773166 |  0.55625139 |  0.584110743 |  0.039247807 |  0.57663475 |  0.54717729 |  0.366550739 | -0.19080266 |  0.50726674 | -0.14829069 | -0.18460435 | -0.16784464 |\n",
       "| LoggedActivitiesDistance |  0.11301319 |  0.16690409 |  0.15444074 |  1.00000000 |  0.18767924 |  0.02677244 |  0.062029077 |  0.382026699 |  0.33492046 | -0.02349507 | -0.089532234 |  0.02031280 |  0.31694555 | -0.04581656 | -0.03938806 | -0.05873729 |\n",
       "| VeryActiveDistance |  0.68137729 |  0.70869229 |  0.70773166 |  0.18767924 |  1.00000000 |  0.22724751 | -0.045201860 |  0.052532919 |  0.84844155 |  0.28844135 | -0.179282964 | -0.01198879 |  0.43857715 | -0.09639342 | -0.10478723 | -0.11229858 |\n",
       "| ModeratelyActiveDistance |  0.57865880 |  0.55756221 |  0.55625139 |  0.02677244 |  0.22724751 |  1.00000000 |  0.138776100 |  0.065487695 |  0.18550126 |  0.94505469 |  0.015299402 | -0.06370693 |  0.06130298 | -0.06391264 | -0.24696907 | -0.10044811 |\n",
       "| LightActiveDistance |  0.57304541 |  0.58299320 |  0.58411074 |  0.06202908 | -0.04520186 |  0.13877610 |  1.000000000 |  0.001325871 | -0.07480343 |  0.07576436 |  0.847541788 | -0.28806259 |  0.30978713 | -0.10696561 | -0.05613449 | -0.10439555 |\n",
       "| SedentaryActiveDistance |  0.04666284 |  0.05962461 |  0.03924781 |  0.38202670 |  0.05253292 |  0.06548769 |  0.001325871 |  1.000000000 |  0.01875910 |  0.02710467 |  0.004399669 |  0.03653652 |  0.02712032 | -0.03717469 | -0.03879036 | -0.05475813 |\n",
       "| VeryActiveMinutes |  0.54275096 |  0.57694278 |  0.57663475 |  0.33492046 |  0.84844155 |  0.18550126 | -0.074803434 |  0.018759096 |  1.00000000 |  0.32063836 | -0.220186365 | -0.03663081 |  0.61524692 | -0.12123745 | -0.08998173 | -0.11143891 |\n",
       "| FairlyActiveMinutes |  0.56707366 |  0.54701950 |  0.54717729 | -0.02349507 |  0.28844135 |  0.94505469 |  0.075764356 |  0.027104671 |  0.32063836 |  1.00000000 | -0.031935558 | -0.06555160 |  0.16681373 | -0.07885761 | -0.25187293 | -0.11648039 |\n",
       "| LightlyActiveMinutes |  0.39924315 |  0.36603451 |  0.36655074 | -0.08953223 | -0.17928296 |  0.01529940 |  0.847541788 |  0.004399669 | -0.22018637 | -0.03193556 |  1.000000000 | -0.35480862 |  0.07362832 | -0.08014272 |  0.02238232 | -0.03475698 |\n",
       "| SedentaryMinutes | -0.19602623 | -0.19069232 | -0.19080266 |  0.02031280 | -0.01198879 | -0.06370693 | -0.288062585 |  0.036536525 | -0.03663081 | -0.06555160 | -0.354808618 |  1.00000000 |  0.02788161 | -0.05478888 | -0.64910415 | -0.66886366 |\n",
       "| Calories |  0.38611310 |  0.50597357 |  0.50726674 |  0.31694555 |  0.43857715 |  0.06130298 |  0.309787134 |  0.027120318 |  0.61524692 |  0.16681373 |  0.073628324 |  0.02788161 |  1.00000000 | -0.05562929 | -0.03912448 | -0.14455712 |\n",
       "| TotalSleepRecords | -0.16767894 | -0.14864290 | -0.14829069 | -0.04581656 | -0.09639342 | -0.06391264 | -0.106965607 | -0.037174694 | -0.12123745 | -0.07885761 | -0.080142718 | -0.05478888 | -0.05562929 |  1.00000000 |  0.16655515 |  0.17318760 |\n",
       "| TotalMinutesAsleep | -0.19784438 | -0.18392863 | -0.18460435 | -0.03938806 | -0.10478723 | -0.24696907 | -0.056134489 | -0.038790365 | -0.08998173 | -0.25187293 |  0.022382319 | -0.64910415 | -0.03912448 |  0.16655515 |  1.00000000 |  0.93028673 |\n",
       "| TotalTimeInBed | -0.17306838 | -0.16764852 | -0.16784464 | -0.05873729 | -0.11229858 | -0.10044811 | -0.104395552 | -0.054758130 | -0.11143891 | -0.11648039 | -0.034756979 | -0.66886366 | -0.14455712 |  0.17318760 |  0.93028673 |  1.00000000 |\n",
       "\n"
      ],
      "text/plain": [
       "                         TotalSteps  TotalDistance TrackerDistance\n",
       "TotalSteps                1.00000000  0.98131930    0.98145022    \n",
       "TotalDistance             0.98131930  1.00000000    0.99954443    \n",
       "TrackerDistance           0.98145022  0.99954443    1.00000000    \n",
       "LoggedActivitiesDistance  0.11301319  0.16690409    0.15444074    \n",
       "VeryActiveDistance        0.68137729  0.70869229    0.70773166    \n",
       "ModeratelyActiveDistance  0.57865880  0.55756221    0.55625139    \n",
       "LightActiveDistance       0.57304541  0.58299320    0.58411074    \n",
       "SedentaryActiveDistance   0.04666284  0.05962461    0.03924781    \n",
       "VeryActiveMinutes         0.54275096  0.57694278    0.57663475    \n",
       "FairlyActiveMinutes       0.56707366  0.54701950    0.54717729    \n",
       "LightlyActiveMinutes      0.39924315  0.36603451    0.36655074    \n",
       "SedentaryMinutes         -0.19602623 -0.19069232   -0.19080266    \n",
       "Calories                  0.38611310  0.50597357    0.50726674    \n",
       "TotalSleepRecords        -0.16767894 -0.14864290   -0.14829069    \n",
       "TotalMinutesAsleep       -0.19784438 -0.18392863   -0.18460435    \n",
       "TotalTimeInBed           -0.17306838 -0.16764852   -0.16784464    \n",
       "                         LoggedActivitiesDistance VeryActiveDistance\n",
       "TotalSteps                0.11301319               0.68137729       \n",
       "TotalDistance             0.16690409               0.70869229       \n",
       "TrackerDistance           0.15444074               0.70773166       \n",
       "LoggedActivitiesDistance  1.00000000               0.18767924       \n",
       "VeryActiveDistance        0.18767924               1.00000000       \n",
       "ModeratelyActiveDistance  0.02677244               0.22724751       \n",
       "LightActiveDistance       0.06202908              -0.04520186       \n",
       "SedentaryActiveDistance   0.38202670               0.05253292       \n",
       "VeryActiveMinutes         0.33492046               0.84844155       \n",
       "FairlyActiveMinutes      -0.02349507               0.28844135       \n",
       "LightlyActiveMinutes     -0.08953223              -0.17928296       \n",
       "SedentaryMinutes          0.02031280              -0.01198879       \n",
       "Calories                  0.31694555               0.43857715       \n",
       "TotalSleepRecords        -0.04581656              -0.09639342       \n",
       "TotalMinutesAsleep       -0.03938806              -0.10478723       \n",
       "TotalTimeInBed           -0.05873729              -0.11229858       \n",
       "                         ModeratelyActiveDistance LightActiveDistance\n",
       "TotalSteps                0.57865880               0.573045414       \n",
       "TotalDistance             0.55756221               0.582993199       \n",
       "TrackerDistance           0.55625139               0.584110743       \n",
       "LoggedActivitiesDistance  0.02677244               0.062029077       \n",
       "VeryActiveDistance        0.22724751              -0.045201860       \n",
       "ModeratelyActiveDistance  1.00000000               0.138776100       \n",
       "LightActiveDistance       0.13877610               1.000000000       \n",
       "SedentaryActiveDistance   0.06548769               0.001325871       \n",
       "VeryActiveMinutes         0.18550126              -0.074803434       \n",
       "FairlyActiveMinutes       0.94505469               0.075764356       \n",
       "LightlyActiveMinutes      0.01529940               0.847541788       \n",
       "SedentaryMinutes         -0.06370693              -0.288062585       \n",
       "Calories                  0.06130298               0.309787134       \n",
       "TotalSleepRecords        -0.06391264              -0.106965607       \n",
       "TotalMinutesAsleep       -0.24696907              -0.056134489       \n",
       "TotalTimeInBed           -0.10044811              -0.104395552       \n",
       "                         SedentaryActiveDistance VeryActiveMinutes\n",
       "TotalSteps                0.046662840             0.54275096      \n",
       "TotalDistance             0.059624607             0.57694278      \n",
       "TrackerDistance           0.039247807             0.57663475      \n",
       "LoggedActivitiesDistance  0.382026699             0.33492046      \n",
       "VeryActiveDistance        0.052532919             0.84844155      \n",
       "ModeratelyActiveDistance  0.065487695             0.18550126      \n",
       "LightActiveDistance       0.001325871            -0.07480343      \n",
       "SedentaryActiveDistance   1.000000000             0.01875910      \n",
       "VeryActiveMinutes         0.018759096             1.00000000      \n",
       "FairlyActiveMinutes       0.027104671             0.32063836      \n",
       "LightlyActiveMinutes      0.004399669            -0.22018637      \n",
       "SedentaryMinutes          0.036536525            -0.03663081      \n",
       "Calories                  0.027120318             0.61524692      \n",
       "TotalSleepRecords        -0.037174694            -0.12123745      \n",
       "TotalMinutesAsleep       -0.038790365            -0.08998173      \n",
       "TotalTimeInBed           -0.054758130            -0.11143891      \n",
       "                         FairlyActiveMinutes LightlyActiveMinutes\n",
       "TotalSteps                0.56707366          0.399243153        \n",
       "TotalDistance             0.54701950          0.366034511        \n",
       "TrackerDistance           0.54717729          0.366550739        \n",
       "LoggedActivitiesDistance -0.02349507         -0.089532234        \n",
       "VeryActiveDistance        0.28844135         -0.179282964        \n",
       "ModeratelyActiveDistance  0.94505469          0.015299402        \n",
       "LightActiveDistance       0.07576436          0.847541788        \n",
       "SedentaryActiveDistance   0.02710467          0.004399669        \n",
       "VeryActiveMinutes         0.32063836         -0.220186365        \n",
       "FairlyActiveMinutes       1.00000000         -0.031935558        \n",
       "LightlyActiveMinutes     -0.03193556          1.000000000        \n",
       "SedentaryMinutes         -0.06555160         -0.354808618        \n",
       "Calories                  0.16681373          0.073628324        \n",
       "TotalSleepRecords        -0.07885761         -0.080142718        \n",
       "TotalMinutesAsleep       -0.25187293          0.022382319        \n",
       "TotalTimeInBed           -0.11648039         -0.034756979        \n",
       "                         SedentaryMinutes Calories    TotalSleepRecords\n",
       "TotalSteps               -0.19602623       0.38611310 -0.16767894      \n",
       "TotalDistance            -0.19069232       0.50597357 -0.14864290      \n",
       "TrackerDistance          -0.19080266       0.50726674 -0.14829069      \n",
       "LoggedActivitiesDistance  0.02031280       0.31694555 -0.04581656      \n",
       "VeryActiveDistance       -0.01198879       0.43857715 -0.09639342      \n",
       "ModeratelyActiveDistance -0.06370693       0.06130298 -0.06391264      \n",
       "LightActiveDistance      -0.28806259       0.30978713 -0.10696561      \n",
       "SedentaryActiveDistance   0.03653652       0.02712032 -0.03717469      \n",
       "VeryActiveMinutes        -0.03663081       0.61524692 -0.12123745      \n",
       "FairlyActiveMinutes      -0.06555160       0.16681373 -0.07885761      \n",
       "LightlyActiveMinutes     -0.35480862       0.07362832 -0.08014272      \n",
       "SedentaryMinutes          1.00000000       0.02788161 -0.05478888      \n",
       "Calories                  0.02788161       1.00000000 -0.05562929      \n",
       "TotalSleepRecords        -0.05478888      -0.05562929  1.00000000      \n",
       "TotalMinutesAsleep       -0.64910415      -0.03912448  0.16655515      \n",
       "TotalTimeInBed           -0.66886366      -0.14455712  0.17318760      \n",
       "                         TotalMinutesAsleep TotalTimeInBed\n",
       "TotalSteps               -0.19784438        -0.17306838   \n",
       "TotalDistance            -0.18392863        -0.16764852   \n",
       "TrackerDistance          -0.18460435        -0.16784464   \n",
       "LoggedActivitiesDistance -0.03938806        -0.05873729   \n",
       "VeryActiveDistance       -0.10478723        -0.11229858   \n",
       "ModeratelyActiveDistance -0.24696907        -0.10044811   \n",
       "LightActiveDistance      -0.05613449        -0.10439555   \n",
       "SedentaryActiveDistance  -0.03879036        -0.05475813   \n",
       "VeryActiveMinutes        -0.08998173        -0.11143891   \n",
       "FairlyActiveMinutes      -0.25187293        -0.11648039   \n",
       "LightlyActiveMinutes      0.02238232        -0.03475698   \n",
       "SedentaryMinutes         -0.64910415        -0.66886366   \n",
       "Calories                 -0.03912448        -0.14455712   \n",
       "TotalSleepRecords         0.16655515         0.17318760   \n",
       "TotalMinutesAsleep        1.00000000         0.93028673   \n",
       "TotalTimeInBed            0.93028673         1.00000000   "
      ]
     },
     "metadata": {},
     "output_type": "display_data"
    }
   ],
   "source": [
    "# Identify trends in sleep htrough correlation and day of week\n",
    "activity_sleep$Weekday = weekdays(activity_sleep$Datet)\n",
    "activity_sleep <- na.omit(activity_sleep)\n",
    "cor(subset(activity_sleep, select = -c(Id, Dt.x, Dt.y, Datet, Weekday)))\n",
    "hours_asleep <- activity_sleep %>%\n",
    "    group_by(Id) %>%\n",
    "    summarise(AvgHoursAsleep= round(mean(TotalMinutesAsleep/60),1))"
   ]
  },
  {
   "cell_type": "markdown",
   "id": "862caaaa",
   "metadata": {},
   "source": [
    "It seems that the only strongly correlated value for time spent asleep is sedentary minutes."
   ]
  },
  {
   "cell_type": "code",
   "execution_count": 49,
   "id": "1f8b63fe",
   "metadata": {},
   "outputs": [
    {
     "data": {
      "text/html": [
       "<table class=\"dataframe\">\n",
       "<caption>A tibble: 24 × 2</caption>\n",
       "<thead>\n",
       "\t<tr><th scope=col>Id</th><th scope=col>AvgHoursAsleep</th></tr>\n",
       "\t<tr><th scope=col>&lt;fct&gt;</th><th scope=col>&lt;dbl&gt;</th></tr>\n",
       "</thead>\n",
       "<tbody>\n",
       "\t<tr><td>1503960366</td><td> 6.0</td></tr>\n",
       "\t<tr><td>1644430081</td><td> 4.9</td></tr>\n",
       "\t<tr><td>1844505072</td><td>10.9</td></tr>\n",
       "\t<tr><td>1927972279</td><td> 7.0</td></tr>\n",
       "\t<tr><td>2026352035</td><td> 8.4</td></tr>\n",
       "\t<tr><td>2320127002</td><td> 1.0</td></tr>\n",
       "\t<tr><td>2347167796</td><td> 7.5</td></tr>\n",
       "\t<tr><td>3977333714</td><td> 4.9</td></tr>\n",
       "\t<tr><td>4020332650</td><td> 5.8</td></tr>\n",
       "\t<tr><td>4319703577</td><td> 8.1</td></tr>\n",
       "\t<tr><td>4388161847</td><td> 6.7</td></tr>\n",
       "\t<tr><td>4445114986</td><td> 6.4</td></tr>\n",
       "\t<tr><td>4558609924</td><td> 2.1</td></tr>\n",
       "\t<tr><td>4702921684</td><td> 7.0</td></tr>\n",
       "\t<tr><td>5553957443</td><td> 7.7</td></tr>\n",
       "\t<tr><td>5577150313</td><td> 7.2</td></tr>\n",
       "\t<tr><td>6117666160</td><td> 8.0</td></tr>\n",
       "\t<tr><td>6775888955</td><td> 5.8</td></tr>\n",
       "\t<tr><td>6962181067</td><td> 7.5</td></tr>\n",
       "\t<tr><td>7007744171</td><td> 1.1</td></tr>\n",
       "\t<tr><td>7086361926</td><td> 7.6</td></tr>\n",
       "\t<tr><td>8053475328</td><td> 5.0</td></tr>\n",
       "\t<tr><td>8378563200</td><td> 7.4</td></tr>\n",
       "\t<tr><td>8792009665</td><td> 7.3</td></tr>\n",
       "</tbody>\n",
       "</table>\n"
      ],
      "text/latex": [
       "A tibble: 24 × 2\n",
       "\\begin{tabular}{ll}\n",
       " Id & AvgHoursAsleep\\\\\n",
       " <fct> & <dbl>\\\\\n",
       "\\hline\n",
       "\t 1503960366 &  6.0\\\\\n",
       "\t 1644430081 &  4.9\\\\\n",
       "\t 1844505072 & 10.9\\\\\n",
       "\t 1927972279 &  7.0\\\\\n",
       "\t 2026352035 &  8.4\\\\\n",
       "\t 2320127002 &  1.0\\\\\n",
       "\t 2347167796 &  7.5\\\\\n",
       "\t 3977333714 &  4.9\\\\\n",
       "\t 4020332650 &  5.8\\\\\n",
       "\t 4319703577 &  8.1\\\\\n",
       "\t 4388161847 &  6.7\\\\\n",
       "\t 4445114986 &  6.4\\\\\n",
       "\t 4558609924 &  2.1\\\\\n",
       "\t 4702921684 &  7.0\\\\\n",
       "\t 5553957443 &  7.7\\\\\n",
       "\t 5577150313 &  7.2\\\\\n",
       "\t 6117666160 &  8.0\\\\\n",
       "\t 6775888955 &  5.8\\\\\n",
       "\t 6962181067 &  7.5\\\\\n",
       "\t 7007744171 &  1.1\\\\\n",
       "\t 7086361926 &  7.6\\\\\n",
       "\t 8053475328 &  5.0\\\\\n",
       "\t 8378563200 &  7.4\\\\\n",
       "\t 8792009665 &  7.3\\\\\n",
       "\\end{tabular}\n"
      ],
      "text/markdown": [
       "\n",
       "A tibble: 24 × 2\n",
       "\n",
       "| Id &lt;fct&gt; | AvgHoursAsleep &lt;dbl&gt; |\n",
       "|---|---|\n",
       "| 1503960366 |  6.0 |\n",
       "| 1644430081 |  4.9 |\n",
       "| 1844505072 | 10.9 |\n",
       "| 1927972279 |  7.0 |\n",
       "| 2026352035 |  8.4 |\n",
       "| 2320127002 |  1.0 |\n",
       "| 2347167796 |  7.5 |\n",
       "| 3977333714 |  4.9 |\n",
       "| 4020332650 |  5.8 |\n",
       "| 4319703577 |  8.1 |\n",
       "| 4388161847 |  6.7 |\n",
       "| 4445114986 |  6.4 |\n",
       "| 4558609924 |  2.1 |\n",
       "| 4702921684 |  7.0 |\n",
       "| 5553957443 |  7.7 |\n",
       "| 5577150313 |  7.2 |\n",
       "| 6117666160 |  8.0 |\n",
       "| 6775888955 |  5.8 |\n",
       "| 6962181067 |  7.5 |\n",
       "| 7007744171 |  1.1 |\n",
       "| 7086361926 |  7.6 |\n",
       "| 8053475328 |  5.0 |\n",
       "| 8378563200 |  7.4 |\n",
       "| 8792009665 |  7.3 |\n",
       "\n"
      ],
      "text/plain": [
       "   Id         AvgHoursAsleep\n",
       "1  1503960366  6.0          \n",
       "2  1644430081  4.9          \n",
       "3  1844505072 10.9          \n",
       "4  1927972279  7.0          \n",
       "5  2026352035  8.4          \n",
       "6  2320127002  1.0          \n",
       "7  2347167796  7.5          \n",
       "8  3977333714  4.9          \n",
       "9  4020332650  5.8          \n",
       "10 4319703577  8.1          \n",
       "11 4388161847  6.7          \n",
       "12 4445114986  6.4          \n",
       "13 4558609924  2.1          \n",
       "14 4702921684  7.0          \n",
       "15 5553957443  7.7          \n",
       "16 5577150313  7.2          \n",
       "17 6117666160  8.0          \n",
       "18 6775888955  5.8          \n",
       "19 6962181067  7.5          \n",
       "20 7007744171  1.1          \n",
       "21 7086361926  7.6          \n",
       "22 8053475328  5.0          \n",
       "23 8378563200  7.4          \n",
       "24 8792009665  7.3          "
      ]
     },
     "metadata": {},
     "output_type": "display_data"
    },
    {
     "data": {
      "text/html": [
       "4"
      ],
      "text/latex": [
       "4"
      ],
      "text/markdown": [
       "4"
      ],
      "text/plain": [
       "[1] 4"
      ]
     },
     "metadata": {},
     "output_type": "display_data"
    },
    {
     "data": {
      "text/html": [
       "5"
      ],
      "text/latex": [
       "5"
      ],
      "text/markdown": [
       "5"
      ],
      "text/plain": [
       "[1] 5"
      ]
     },
     "metadata": {},
     "output_type": "display_data"
    }
   ],
   "source": [
    "# find average sleep time for users\n",
    "hours_asleep\n",
    "length(grep(TRUE, hours_asleep$AvgHoursAsleep >= 8))\n",
    "length(grep(TRUE, hours_asleep$AvgHoursAsleep < 5))"
   ]
  },
  {
   "cell_type": "code",
   "execution_count": 50,
   "id": "44042542",
   "metadata": {},
   "outputs": [
    {
     "data": {
      "image/png": "[encoded data removed]",
      "text/plain": [
       "plot without title"
      ]
     },
     "metadata": {
      "image/png": {
       "height": 600,
       "width": 840
      }
     },
     "output_type": "display_data"
    }
   ],
   "source": [
    "#plot day of week vs average amount of sleep\n",
    "sleep_by_weekday <- activity_sleep %>%\n",
    "    group_by(Weekday) %>%\n",
    "    summarise(HoursAsleep= round(mean(TotalMinutesAsleep/60),2))\n",
    "\n",
    "ggplot(sleep_by_weekday) +\n",
    "    geom_bar(stat = \"identity\", aes(x= Weekday, y= HoursAsleep), fill = \"#ED9D4A\")+ \n",
    "    geom_hline(yintercept= 8, color= \"black\", size= .25) +\n",
    "    annotate(\"text\", x = 1, y= 7.75, label = \"8 hours\") +\n",
    "    labs(title = \"Time Spent Asleep Per Weekday\", x = \"Weekday\") + \n",
    "    guides(x = \"none\") +\n",
    "    theme(text = element_text(size = 15))    "
   ]
  },
  {
   "cell_type": "code",
   "execution_count": 51,
   "id": "01c35c93",
   "metadata": {},
   "outputs": [
    {
     "name": "stderr",
     "output_type": "stream",
     "text": [
      "`geom_smooth()` using formula 'y ~ x'\n",
      "\n"
     ]
    },
    {
     "data": {
      "image/png": "[encoded data removed]",
      "text/plain": [
       "plot without title"
      ]
     },
     "metadata": {
      "image/png": {
       "height": 600,
       "width": 840
      }
     },
     "output_type": "display_data"
    }
   ],
   "source": [
    "# plotting highest correlated value (sedentary minutes) with Time spent asleeep\n",
    "ggplot(activity_sleep, aes(x= SedentaryMinutes, y= TotalMinutesAsleep)) + \n",
    "    geom_point(size= 3, color=\"#ED9D4A\") +\n",
    "    geom_smooth(method= 'lm', color= 'blue') +\n",
    "    geom_hline(yintercept= 480, color= \"black\", size= .25) +\n",
    "    annotate(\"text\", x = 50, y= 470, label = \"8 hours\") +\n",
    "    labs(title = \"Time Spent Asleep vs. Sedentary Minutes\", x = \"Minutes\", y = \"Minutes\") + \n",
    "    theme(text = element_text(size = 15) ) "
   ]
  },
  {
   "cell_type": "markdown",
   "id": "c587f9f8",
   "metadata": {},
   "source": [
    "This sleep data tells us much about the particapants. Only 4 get the recommended 8 hours of sleep and 5 get less than 5 hours. Sleep has been showed to be tied with appetite, metabolism, obesity, physical activity, and weight loss [[4]](#cite_4). There has been a steady trend over the past decades that show as sleep time has steadliy decreased, BMI has increased. We also see that the more a person spends sedentary, the less sleep they get. As execrise can be associated with better and longer sleep habits, it is important to implement strategies that get people more active to prove this correlation. This area of health could be the most impacted by health managment products as increasing the amount a person sleeps can affect almost all other aspect of health."
   ]
  },
  {
   "cell_type": "markdown",
   "id": "08b89d1d",
   "metadata": {},
   "source": [
    "----\n",
    "## <span style=\"color:#ED9D4A\">5. Conclusion </span>  <a class=\"anchor\" id=\"head_5\"></a>"
   ]
  },
  {
   "cell_type": "markdown",
   "id": "5d5fb29e",
   "metadata": {},
   "source": [
    "### <span style=\"color:#ED9D4A\">5.1 Insights</span>  <a class=\"anchor\" id=\"head_5_1\"></a>\n",
    "\n",
    "\n",
    "* Introducing more **short high intensity activities**, that have instructions or a programs attached, could give users the guidance and motivation to become more active.\n",
    "\n",
    "\n",
    "* Strategies that encourge **less sedentary time**, through reminders or incentives, can keep users more invested and mindful about their health journey.\n",
    "\n",
    "\n",
    "* Notification that remind users to wind down and prepare for bed as well as tools to help people **fall asleep and stay asleep**, through relaxation excerises or meditation, can have a strong impact on health outcomes."
   ]
  },
  {
   "cell_type": "markdown",
   "id": "e369f17e",
   "metadata": {},
   "source": [
    "### <span style=\"color:#ED9D4A\">5.2 Strategy</span>  <a class=\"anchor\" id=\"head_5_2\"></a>\n",
    "\n",
    "1. Develop data gathering infrastructure to test and refine product changes\n",
    "2. Refine insights with target market focus into applicable strategy that are within business means\n",
    "3. Test and use data to develop Bellabeat specific insigts"
   ]
  },
  {
   "cell_type": "markdown",
   "id": "ef3ec110",
   "metadata": {},
   "source": [
    "----\n",
    "## <span style=\"color:#ED9D4A\">6. Bibliography </span>  <a class=\"anchor\" id=\"head_6\"></a>\n",
    "\n",
    "[1] “Deploy. Measure. Collect”. Fitabase. Small Steps Labs, LLC. 2018. Web. <a class=\"anchor\" id=\"cite_1\"></a>\n",
    "\n",
    "[2] Ramesh, S., Choe, E., Taylor, C. Survey on Health Device Use by MTurk Participants January 2018. <a class=\"anchor\" id=\"cite_2\"></a>\n",
    "\n",
    "[3] U.S. Department of Agriculture and U.S. Department of Health and Human Services. Dietary Guidelines for Americans, 2020-2025. 9th Edition. December 2020. <a class=\"anchor\" id=\"cite_3\"></a>\n",
    "\n",
    "[4] Newsom, Rob. “Why Is Sleep so Important to Weight Loss?” Sleep Foundation, 9 Oct. 2020, https://www.sleepfoundation.org/physical-health/weight-loss-and-sleep. <a class=\"anchor\" id=\"cite_4\"></a>"
   ]
  },
  {
   "cell_type": "markdown",
   "id": "4ab6ff84",
   "metadata": {},
   "source": [
    "Thank you for reviewing my notebook, please leave a comment with any notes or reccomendations. I would very much appreciate the feedback!"
   ]
  }
 ],
 "metadata": {
  "kernelspec": {
   "display_name": "R 3.3",
   "language": "R",
   "name": "ir33"
  },
  "language_info": {
   "codemirror_mode": "r",
   "file_extension": ".r",
   "mimetype": "text/x-r-source",
   "name": "R",
   "pygments_lexer": "r",
   "version": "4.1.2"
  }
 },
 "nbformat": 4,
 "nbformat_minor": 5
}
